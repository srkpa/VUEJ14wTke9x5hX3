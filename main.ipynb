{
 "cells": [
  {
   "cell_type": "markdown",
   "metadata": {},
   "source": [
    "### IMPORTS\n",
    "---"
   ]
  },
  {
   "cell_type": "code",
   "execution_count": null,
   "metadata": {},
   "outputs": [],
   "source": [
    "## Install these packages if needeed\n",
    "%pip install pandas\n",
    "%pip install ydata-profiling\n",
    "%pip install -U scikit-learn\n",
    "%conda install -c conda-forge imbalanced-learn"
   ]
  },
  {
   "cell_type": "code",
   "execution_count": 1,
   "metadata": {},
   "outputs": [],
   "source": [
    "%load_ext autoreload\n",
    "%autoreload 2\n",
    "\n",
    "from pandas import read_csv, DataFrame\n",
    "from ydata_profiling import ProfileReport\n",
    "from sklearn.model_selection import train_test_split\n",
    "from src.utils import get_model, train_model, test_model, save_model\n",
    "\n",
    "import warnings \n",
    "warnings. filterwarnings('ignore')"
   ]
  },
  {
   "cell_type": "markdown",
   "metadata": {},
   "source": [
    "### DATA\n",
    "---"
   ]
  },
  {
   "cell_type": "code",
   "execution_count": 2,
   "metadata": {},
   "outputs": [
    {
     "data": {
      "text/html": [
       "<div>\n",
       "<style scoped>\n",
       "    .dataframe tbody tr th:only-of-type {\n",
       "        vertical-align: middle;\n",
       "    }\n",
       "\n",
       "    .dataframe tbody tr th {\n",
       "        vertical-align: top;\n",
       "    }\n",
       "\n",
       "    .dataframe thead th {\n",
       "        text-align: right;\n",
       "    }\n",
       "</style>\n",
       "<table border=\"1\" class=\"dataframe\">\n",
       "  <thead>\n",
       "    <tr style=\"text-align: right;\">\n",
       "      <th></th>\n",
       "      <th>age</th>\n",
       "      <th>job</th>\n",
       "      <th>marital</th>\n",
       "      <th>education</th>\n",
       "      <th>default</th>\n",
       "      <th>balance</th>\n",
       "      <th>housing</th>\n",
       "      <th>loan</th>\n",
       "      <th>contact</th>\n",
       "      <th>day</th>\n",
       "      <th>month</th>\n",
       "      <th>duration</th>\n",
       "      <th>campaign</th>\n",
       "      <th>y</th>\n",
       "    </tr>\n",
       "  </thead>\n",
       "  <tbody>\n",
       "    <tr>\n",
       "      <th>0</th>\n",
       "      <td>58</td>\n",
       "      <td>management</td>\n",
       "      <td>married</td>\n",
       "      <td>tertiary</td>\n",
       "      <td>no</td>\n",
       "      <td>2143</td>\n",
       "      <td>yes</td>\n",
       "      <td>no</td>\n",
       "      <td>unknown</td>\n",
       "      <td>5</td>\n",
       "      <td>may</td>\n",
       "      <td>261</td>\n",
       "      <td>1</td>\n",
       "      <td>no</td>\n",
       "    </tr>\n",
       "    <tr>\n",
       "      <th>1</th>\n",
       "      <td>44</td>\n",
       "      <td>technician</td>\n",
       "      <td>single</td>\n",
       "      <td>secondary</td>\n",
       "      <td>no</td>\n",
       "      <td>29</td>\n",
       "      <td>yes</td>\n",
       "      <td>no</td>\n",
       "      <td>unknown</td>\n",
       "      <td>5</td>\n",
       "      <td>may</td>\n",
       "      <td>151</td>\n",
       "      <td>1</td>\n",
       "      <td>no</td>\n",
       "    </tr>\n",
       "    <tr>\n",
       "      <th>2</th>\n",
       "      <td>33</td>\n",
       "      <td>entrepreneur</td>\n",
       "      <td>married</td>\n",
       "      <td>secondary</td>\n",
       "      <td>no</td>\n",
       "      <td>2</td>\n",
       "      <td>yes</td>\n",
       "      <td>yes</td>\n",
       "      <td>unknown</td>\n",
       "      <td>5</td>\n",
       "      <td>may</td>\n",
       "      <td>76</td>\n",
       "      <td>1</td>\n",
       "      <td>no</td>\n",
       "    </tr>\n",
       "    <tr>\n",
       "      <th>3</th>\n",
       "      <td>47</td>\n",
       "      <td>blue-collar</td>\n",
       "      <td>married</td>\n",
       "      <td>unknown</td>\n",
       "      <td>no</td>\n",
       "      <td>1506</td>\n",
       "      <td>yes</td>\n",
       "      <td>no</td>\n",
       "      <td>unknown</td>\n",
       "      <td>5</td>\n",
       "      <td>may</td>\n",
       "      <td>92</td>\n",
       "      <td>1</td>\n",
       "      <td>no</td>\n",
       "    </tr>\n",
       "    <tr>\n",
       "      <th>4</th>\n",
       "      <td>33</td>\n",
       "      <td>unknown</td>\n",
       "      <td>single</td>\n",
       "      <td>unknown</td>\n",
       "      <td>no</td>\n",
       "      <td>1</td>\n",
       "      <td>no</td>\n",
       "      <td>no</td>\n",
       "      <td>unknown</td>\n",
       "      <td>5</td>\n",
       "      <td>may</td>\n",
       "      <td>198</td>\n",
       "      <td>1</td>\n",
       "      <td>no</td>\n",
       "    </tr>\n",
       "  </tbody>\n",
       "</table>\n",
       "</div>"
      ],
      "text/plain": [
       "   age           job  marital  education default  balance housing loan  \\\n",
       "0   58    management  married   tertiary      no     2143     yes   no   \n",
       "1   44    technician   single  secondary      no       29     yes   no   \n",
       "2   33  entrepreneur  married  secondary      no        2     yes  yes   \n",
       "3   47   blue-collar  married    unknown      no     1506     yes   no   \n",
       "4   33       unknown   single    unknown      no        1      no   no   \n",
       "\n",
       "   contact  day month  duration  campaign   y  \n",
       "0  unknown    5   may       261         1  no  \n",
       "1  unknown    5   may       151         1  no  \n",
       "2  unknown    5   may        76         1  no  \n",
       "3  unknown    5   may        92         1  no  \n",
       "4  unknown    5   may       198         1  no  "
      ]
     },
     "execution_count": 2,
     "metadata": {},
     "output_type": "execute_result"
    }
   ],
   "source": [
    "data = read_csv(filepath_or_buffer=\".data/term-deposit-marketing-2020.csv\")\n",
    "data.head()"
   ]
  },
  {
   "cell_type": "code",
   "execution_count": 5,
   "metadata": {},
   "outputs": [
    {
     "data": {
      "text/plain": [
       "Index(['age', 'job', 'marital', 'education', 'default', 'balance', 'housing',\n",
       "       'loan', 'contact', 'day', 'month', 'duration', 'campaign', 'y'],\n",
       "      dtype='object')"
      ]
     },
     "execution_count": 5,
     "metadata": {},
     "output_type": "execute_result"
    }
   ],
   "source": [
    "data.columns"
   ]
  },
  {
   "cell_type": "code",
   "execution_count": 4,
   "metadata": {},
   "outputs": [
    {
     "data": {
      "text/plain": [
       "(40000, 14)"
      ]
     },
     "execution_count": 4,
     "metadata": {},
     "output_type": "execute_result"
    }
   ],
   "source": [
    "data.shape  # Note : not a small dataset"
   ]
  },
  {
   "cell_type": "code",
   "execution_count": 5,
   "metadata": {},
   "outputs": [
    {
     "name": "stdout",
     "output_type": "stream",
     "text": [
      "<class 'pandas.core.frame.DataFrame'>\n",
      "RangeIndex: 40000 entries, 0 to 39999\n",
      "Data columns (total 14 columns):\n",
      " #   Column     Non-Null Count  Dtype \n",
      "---  ------     --------------  ----- \n",
      " 0   age        40000 non-null  int64 \n",
      " 1   job        40000 non-null  object\n",
      " 2   marital    40000 non-null  object\n",
      " 3   education  40000 non-null  object\n",
      " 4   default    40000 non-null  object\n",
      " 5   balance    40000 non-null  int64 \n",
      " 6   housing    40000 non-null  object\n",
      " 7   loan       40000 non-null  object\n",
      " 8   contact    40000 non-null  object\n",
      " 9   day        40000 non-null  int64 \n",
      " 10  month      40000 non-null  object\n",
      " 11  duration   40000 non-null  int64 \n",
      " 12  campaign   40000 non-null  int64 \n",
      " 13  y          40000 non-null  object\n",
      "dtypes: int64(5), object(9)\n",
      "memory usage: 4.3+ MB\n"
     ]
    }
   ],
   "source": [
    "data.info()  # Good <> No missing-values"
   ]
  },
  {
   "cell_type": "code",
   "execution_count": 6,
   "metadata": {},
   "outputs": [
    {
     "data": {
      "text/html": [
       "<div>\n",
       "<style scoped>\n",
       "    .dataframe tbody tr th:only-of-type {\n",
       "        vertical-align: middle;\n",
       "    }\n",
       "\n",
       "    .dataframe tbody tr th {\n",
       "        vertical-align: top;\n",
       "    }\n",
       "\n",
       "    .dataframe thead th {\n",
       "        text-align: right;\n",
       "    }\n",
       "</style>\n",
       "<table border=\"1\" class=\"dataframe\">\n",
       "  <thead>\n",
       "    <tr style=\"text-align: right;\">\n",
       "      <th></th>\n",
       "      <th>age</th>\n",
       "      <th>job</th>\n",
       "      <th>marital</th>\n",
       "      <th>education</th>\n",
       "      <th>default</th>\n",
       "      <th>balance</th>\n",
       "      <th>housing</th>\n",
       "      <th>loan</th>\n",
       "      <th>contact</th>\n",
       "      <th>day</th>\n",
       "      <th>month</th>\n",
       "      <th>duration</th>\n",
       "      <th>campaign</th>\n",
       "      <th>y</th>\n",
       "    </tr>\n",
       "  </thead>\n",
       "  <tbody>\n",
       "    <tr>\n",
       "      <th>count</th>\n",
       "      <td>40000.000000</td>\n",
       "      <td>40000</td>\n",
       "      <td>40000</td>\n",
       "      <td>40000</td>\n",
       "      <td>40000</td>\n",
       "      <td>40000.000000</td>\n",
       "      <td>40000</td>\n",
       "      <td>40000</td>\n",
       "      <td>40000</td>\n",
       "      <td>40000.000000</td>\n",
       "      <td>40000</td>\n",
       "      <td>40000.000000</td>\n",
       "      <td>40000.000000</td>\n",
       "      <td>40000</td>\n",
       "    </tr>\n",
       "    <tr>\n",
       "      <th>unique</th>\n",
       "      <td>NaN</td>\n",
       "      <td>12</td>\n",
       "      <td>3</td>\n",
       "      <td>4</td>\n",
       "      <td>2</td>\n",
       "      <td>NaN</td>\n",
       "      <td>2</td>\n",
       "      <td>2</td>\n",
       "      <td>3</td>\n",
       "      <td>NaN</td>\n",
       "      <td>11</td>\n",
       "      <td>NaN</td>\n",
       "      <td>NaN</td>\n",
       "      <td>2</td>\n",
       "    </tr>\n",
       "    <tr>\n",
       "      <th>top</th>\n",
       "      <td>NaN</td>\n",
       "      <td>blue-collar</td>\n",
       "      <td>married</td>\n",
       "      <td>secondary</td>\n",
       "      <td>no</td>\n",
       "      <td>NaN</td>\n",
       "      <td>yes</td>\n",
       "      <td>no</td>\n",
       "      <td>cellular</td>\n",
       "      <td>NaN</td>\n",
       "      <td>may</td>\n",
       "      <td>NaN</td>\n",
       "      <td>NaN</td>\n",
       "      <td>no</td>\n",
       "    </tr>\n",
       "    <tr>\n",
       "      <th>freq</th>\n",
       "      <td>NaN</td>\n",
       "      <td>9383</td>\n",
       "      <td>24386</td>\n",
       "      <td>20993</td>\n",
       "      <td>39191</td>\n",
       "      <td>NaN</td>\n",
       "      <td>24031</td>\n",
       "      <td>33070</td>\n",
       "      <td>24914</td>\n",
       "      <td>NaN</td>\n",
       "      <td>13532</td>\n",
       "      <td>NaN</td>\n",
       "      <td>NaN</td>\n",
       "      <td>37104</td>\n",
       "    </tr>\n",
       "    <tr>\n",
       "      <th>mean</th>\n",
       "      <td>40.544600</td>\n",
       "      <td>NaN</td>\n",
       "      <td>NaN</td>\n",
       "      <td>NaN</td>\n",
       "      <td>NaN</td>\n",
       "      <td>1274.277550</td>\n",
       "      <td>NaN</td>\n",
       "      <td>NaN</td>\n",
       "      <td>NaN</td>\n",
       "      <td>16.017225</td>\n",
       "      <td>NaN</td>\n",
       "      <td>254.824300</td>\n",
       "      <td>2.882175</td>\n",
       "      <td>NaN</td>\n",
       "    </tr>\n",
       "    <tr>\n",
       "      <th>std</th>\n",
       "      <td>9.641776</td>\n",
       "      <td>NaN</td>\n",
       "      <td>NaN</td>\n",
       "      <td>NaN</td>\n",
       "      <td>NaN</td>\n",
       "      <td>2903.769716</td>\n",
       "      <td>NaN</td>\n",
       "      <td>NaN</td>\n",
       "      <td>NaN</td>\n",
       "      <td>8.278127</td>\n",
       "      <td>NaN</td>\n",
       "      <td>259.366498</td>\n",
       "      <td>3.239051</td>\n",
       "      <td>NaN</td>\n",
       "    </tr>\n",
       "    <tr>\n",
       "      <th>min</th>\n",
       "      <td>19.000000</td>\n",
       "      <td>NaN</td>\n",
       "      <td>NaN</td>\n",
       "      <td>NaN</td>\n",
       "      <td>NaN</td>\n",
       "      <td>-8019.000000</td>\n",
       "      <td>NaN</td>\n",
       "      <td>NaN</td>\n",
       "      <td>NaN</td>\n",
       "      <td>1.000000</td>\n",
       "      <td>NaN</td>\n",
       "      <td>0.000000</td>\n",
       "      <td>1.000000</td>\n",
       "      <td>NaN</td>\n",
       "    </tr>\n",
       "    <tr>\n",
       "      <th>25%</th>\n",
       "      <td>33.000000</td>\n",
       "      <td>NaN</td>\n",
       "      <td>NaN</td>\n",
       "      <td>NaN</td>\n",
       "      <td>NaN</td>\n",
       "      <td>54.000000</td>\n",
       "      <td>NaN</td>\n",
       "      <td>NaN</td>\n",
       "      <td>NaN</td>\n",
       "      <td>8.000000</td>\n",
       "      <td>NaN</td>\n",
       "      <td>100.000000</td>\n",
       "      <td>1.000000</td>\n",
       "      <td>NaN</td>\n",
       "    </tr>\n",
       "    <tr>\n",
       "      <th>50%</th>\n",
       "      <td>39.000000</td>\n",
       "      <td>NaN</td>\n",
       "      <td>NaN</td>\n",
       "      <td>NaN</td>\n",
       "      <td>NaN</td>\n",
       "      <td>407.000000</td>\n",
       "      <td>NaN</td>\n",
       "      <td>NaN</td>\n",
       "      <td>NaN</td>\n",
       "      <td>17.000000</td>\n",
       "      <td>NaN</td>\n",
       "      <td>175.000000</td>\n",
       "      <td>2.000000</td>\n",
       "      <td>NaN</td>\n",
       "    </tr>\n",
       "    <tr>\n",
       "      <th>75%</th>\n",
       "      <td>48.000000</td>\n",
       "      <td>NaN</td>\n",
       "      <td>NaN</td>\n",
       "      <td>NaN</td>\n",
       "      <td>NaN</td>\n",
       "      <td>1319.000000</td>\n",
       "      <td>NaN</td>\n",
       "      <td>NaN</td>\n",
       "      <td>NaN</td>\n",
       "      <td>21.000000</td>\n",
       "      <td>NaN</td>\n",
       "      <td>313.000000</td>\n",
       "      <td>3.000000</td>\n",
       "      <td>NaN</td>\n",
       "    </tr>\n",
       "    <tr>\n",
       "      <th>max</th>\n",
       "      <td>95.000000</td>\n",
       "      <td>NaN</td>\n",
       "      <td>NaN</td>\n",
       "      <td>NaN</td>\n",
       "      <td>NaN</td>\n",
       "      <td>102127.000000</td>\n",
       "      <td>NaN</td>\n",
       "      <td>NaN</td>\n",
       "      <td>NaN</td>\n",
       "      <td>31.000000</td>\n",
       "      <td>NaN</td>\n",
       "      <td>4918.000000</td>\n",
       "      <td>63.000000</td>\n",
       "      <td>NaN</td>\n",
       "    </tr>\n",
       "  </tbody>\n",
       "</table>\n",
       "</div>"
      ],
      "text/plain": [
       "                 age          job  marital  education default        balance  \\\n",
       "count   40000.000000        40000    40000      40000   40000   40000.000000   \n",
       "unique           NaN           12        3          4       2            NaN   \n",
       "top              NaN  blue-collar  married  secondary      no            NaN   \n",
       "freq             NaN         9383    24386      20993   39191            NaN   \n",
       "mean       40.544600          NaN      NaN        NaN     NaN    1274.277550   \n",
       "std         9.641776          NaN      NaN        NaN     NaN    2903.769716   \n",
       "min        19.000000          NaN      NaN        NaN     NaN   -8019.000000   \n",
       "25%        33.000000          NaN      NaN        NaN     NaN      54.000000   \n",
       "50%        39.000000          NaN      NaN        NaN     NaN     407.000000   \n",
       "75%        48.000000          NaN      NaN        NaN     NaN    1319.000000   \n",
       "max        95.000000          NaN      NaN        NaN     NaN  102127.000000   \n",
       "\n",
       "       housing   loan   contact           day  month      duration  \\\n",
       "count    40000  40000     40000  40000.000000  40000  40000.000000   \n",
       "unique       2      2         3           NaN     11           NaN   \n",
       "top        yes     no  cellular           NaN    may           NaN   \n",
       "freq     24031  33070     24914           NaN  13532           NaN   \n",
       "mean       NaN    NaN       NaN     16.017225    NaN    254.824300   \n",
       "std        NaN    NaN       NaN      8.278127    NaN    259.366498   \n",
       "min        NaN    NaN       NaN      1.000000    NaN      0.000000   \n",
       "25%        NaN    NaN       NaN      8.000000    NaN    100.000000   \n",
       "50%        NaN    NaN       NaN     17.000000    NaN    175.000000   \n",
       "75%        NaN    NaN       NaN     21.000000    NaN    313.000000   \n",
       "max        NaN    NaN       NaN     31.000000    NaN   4918.000000   \n",
       "\n",
       "            campaign      y  \n",
       "count   40000.000000  40000  \n",
       "unique           NaN      2  \n",
       "top              NaN     no  \n",
       "freq             NaN  37104  \n",
       "mean        2.882175    NaN  \n",
       "std         3.239051    NaN  \n",
       "min         1.000000    NaN  \n",
       "25%         1.000000    NaN  \n",
       "50%         2.000000    NaN  \n",
       "75%         3.000000    NaN  \n",
       "max        63.000000    NaN  "
      ]
     },
     "execution_count": 6,
     "metadata": {},
     "output_type": "execute_result"
    }
   ],
   "source": [
    "data.describe(include=\"all\")  # only numerical attributes considered\n",
    "# 50 % of customers have less than 39 years old, have <= 407$ balance"
   ]
  },
  {
   "cell_type": "code",
   "execution_count": 7,
   "metadata": {},
   "outputs": [],
   "source": [
    "# Notes <> Attributes\n",
    "# - marital : categorical, binary\n",
    "# - education : categorical, ordinal\n",
    "# - default : categorical, binary\n",
    "# - housing : categorical, binary\n",
    "# - loan : categorical, binary\n",
    "# - month : categorical, ordinal\n",
    "# - contact - categorical, multiple values possibles"
   ]
  },
  {
   "cell_type": "code",
   "execution_count": 54,
   "metadata": {},
   "outputs": [
    {
     "data": {
      "text/html": [
       "<div>\n",
       "<style scoped>\n",
       "    .dataframe tbody tr th:only-of-type {\n",
       "        vertical-align: middle;\n",
       "    }\n",
       "\n",
       "    .dataframe tbody tr th {\n",
       "        vertical-align: top;\n",
       "    }\n",
       "\n",
       "    .dataframe thead th {\n",
       "        text-align: right;\n",
       "    }\n",
       "</style>\n",
       "<table border=\"1\" class=\"dataframe\">\n",
       "  <thead>\n",
       "    <tr style=\"text-align: right;\">\n",
       "      <th></th>\n",
       "      <th>0</th>\n",
       "    </tr>\n",
       "    <tr>\n",
       "      <th>y</th>\n",
       "      <th></th>\n",
       "    </tr>\n",
       "  </thead>\n",
       "  <tbody>\n",
       "    <tr>\n",
       "      <th>no</th>\n",
       "      <td>0.9276</td>\n",
       "    </tr>\n",
       "    <tr>\n",
       "      <th>yes</th>\n",
       "      <td>0.0724</td>\n",
       "    </tr>\n",
       "  </tbody>\n",
       "</table>\n",
       "</div>"
      ],
      "text/plain": [
       "          0\n",
       "y          \n",
       "no   0.9276\n",
       "yes  0.0724"
      ]
     },
     "execution_count": 54,
     "metadata": {},
     "output_type": "execute_result"
    }
   ],
   "source": [
    "data.value_counts(\n",
    "    subset=[\"y\"], normalize=True, dropna=True\n",
    ").to_frame()  # Note : A huge data imbalance"
   ]
  },
  {
   "cell_type": "markdown",
   "metadata": {},
   "source": [
    "### EDA\n",
    "----"
   ]
  },
  {
   "cell_type": "code",
   "execution_count": 9,
   "metadata": {},
   "outputs": [],
   "source": [
    "profile = ProfileReport(\n",
    "    df=data\n",
    ")  # Note : duration is the feature with the highest correlation with y"
   ]
  },
  {
   "cell_type": "code",
   "execution_count": 10,
   "metadata": {},
   "outputs": [
    {
     "data": {
      "application/vnd.jupyter.widget-view+json": {
       "model_id": "8c1f1ba4aa834e3b9fe374b66811d626",
       "version_major": 2,
       "version_minor": 0
      },
      "text/plain": [
       "Summarize dataset:   0%|          | 0/5 [00:00<?, ?it/s]"
      ]
     },
     "metadata": {},
     "output_type": "display_data"
    },
    {
     "data": {
      "application/vnd.jupyter.widget-view+json": {
       "model_id": "af7d9a969b9b4ea3860df94e60f1321d",
       "version_major": 2,
       "version_minor": 0
      },
      "text/plain": [
       "Generate report structure:   0%|          | 0/1 [00:00<?, ?it/s]"
      ]
     },
     "metadata": {},
     "output_type": "display_data"
    },
    {
     "data": {
      "application/vnd.jupyter.widget-view+json": {
       "model_id": "0d74f90de0b44056ba52e0a8d57fcabe",
       "version_major": 2,
       "version_minor": 0
      },
      "text/plain": [
       "Render HTML:   0%|          | 0/1 [00:00<?, ?it/s]"
      ]
     },
     "metadata": {},
     "output_type": "display_data"
    },
    {
     "data": {
      "application/vnd.jupyter.widget-view+json": {
       "model_id": "22d4fb53ea8548fd8d172b0c5024bad8",
       "version_major": 2,
       "version_minor": 0
      },
      "text/plain": [
       "Export report to file:   0%|          | 0/1 [00:00<?, ?it/s]"
      ]
     },
     "metadata": {},
     "output_type": "display_data"
    }
   ],
   "source": [
    "profile.to_file(output_file=\".data/eda.html\")"
   ]
  },
  {
   "cell_type": "code",
   "execution_count": 11,
   "metadata": {},
   "outputs": [
    {
     "data": {
      "application/vnd.jupyter.widget-view+json": {
       "model_id": "8f82bd1a3fc048239eba8cd396f4d70f",
       "version_major": 2,
       "version_minor": 0
      },
      "text/plain": [
       "Render widgets:   0%|          | 0/1 [00:00<?, ?it/s]"
      ]
     },
     "metadata": {},
     "output_type": "display_data"
    },
    {
     "data": {
      "application/vnd.jupyter.widget-view+json": {
       "model_id": "1038e108b2884cd78a0833db21ba0554",
       "version_major": 2,
       "version_minor": 0
      },
      "text/plain": [
       "VBox(children=(Tab(children=(Tab(children=(GridBox(children=(VBox(children=(GridspecLayout(children=(HTML(valu…"
      ]
     },
     "metadata": {},
     "output_type": "display_data"
    }
   ],
   "source": [
    "profile.to_widgets()"
   ]
  },
  {
   "cell_type": "markdown",
   "metadata": {},
   "source": [
    "### MODELLING\n",
    "---"
   ]
  },
  {
   "cell_type": "code",
   "execution_count": 3,
   "metadata": {},
   "outputs": [],
   "source": [
    "from typing import Optional, List, Literal, Callable\n",
    "from sklearn.compose import ColumnTransformer\n",
    "from sklearn.pipeline import Pipeline, make_pipeline\n",
    "from sklearn.preprocessing import StandardScaler, OneHotEncoder, OrdinalEncoder\n",
    "from sklearn.model_selection import cross_validate, StratifiedKFold\n",
    "from sklearn.preprocessing import LabelBinarizer\n",
    "from pandas import DataFrame\n",
    "from tqdm import tqdm\n",
    "from contextlib import suppress"
   ]
  },
  {
   "cell_type": "code",
   "execution_count": 4,
   "metadata": {},
   "outputs": [],
   "source": [
    "def create_data_prepocessing_pipeline(\n",
    "    numeric: Optional[List[str]] = None,\n",
    "    nominal: Optional[List[str]] = None,\n",
    "    ordinal: Optional[List[str]] = None,\n",
    ") -> ColumnTransformer:\n",
    "    \"\"\"\n",
    "    Create a data preprocessing pipeline using scikit-learn's ColumnTransformer.\n",
    "\n",
    "    Args:\n",
    "        numeric (Optional[List[str]]): List of numeric column names. Defaults to None.\n",
    "        nominal (Optional[List[str]]): List of nominal column names. Defaults to None.\n",
    "        ordinal (Optional[List[str]]): List of ordinal column names. Defaults to None.\n",
    "\n",
    "    Returns:\n",
    "        ColumnTransformer: Preprocessing pipeline.\n",
    "\n",
    "    \"\"\"\n",
    "    numeric_transformer = Pipeline(steps=[(\"scaler\", StandardScaler())])\n",
    "    categorical_transformer = Pipeline(steps=[(\"encoder\", OneHotEncoder())])\n",
    "    ordinal_transformer = Pipeline(steps=[(\"encoder\", OrdinalEncoder())])\n",
    "    return ColumnTransformer(\n",
    "        transformers=[\n",
    "            (\"num\", numeric_transformer, numeric),\n",
    "            (\"cat\", categorical_transformer, nominal),\n",
    "            (\"ord\", ordinal_transformer, ordinal),\n",
    "        ]\n",
    "    )\n",
    "\n",
    "\n",
    "def run_experiment(\n",
    "    df: DataFrame,\n",
    "    preprocessor: ColumnTransformer,\n",
    "    eval_metrics: List[str],\n",
    "    target: str = \"y\",\n",
    "    models: Optional[List[str]] = None,\n",
    "    task: Optional[Literal[\"classifier\", \"regressor\"]] = None,\n",
    "    pipeline_func: Optional[Callable] = make_pipeline,\n",
    "    additional_steps: Optional[List[Callable]] = None,\n",
    "    **kwargs,\n",
    ") -> DataFrame:\n",
    "    \"\"\"\n",
    "    Run an experiment to evaluate multiple models on a given dataset.\n",
    "\n",
    "    Args:\n",
    "        df (DataFrame): Input dataset.\n",
    "        preprocessor (ColumnTransformer): Preprocessing pipeline.\n",
    "        eval_metrics (List[str]): List of evaluation metrics to calculate.\n",
    "        target (str, optional): Target column name. Defaults to \"y\".\n",
    "        models (Optional[List[str]], optional): List of model names to evaluate. Defaults to None.\n",
    "        task (Optional[Literal[\"classifier\", \"regressor\"]], optional): Task type. Defaults to None.\n",
    "        additional_steps (Optional[List[Callable]]): List of additional processing steps. Defaults to None.\n",
    "        **kwargs: Additional keyword arguments for model initialization.\n",
    "\n",
    "    Returns:\n",
    "        DataFrame: Experiment results with model names and evaluation metrics.\n",
    "\n",
    "    \"\"\"\n",
    "    X, y = df.drop(target, axis=1), df[target]\n",
    "\n",
    "    lb = LabelBinarizer()\n",
    "    y = lb.fit_transform(y)\n",
    "    print(lb.classes_)  # the positive class willbe 'yes' and 'no' the negative one\n",
    "\n",
    "    models = (\n",
    "        get_model(task=task)\n",
    "        if models is None\n",
    "        else list(\n",
    "            map(lambda model: get_model(model_name=model, task=task, **kwargs)[-1], models)\n",
    "        )\n",
    "    )\n",
    "    # print(models)\n",
    "    experiment = []\n",
    "    for model in tqdm(models[:]):\n",
    "        with suppress(ValueError):\n",
    "            clf = pipeline_func(preprocessor, model)\n",
    "           \n",
    "            if additional_steps:\n",
    "                for step in additional_steps:\n",
    "                    clf.steps.insert(-1, step)\n",
    "            \n",
    "            scores = cross_validate(\n",
    "                estimator=clf,\n",
    "                X=X,\n",
    "                y=y,\n",
    "                cv=StratifiedKFold(n_splits=5, random_state=42, shuffle=True),\n",
    "                scoring=eval_metrics,\n",
    "            )\n",
    "            avg_perf = [\n",
    "                scores[f\"test_{metric_name}\"].mean() for metric_name in eval_metrics\n",
    "            ]\n",
    "            experiment.append([model.__class__.__name__, *avg_perf])\n",
    "\n",
    "    return DataFrame(data=experiment, columns=[\"Model\", *eval_metrics])\n",
    "\n",
    "def highlight_max(s):\n",
    "    is_max = s == s.max()\n",
    "    return ['background-color: red' if v else '' for v in is_max]"
   ]
  },
  {
   "cell_type": "markdown",
   "metadata": {},
   "source": [
    "### Preprocessing"
   ]
  },
  {
   "cell_type": "code",
   "execution_count": 5,
   "metadata": {},
   "outputs": [
    {
     "name": "stdout",
     "output_type": "stream",
     "text": [
      "(40000, 31) ['num__age' 'num__balance' 'num__day' 'num__duration' 'num__campaign'\n",
      " 'cat__job_admin' 'cat__job_blue-collar' 'cat__job_entrepreneur'\n",
      " 'cat__job_housemaid' 'cat__job_management' 'cat__job_retired'\n",
      " 'cat__job_self-employed' 'cat__job_services' 'cat__job_student'\n",
      " 'cat__job_technician' 'cat__job_unemployed' 'cat__job_unknown'\n",
      " 'cat__marital_divorced' 'cat__marital_married' 'cat__marital_single'\n",
      " 'cat__default_no' 'cat__default_yes' 'cat__housing_no' 'cat__housing_yes'\n",
      " 'cat__loan_no' 'cat__loan_yes' 'cat__contact_cellular'\n",
      " 'cat__contact_telephone' 'cat__contact_unknown' 'ord__education'\n",
      " 'ord__month']\n"
     ]
    }
   ],
   "source": [
    "columns = {\n",
    "    \"numeric\": [\"age\", \"balance\", \"day\", \"duration\", \"campaign\"],\n",
    "    \"nominal\": [\"job\", \"marital\", \"default\", \"housing\", \"loan\", \"contact\"],\n",
    "    \"ordinal\": [\"education\", \"month\"],\n",
    "}\n",
    "preprocessor = create_data_prepocessing_pipeline(**columns)\n",
    "data_trans = preprocessor.fit_transform(\n",
    "    data\n",
    ")  # Just to take a look - the preprocessing part before we embedded it in the next pipeline\n",
    "print(data_trans.shape, preprocessor.get_feature_names_out())"
   ]
  },
  {
   "cell_type": "markdown",
   "metadata": {},
   "source": [
    "### Model Selection"
   ]
  },
  {
   "cell_type": "code",
   "execution_count": 6,
   "metadata": {},
   "outputs": [
    {
     "name": "stdout",
     "output_type": "stream",
     "text": [
      "['no' 'yes']\n"
     ]
    },
    {
     "name": "stderr",
     "output_type": "stream",
     "text": [
      " 29%|██▉       | 9/31 [01:08<03:40, 10.01s/it]"
     ]
    }
   ],
   "source": [
    "result = run_experiment(\n",
    "    data,\n",
    "    preprocessor,\n",
    "    task=\"classifier\",\n",
    "    eval_metrics=[\"accuracy\", \"balanced_accuracy\", \"f1\", \"precision\", \"recall\"],\n",
    ")\n",
    "result.style.apply(highlight_max)"
   ]
  },
  {
   "cell_type": "code",
   "execution_count": 55,
   "metadata": {},
   "outputs": [],
   "source": [
    "# NOTE:\n",
    "# -Dummy classifier (baseline) has  almost 93% accuracy (but only 50% balanced accuracy). As the dataset is heavily imbalanced, we cannot rely\n",
    "# on accuracy (the classic one) alone to select our best model. We can use :\n",
    "#   - the balanced accuracy to help us choose the best model (more than 50% of balanced accuracy).\n",
    "#   - and Precision and recall will help us, depending on which class (positive or negative is more important for the current task)\n",
    "# -If we prioritize capturing all positive instances, focus on recall. If qwe want to minimize false positives, consider precision.\n",
    "# NOTE:\n",
    "# 2/ All models are affected by class imbalance\n",
    "# - Except the clustering algothrim like NearestCentroid that is not really overfitting id we look at the balanced accuracy vs accuracy\n",
    "#    - With NearestCentroid Each class is represented by its centroid, with test samples classified to the class with the nearest centroid.\n",
    "#    - The centroids for the samples corresponding to each class is the point from which the sum of the distances (according to the metric) of all samples that belong to that particular class are minimized.\n",
    "#    - THis is worth exploring for the segmentation part. It seems to be a pattern to learn."
   ]
  },
  {
   "cell_type": "markdown",
   "metadata": {},
   "source": [
    "#### Handling the data imbalancement\n",
    "---"
   ]
  },
  {
   "cell_type": "markdown",
   "metadata": {},
   "source": [
    "##### Let's try to use only classifiers with class_weight parameter"
   ]
  },
  {
   "cell_type": "code",
   "execution_count": 26,
   "metadata": {},
   "outputs": [],
   "source": [
    "import inspect\n",
    "from sklearn.utils import all_estimators\n",
    "\n",
    "\n",
    "def get_classifiers_with_class_weight(\n",
    "    task: Optional[Literal[\"classifier\", \"regressor\"]] = None\n",
    ") -> List[str]:\n",
    "    \"\"\"Filter classifers with attribute weight\"\"\"\n",
    "    classifiers = all_estimators(type_filter=\"classifier\")\n",
    "\n",
    "    return [\n",
    "        name\n",
    "        for name, ClassifierClass in classifiers\n",
    "        if \"class_weight\"\n",
    "        in [p.name for p in inspect.signature(ClassifierClass).parameters.values()]\n",
    "    ]"
   ]
  },
  {
   "cell_type": "code",
   "execution_count": 53,
   "metadata": {},
   "outputs": [
    {
     "name": "stdout",
     "output_type": "stream",
     "text": [
      "Ensemble Classifiers with class_weight attribute: ['DecisionTreeClassifier', 'ExtraTreeClassifier', 'ExtraTreesClassifier', 'HistGradientBoostingClassifier', 'LinearSVC', 'LogisticRegression', 'LogisticRegressionCV', 'NuSVC', 'PassiveAggressiveClassifier', 'Perceptron', 'RandomForestClassifier', 'RidgeClassifier', 'RidgeClassifierCV', 'SGDClassifier', 'SVC']\n"
     ]
    },
    {
     "data": {
      "text/html": [
       "<style type=\"text/css\">\n",
       "#T_84c26_row2_col4, #T_84c26_row3_col2, #T_84c26_row3_col3, #T_84c26_row3_col5, #T_84c26_row9_col1, #T_84c26_row13_col0 {\n",
       "  background-color: red;\n",
       "}\n",
       "</style>\n",
       "<table id=\"T_84c26\">\n",
       "  <thead>\n",
       "    <tr>\n",
       "      <th class=\"blank level0\" >&nbsp;</th>\n",
       "      <th id=\"T_84c26_level0_col0\" class=\"col_heading level0 col0\" >Model</th>\n",
       "      <th id=\"T_84c26_level0_col1\" class=\"col_heading level0 col1\" >accuracy</th>\n",
       "      <th id=\"T_84c26_level0_col2\" class=\"col_heading level0 col2\" >balanced_accuracy</th>\n",
       "      <th id=\"T_84c26_level0_col3\" class=\"col_heading level0 col3\" >f1</th>\n",
       "      <th id=\"T_84c26_level0_col4\" class=\"col_heading level0 col4\" >precision</th>\n",
       "      <th id=\"T_84c26_level0_col5\" class=\"col_heading level0 col5\" >recall</th>\n",
       "    </tr>\n",
       "  </thead>\n",
       "  <tbody>\n",
       "    <tr>\n",
       "      <th id=\"T_84c26_level0_row0\" class=\"row_heading level0 row0\" >0</th>\n",
       "      <td id=\"T_84c26_row0_col0\" class=\"data row0 col0\" >DecisionTreeClassifier</td>\n",
       "      <td id=\"T_84c26_row0_col1\" class=\"data row0 col1\" >0.918250</td>\n",
       "      <td id=\"T_84c26_row0_col2\" class=\"data row0 col2\" >0.680246</td>\n",
       "      <td id=\"T_84c26_row0_col3\" class=\"data row0 col3\" >0.415687</td>\n",
       "      <td id=\"T_84c26_row0_col4\" class=\"data row0 col4\" >0.431188</td>\n",
       "      <td id=\"T_84c26_row0_col5\" class=\"data row0 col5\" >0.401942</td>\n",
       "    </tr>\n",
       "    <tr>\n",
       "      <th id=\"T_84c26_level0_row1\" class=\"row_heading level0 row1\" >1</th>\n",
       "      <td id=\"T_84c26_row1_col0\" class=\"data row1 col0\" >ExtraTreeClassifier</td>\n",
       "      <td id=\"T_84c26_row1_col1\" class=\"data row1 col1\" >0.905700</td>\n",
       "      <td id=\"T_84c26_row1_col2\" class=\"data row1 col2\" >0.635440</td>\n",
       "      <td id=\"T_84c26_row1_col3\" class=\"data row1 col3\" >0.329104</td>\n",
       "      <td id=\"T_84c26_row1_col4\" class=\"data row1 col4\" >0.339431</td>\n",
       "      <td id=\"T_84c26_row1_col5\" class=\"data row1 col5\" >0.319420</td>\n",
       "    </tr>\n",
       "    <tr>\n",
       "      <th id=\"T_84c26_level0_row2\" class=\"row_heading level0 row2\" >2</th>\n",
       "      <td id=\"T_84c26_row2_col0\" class=\"data row2 col0\" >ExtraTreesClassifier</td>\n",
       "      <td id=\"T_84c26_row2_col1\" class=\"data row2 col1\" >0.932050</td>\n",
       "      <td id=\"T_84c26_row2_col2\" class=\"data row2 col2\" >0.585009</td>\n",
       "      <td id=\"T_84c26_row2_col3\" class=\"data row2 col3\" >0.276223</td>\n",
       "      <td id=\"T_84c26_row2_col4\" class=\"data row2 col4\" >0.603947</td>\n",
       "      <td id=\"T_84c26_row2_col5\" class=\"data row2 col5\" >0.179209</td>\n",
       "    </tr>\n",
       "    <tr>\n",
       "      <th id=\"T_84c26_level0_row3\" class=\"row_heading level0 row3\" >3</th>\n",
       "      <td id=\"T_84c26_row3_col0\" class=\"data row3 col0\" >HistGradientBoostingClassifier</td>\n",
       "      <td id=\"T_84c26_row3_col1\" class=\"data row3 col1\" >0.881150</td>\n",
       "      <td id=\"T_84c26_row3_col2\" class=\"data row3 col2\" >0.891843</td>\n",
       "      <td id=\"T_84c26_row3_col3\" class=\"data row3 col3\" >0.524216</td>\n",
       "      <td id=\"T_84c26_row3_col4\" class=\"data row3 col4\" >0.369097</td>\n",
       "      <td id=\"T_84c26_row3_col5\" class=\"data row3 col5\" >0.904346</td>\n",
       "    </tr>\n",
       "    <tr>\n",
       "      <th id=\"T_84c26_level0_row4\" class=\"row_heading level0 row4\" >4</th>\n",
       "      <td id=\"T_84c26_row4_col0\" class=\"data row4 col0\" >LinearSVC</td>\n",
       "      <td id=\"T_84c26_row4_col1\" class=\"data row4 col1\" >0.866150</td>\n",
       "      <td id=\"T_84c26_row4_col2\" class=\"data row4 col2\" >0.811493</td>\n",
       "      <td id=\"T_84c26_row4_col3\" class=\"data row4 col3\" >0.447251</td>\n",
       "      <td id=\"T_84c26_row4_col4\" class=\"data row4 col4\" >0.319108</td>\n",
       "      <td id=\"T_84c26_row4_col5\" class=\"data row4 col5\" >0.747581</td>\n",
       "    </tr>\n",
       "    <tr>\n",
       "      <th id=\"T_84c26_level0_row5\" class=\"row_heading level0 row5\" >5</th>\n",
       "      <td id=\"T_84c26_row5_col0\" class=\"data row5 col0\" >LogisticRegression</td>\n",
       "      <td id=\"T_84c26_row5_col1\" class=\"data row5 col1\" >0.846825</td>\n",
       "      <td id=\"T_84c26_row5_col2\" class=\"data row5 col2\" >0.815720</td>\n",
       "      <td id=\"T_84c26_row5_col3\" class=\"data row5 col3\" >0.424253</td>\n",
       "      <td id=\"T_84c26_row5_col4\" class=\"data row5 col4\" >0.291469</td>\n",
       "      <td id=\"T_84c26_row5_col5\" class=\"data row5 col5\" >0.779349</td>\n",
       "    </tr>\n",
       "    <tr>\n",
       "      <th id=\"T_84c26_level0_row6\" class=\"row_heading level0 row6\" >6</th>\n",
       "      <td id=\"T_84c26_row6_col0\" class=\"data row6 col0\" >LogisticRegressionCV</td>\n",
       "      <td id=\"T_84c26_row6_col1\" class=\"data row6 col1\" >0.858150</td>\n",
       "      <td id=\"T_84c26_row6_col2\" class=\"data row6 col2\" >0.810842</td>\n",
       "      <td id=\"T_84c26_row6_col3\" class=\"data row6 col3\" >0.435500</td>\n",
       "      <td id=\"T_84c26_row6_col4\" class=\"data row6 col4\" >0.305953</td>\n",
       "      <td id=\"T_84c26_row6_col5\" class=\"data row6 col5\" >0.755524</td>\n",
       "    </tr>\n",
       "    <tr>\n",
       "      <th id=\"T_84c26_level0_row7\" class=\"row_heading level0 row7\" >7</th>\n",
       "      <td id=\"T_84c26_row7_col0\" class=\"data row7 col0\" >PassiveAggressiveClassifier</td>\n",
       "      <td id=\"T_84c26_row7_col1\" class=\"data row7 col1\" >0.571550</td>\n",
       "      <td id=\"T_84c26_row7_col2\" class=\"data row7 col2\" >0.674551</td>\n",
       "      <td id=\"T_84c26_row7_col3\" class=\"data row7 col3\" >0.283731</td>\n",
       "      <td id=\"T_84c26_row7_col4\" class=\"data row7 col4\" >0.197399</td>\n",
       "      <td id=\"T_84c26_row7_col5\" class=\"data row7 col5\" >0.794975</td>\n",
       "    </tr>\n",
       "    <tr>\n",
       "      <th id=\"T_84c26_level0_row8\" class=\"row_heading level0 row8\" >8</th>\n",
       "      <td id=\"T_84c26_row8_col0\" class=\"data row8 col0\" >Perceptron</td>\n",
       "      <td id=\"T_84c26_row8_col1\" class=\"data row8 col1\" >0.759925</td>\n",
       "      <td id=\"T_84c26_row8_col2\" class=\"data row8 col2\" >0.764551</td>\n",
       "      <td id=\"T_84c26_row8_col3\" class=\"data row8 col3\" >0.370113</td>\n",
       "      <td id=\"T_84c26_row8_col4\" class=\"data row8 col4\" >0.254607</td>\n",
       "      <td id=\"T_84c26_row8_col5\" class=\"data row8 col5\" >0.769976</td>\n",
       "    </tr>\n",
       "    <tr>\n",
       "      <th id=\"T_84c26_level0_row9\" class=\"row_heading level0 row9\" >9</th>\n",
       "      <td id=\"T_84c26_row9_col0\" class=\"data row9 col0\" >RandomForestClassifier</td>\n",
       "      <td id=\"T_84c26_row9_col1\" class=\"data row9 col1\" >0.932450</td>\n",
       "      <td id=\"T_84c26_row9_col2\" class=\"data row9 col2\" >0.592391</td>\n",
       "      <td id=\"T_84c26_row9_col3\" class=\"data row9 col3\" >0.294246</td>\n",
       "      <td id=\"T_84c26_row9_col4\" class=\"data row9 col4\" >0.602901</td>\n",
       "      <td id=\"T_84c26_row9_col5\" class=\"data row9 col5\" >0.194753</td>\n",
       "    </tr>\n",
       "    <tr>\n",
       "      <th id=\"T_84c26_level0_row10\" class=\"row_heading level0 row10\" >10</th>\n",
       "      <td id=\"T_84c26_row10_col0\" class=\"data row10 col0\" >RidgeClassifier</td>\n",
       "      <td id=\"T_84c26_row10_col1\" class=\"data row10 col1\" >0.866650</td>\n",
       "      <td id=\"T_84c26_row10_col2\" class=\"data row10 col2\" >0.804917</td>\n",
       "      <td id=\"T_84c26_row10_col3\" class=\"data row10 col3\" >0.443082</td>\n",
       "      <td id=\"T_84c26_row10_col4\" class=\"data row10 col4\" >0.317562</td>\n",
       "      <td id=\"T_84c26_row10_col5\" class=\"data row10 col5\" >0.732732</td>\n",
       "    </tr>\n",
       "    <tr>\n",
       "      <th id=\"T_84c26_level0_row11\" class=\"row_heading level0 row11\" >11</th>\n",
       "      <td id=\"T_84c26_row11_col0\" class=\"data row11 col0\" >RidgeClassifierCV</td>\n",
       "      <td id=\"T_84c26_row11_col1\" class=\"data row11 col1\" >0.866700</td>\n",
       "      <td id=\"T_84c26_row11_col2\" class=\"data row11 col2\" >0.805104</td>\n",
       "      <td id=\"T_84c26_row11_col3\" class=\"data row11 col3\" >0.443292</td>\n",
       "      <td id=\"T_84c26_row11_col4\" class=\"data row11 col4\" >0.317712</td>\n",
       "      <td id=\"T_84c26_row11_col5\" class=\"data row11 col5\" >0.733078</td>\n",
       "    </tr>\n",
       "    <tr>\n",
       "      <th id=\"T_84c26_level0_row12\" class=\"row_heading level0 row12\" >12</th>\n",
       "      <td id=\"T_84c26_row12_col0\" class=\"data row12 col0\" >SGDClassifier</td>\n",
       "      <td id=\"T_84c26_row12_col1\" class=\"data row12 col1\" >0.855500</td>\n",
       "      <td id=\"T_84c26_row12_col2\" class=\"data row12 col2\" >0.794614</td>\n",
       "      <td id=\"T_84c26_row12_col3\" class=\"data row12 col3\" >0.426623</td>\n",
       "      <td id=\"T_84c26_row12_col4\" class=\"data row12 col4\" >0.313553</td>\n",
       "      <td id=\"T_84c26_row12_col5\" class=\"data row12 col5\" >0.723417</td>\n",
       "    </tr>\n",
       "    <tr>\n",
       "      <th id=\"T_84c26_level0_row13\" class=\"row_heading level0 row13\" >13</th>\n",
       "      <td id=\"T_84c26_row13_col0\" class=\"data row13 col0\" >SVC</td>\n",
       "      <td id=\"T_84c26_row13_col1\" class=\"data row13 col1\" >0.849375</td>\n",
       "      <td id=\"T_84c26_row13_col2\" class=\"data row13 col2\" >0.853390</td>\n",
       "      <td id=\"T_84c26_row13_col3\" class=\"data row13 col3\" >0.452042</td>\n",
       "      <td id=\"T_84c26_row13_col4\" class=\"data row13 col4\" >0.306850</td>\n",
       "      <td id=\"T_84c26_row13_col5\" class=\"data row13 col5\" >0.858084</td>\n",
       "    </tr>\n",
       "  </tbody>\n",
       "</table>\n"
      ],
      "text/plain": [
       "<pandas.io.formats.style.Styler at 0x247bc77a050>"
      ]
     },
     "execution_count": 53,
     "metadata": {},
     "output_type": "execute_result"
    }
   ],
   "source": [
    "models = get_classifiers_with_class_weight(task=\"classifier\")\n",
    "print(\"Ensemble Classifiers with class_weight attribute:\", models)\n",
    "\n",
    "result = run_experiment(\n",
    "    data,\n",
    "    preprocessor,\n",
    "    models=models,\n",
    "    eval_metrics=[\"accuracy\", \"balanced_accuracy\", \"f1\", \"precision\", \"recall\"],\n",
    "    class_weight=\"balanced\",\n",
    "    task='classifier'\n",
    ")\n",
    "result.style.apply(highlight_max)"
   ]
  },
  {
   "cell_type": "markdown",
   "metadata": {},
   "source": [
    "##### Let's try to use SMOTE (Synthetic Minority Over-sampling Technique)... Resample the training set during learning"
   ]
  },
  {
   "cell_type": "code",
   "execution_count": 70,
   "metadata": {},
   "outputs": [
    {
     "name": "stdout",
     "output_type": "stream",
     "text": [
      "['no' 'yes']\n",
      "[AdaBoostClassifier(), BernoulliNB(), CategoricalNB(), ComplementNB(), DecisionTreeClassifier(), DummyClassifier(), ExtraTreeClassifier(), ExtraTreesClassifier(), GaussianNB(), GaussianProcessClassifier(), HistGradientBoostingClassifier(), KNeighborsClassifier(), LabelPropagation(), LabelSpreading(), LinearDiscriminantAnalysis(), LinearSVC(), LogisticRegression(), LogisticRegressionCV(), MLPClassifier(), MultinomialNB(), NearestCentroid(), NuSVC(), PassiveAggressiveClassifier(), Perceptron(), QuadraticDiscriminantAnalysis(), RadiusNeighborsClassifier(), RandomForestClassifier(), RidgeClassifier(), RidgeClassifierCV(), SGDClassifier(), SVC()]\n"
     ]
    },
    {
     "name": "stderr",
     "output_type": "stream",
     "text": [
      "  0%|          | 0/31 [00:00<?, ?it/s]"
     ]
    },
    {
     "name": "stdout",
     "output_type": "stream",
     "text": [
      "[('columntransformer', ColumnTransformer(transformers=[('num',\n",
      "                                 Pipeline(steps=[('scaler', StandardScaler())]),\n",
      "                                 ['age', 'balance', 'day', 'duration',\n",
      "                                  'campaign']),\n",
      "                                ('cat',\n",
      "                                 Pipeline(steps=[('encoder', OneHotEncoder())]),\n",
      "                                 ['job', 'marital', 'default', 'housing',\n",
      "                                  'loan', 'contact']),\n",
      "                                ('ord',\n",
      "                                 Pipeline(steps=[('encoder',\n",
      "                                                  OrdinalEncoder())]),\n",
      "                                 ['education', 'month'])])), ('adaboostclassifier', AdaBoostClassifier())]\n",
      "[('columntransformer', ColumnTransformer(transformers=[('num',\n",
      "                                 Pipeline(steps=[('scaler', StandardScaler())]),\n",
      "                                 ['age', 'balance', 'day', 'duration',\n",
      "                                  'campaign']),\n",
      "                                ('cat',\n",
      "                                 Pipeline(steps=[('encoder', OneHotEncoder())]),\n",
      "                                 ['job', 'marital', 'default', 'housing',\n",
      "                                  'loan', 'contact']),\n",
      "                                ('ord',\n",
      "                                 Pipeline(steps=[('encoder',\n",
      "                                                  OrdinalEncoder())]),\n",
      "                                 ['education', 'month'])])), ('smote', SMOTE()), ('adaboostclassifier', AdaBoostClassifier())]\n"
     ]
    },
    {
     "name": "stderr",
     "output_type": "stream",
     "text": [
      "  0%|          | 0/31 [00:25<?, ?it/s]\n"
     ]
    },
    {
     "ename": "KeyboardInterrupt",
     "evalue": "",
     "output_type": "error",
     "traceback": [
      "\u001b[1;31m---------------------------------------------------------------------------\u001b[0m",
      "\u001b[1;31mKeyboardInterrupt\u001b[0m                         Traceback (most recent call last)",
      "\u001b[1;32mc:\\Users\\kpano\\Documents\\VUEJ14wTke9x5hX3\\main.ipynb Cell 29\u001b[0m line \u001b[0;36m8\n\u001b[0;32m      <a href='vscode-notebook-cell:/c%3A/Users/kpano/Documents/VUEJ14wTke9x5hX3/main.ipynb#X40sZmlsZQ%3D%3D?line=0'>1</a>\u001b[0m \u001b[39mimport\u001b[39;00m \u001b[39mimblearn\u001b[39;00m\n\u001b[0;32m      <a href='vscode-notebook-cell:/c%3A/Users/kpano/Documents/VUEJ14wTke9x5hX3/main.ipynb#X40sZmlsZQ%3D%3D?line=2'>3</a>\u001b[0m \u001b[39m# NOTE:\u001b[39;00m\n\u001b[0;32m      <a href='vscode-notebook-cell:/c%3A/Users/kpano/Documents/VUEJ14wTke9x5hX3/main.ipynb#X40sZmlsZQ%3D%3D?line=3'>4</a>\u001b[0m \u001b[39m# - THere is a plenty of samplers, and we have the choice between oversample the minority class ('yes') or undersample the majority class ('no').\u001b[39;00m\n\u001b[0;32m      <a href='vscode-notebook-cell:/c%3A/Users/kpano/Documents/VUEJ14wTke9x5hX3/main.ipynb#X40sZmlsZQ%3D%3D?line=4'>5</a>\u001b[0m \u001b[39m# - But the minority class ('yes') is more critical, and we want our model to perform well on predicting it, so we choose to oversample it.\u001b[39;00m\n\u001b[0;32m      <a href='vscode-notebook-cell:/c%3A/Users/kpano/Documents/VUEJ14wTke9x5hX3/main.ipynb#X40sZmlsZQ%3D%3D?line=5'>6</a>\u001b[0m \n\u001b[0;32m      <a href='vscode-notebook-cell:/c%3A/Users/kpano/Documents/VUEJ14wTke9x5hX3/main.ipynb#X40sZmlsZQ%3D%3D?line=6'>7</a>\u001b[0m \u001b[39m##RUN\u001b[39;00m\n\u001b[1;32m----> <a href='vscode-notebook-cell:/c%3A/Users/kpano/Documents/VUEJ14wTke9x5hX3/main.ipynb#X40sZmlsZQ%3D%3D?line=7'>8</a>\u001b[0m result \u001b[39m=\u001b[39m run_experiment(\n\u001b[0;32m      <a href='vscode-notebook-cell:/c%3A/Users/kpano/Documents/VUEJ14wTke9x5hX3/main.ipynb#X40sZmlsZQ%3D%3D?line=8'>9</a>\u001b[0m     data,\n\u001b[0;32m     <a href='vscode-notebook-cell:/c%3A/Users/kpano/Documents/VUEJ14wTke9x5hX3/main.ipynb#X40sZmlsZQ%3D%3D?line=9'>10</a>\u001b[0m     preprocessor,\n\u001b[0;32m     <a href='vscode-notebook-cell:/c%3A/Users/kpano/Documents/VUEJ14wTke9x5hX3/main.ipynb#X40sZmlsZQ%3D%3D?line=10'>11</a>\u001b[0m     eval_metrics\u001b[39m=\u001b[39;49m[\u001b[39m\"\u001b[39;49m\u001b[39maccuracy\u001b[39;49m\u001b[39m\"\u001b[39;49m, \u001b[39m\"\u001b[39;49m\u001b[39mbalanced_accuracy\u001b[39;49m\u001b[39m\"\u001b[39;49m, \u001b[39m\"\u001b[39;49m\u001b[39mf1\u001b[39;49m\u001b[39m\"\u001b[39;49m, \u001b[39m\"\u001b[39;49m\u001b[39mprecision\u001b[39;49m\u001b[39m\"\u001b[39;49m, \u001b[39m\"\u001b[39;49m\u001b[39mrecall\u001b[39;49m\u001b[39m\"\u001b[39;49m],\n\u001b[0;32m     <a href='vscode-notebook-cell:/c%3A/Users/kpano/Documents/VUEJ14wTke9x5hX3/main.ipynb#X40sZmlsZQ%3D%3D?line=11'>12</a>\u001b[0m     task\u001b[39m=\u001b[39;49m\u001b[39m'\u001b[39;49m\u001b[39mclassifier\u001b[39;49m\u001b[39m'\u001b[39;49m,\n\u001b[0;32m     <a href='vscode-notebook-cell:/c%3A/Users/kpano/Documents/VUEJ14wTke9x5hX3/main.ipynb#X40sZmlsZQ%3D%3D?line=12'>13</a>\u001b[0m     additional_steps\u001b[39m=\u001b[39;49m[(\u001b[39m'\u001b[39;49m\u001b[39msmote\u001b[39;49m\u001b[39m'\u001b[39;49m, imblearn\u001b[39m.\u001b[39;49mover_sampling\u001b[39m.\u001b[39;49mSMOTE())],\n\u001b[0;32m     <a href='vscode-notebook-cell:/c%3A/Users/kpano/Documents/VUEJ14wTke9x5hX3/main.ipynb#X40sZmlsZQ%3D%3D?line=13'>14</a>\u001b[0m     pipeline_func\u001b[39m=\u001b[39;49mimblearn\u001b[39m.\u001b[39;49mpipeline\u001b[39m.\u001b[39;49mmake_pipeline\n\u001b[0;32m     <a href='vscode-notebook-cell:/c%3A/Users/kpano/Documents/VUEJ14wTke9x5hX3/main.ipynb#X40sZmlsZQ%3D%3D?line=14'>15</a>\u001b[0m )\n\u001b[0;32m     <a href='vscode-notebook-cell:/c%3A/Users/kpano/Documents/VUEJ14wTke9x5hX3/main.ipynb#X40sZmlsZQ%3D%3D?line=15'>16</a>\u001b[0m result\u001b[39m.\u001b[39mstyle\u001b[39m.\u001b[39mapply(highlight_max)\n",
      "\u001b[1;32mc:\\Users\\kpano\\Documents\\VUEJ14wTke9x5hX3\\main.ipynb Cell 29\u001b[0m line \u001b[0;36m8\n\u001b[0;32m     <a href='vscode-notebook-cell:/c%3A/Users/kpano/Documents/VUEJ14wTke9x5hX3/main.ipynb#X40sZmlsZQ%3D%3D?line=78'>79</a>\u001b[0m         clf\u001b[39m.\u001b[39msteps\u001b[39m.\u001b[39minsert(\u001b[39m-\u001b[39m\u001b[39m1\u001b[39m, step)\n\u001b[0;32m     <a href='vscode-notebook-cell:/c%3A/Users/kpano/Documents/VUEJ14wTke9x5hX3/main.ipynb#X40sZmlsZQ%3D%3D?line=79'>80</a>\u001b[0m \u001b[39mprint\u001b[39m(clf\u001b[39m.\u001b[39msteps)\n\u001b[1;32m---> <a href='vscode-notebook-cell:/c%3A/Users/kpano/Documents/VUEJ14wTke9x5hX3/main.ipynb#X40sZmlsZQ%3D%3D?line=80'>81</a>\u001b[0m scores \u001b[39m=\u001b[39m cross_validate(\n\u001b[0;32m     <a href='vscode-notebook-cell:/c%3A/Users/kpano/Documents/VUEJ14wTke9x5hX3/main.ipynb#X40sZmlsZQ%3D%3D?line=81'>82</a>\u001b[0m     estimator\u001b[39m=\u001b[39;49mclf,\n\u001b[0;32m     <a href='vscode-notebook-cell:/c%3A/Users/kpano/Documents/VUEJ14wTke9x5hX3/main.ipynb#X40sZmlsZQ%3D%3D?line=82'>83</a>\u001b[0m     X\u001b[39m=\u001b[39;49mX,\n\u001b[0;32m     <a href='vscode-notebook-cell:/c%3A/Users/kpano/Documents/VUEJ14wTke9x5hX3/main.ipynb#X40sZmlsZQ%3D%3D?line=83'>84</a>\u001b[0m     y\u001b[39m=\u001b[39;49my,\n\u001b[0;32m     <a href='vscode-notebook-cell:/c%3A/Users/kpano/Documents/VUEJ14wTke9x5hX3/main.ipynb#X40sZmlsZQ%3D%3D?line=84'>85</a>\u001b[0m     cv\u001b[39m=\u001b[39;49mStratifiedKFold(n_splits\u001b[39m=\u001b[39;49m\u001b[39m5\u001b[39;49m, random_state\u001b[39m=\u001b[39;49m\u001b[39m42\u001b[39;49m, shuffle\u001b[39m=\u001b[39;49m\u001b[39mTrue\u001b[39;49;00m),\n\u001b[0;32m     <a href='vscode-notebook-cell:/c%3A/Users/kpano/Documents/VUEJ14wTke9x5hX3/main.ipynb#X40sZmlsZQ%3D%3D?line=85'>86</a>\u001b[0m     scoring\u001b[39m=\u001b[39;49meval_metrics,\n\u001b[0;32m     <a href='vscode-notebook-cell:/c%3A/Users/kpano/Documents/VUEJ14wTke9x5hX3/main.ipynb#X40sZmlsZQ%3D%3D?line=86'>87</a>\u001b[0m )\n\u001b[0;32m     <a href='vscode-notebook-cell:/c%3A/Users/kpano/Documents/VUEJ14wTke9x5hX3/main.ipynb#X40sZmlsZQ%3D%3D?line=87'>88</a>\u001b[0m avg_perf \u001b[39m=\u001b[39m [\n\u001b[0;32m     <a href='vscode-notebook-cell:/c%3A/Users/kpano/Documents/VUEJ14wTke9x5hX3/main.ipynb#X40sZmlsZQ%3D%3D?line=88'>89</a>\u001b[0m     scores[\u001b[39mf\u001b[39m\u001b[39m\"\u001b[39m\u001b[39mtest_\u001b[39m\u001b[39m{\u001b[39;00mmetric_name\u001b[39m}\u001b[39;00m\u001b[39m\"\u001b[39m]\u001b[39m.\u001b[39mmean() \u001b[39mfor\u001b[39;00m metric_name \u001b[39min\u001b[39;00m eval_metrics\n\u001b[0;32m     <a href='vscode-notebook-cell:/c%3A/Users/kpano/Documents/VUEJ14wTke9x5hX3/main.ipynb#X40sZmlsZQ%3D%3D?line=89'>90</a>\u001b[0m ]\n\u001b[0;32m     <a href='vscode-notebook-cell:/c%3A/Users/kpano/Documents/VUEJ14wTke9x5hX3/main.ipynb#X40sZmlsZQ%3D%3D?line=90'>91</a>\u001b[0m experiment\u001b[39m.\u001b[39mappend([model\u001b[39m.\u001b[39m\u001b[39m__class__\u001b[39m\u001b[39m.\u001b[39m\u001b[39m__name__\u001b[39m, \u001b[39m*\u001b[39mavg_perf])\n",
      "File \u001b[1;32mc:\\Users\\kpano\\anaconda3\\Lib\\site-packages\\sklearn\\utils\\_param_validation.py:211\u001b[0m, in \u001b[0;36mvalidate_params.<locals>.decorator.<locals>.wrapper\u001b[1;34m(*args, **kwargs)\u001b[0m\n\u001b[0;32m    205\u001b[0m \u001b[39mtry\u001b[39;00m:\n\u001b[0;32m    206\u001b[0m     \u001b[39mwith\u001b[39;00m config_context(\n\u001b[0;32m    207\u001b[0m         skip_parameter_validation\u001b[39m=\u001b[39m(\n\u001b[0;32m    208\u001b[0m             prefer_skip_nested_validation \u001b[39mor\u001b[39;00m global_skip_validation\n\u001b[0;32m    209\u001b[0m         )\n\u001b[0;32m    210\u001b[0m     ):\n\u001b[1;32m--> 211\u001b[0m         \u001b[39mreturn\u001b[39;00m func(\u001b[39m*\u001b[39;49margs, \u001b[39m*\u001b[39;49m\u001b[39m*\u001b[39;49mkwargs)\n\u001b[0;32m    212\u001b[0m \u001b[39mexcept\u001b[39;00m InvalidParameterError \u001b[39mas\u001b[39;00m e:\n\u001b[0;32m    213\u001b[0m     \u001b[39m# When the function is just a wrapper around an estimator, we allow\u001b[39;00m\n\u001b[0;32m    214\u001b[0m     \u001b[39m# the function to delegate validation to the estimator, but we replace\u001b[39;00m\n\u001b[0;32m    215\u001b[0m     \u001b[39m# the name of the estimator by the name of the function in the error\u001b[39;00m\n\u001b[0;32m    216\u001b[0m     \u001b[39m# message to avoid confusion.\u001b[39;00m\n\u001b[0;32m    217\u001b[0m     msg \u001b[39m=\u001b[39m re\u001b[39m.\u001b[39msub(\n\u001b[0;32m    218\u001b[0m         \u001b[39mr\u001b[39m\u001b[39m\"\u001b[39m\u001b[39mparameter of \u001b[39m\u001b[39m\\\u001b[39m\u001b[39mw+ must be\u001b[39m\u001b[39m\"\u001b[39m,\n\u001b[0;32m    219\u001b[0m         \u001b[39mf\u001b[39m\u001b[39m\"\u001b[39m\u001b[39mparameter of \u001b[39m\u001b[39m{\u001b[39;00mfunc\u001b[39m.\u001b[39m\u001b[39m__qualname__\u001b[39m\u001b[39m}\u001b[39;00m\u001b[39m must be\u001b[39m\u001b[39m\"\u001b[39m,\n\u001b[0;32m    220\u001b[0m         \u001b[39mstr\u001b[39m(e),\n\u001b[0;32m    221\u001b[0m     )\n",
      "File \u001b[1;32mc:\\Users\\kpano\\anaconda3\\Lib\\site-packages\\sklearn\\model_selection\\_validation.py:309\u001b[0m, in \u001b[0;36mcross_validate\u001b[1;34m(estimator, X, y, groups, scoring, cv, n_jobs, verbose, fit_params, pre_dispatch, return_train_score, return_estimator, return_indices, error_score)\u001b[0m\n\u001b[0;32m    306\u001b[0m \u001b[39m# We clone the estimator to make sure that all the folds are\u001b[39;00m\n\u001b[0;32m    307\u001b[0m \u001b[39m# independent, and that it is pickle-able.\u001b[39;00m\n\u001b[0;32m    308\u001b[0m parallel \u001b[39m=\u001b[39m Parallel(n_jobs\u001b[39m=\u001b[39mn_jobs, verbose\u001b[39m=\u001b[39mverbose, pre_dispatch\u001b[39m=\u001b[39mpre_dispatch)\n\u001b[1;32m--> 309\u001b[0m results \u001b[39m=\u001b[39m parallel(\n\u001b[0;32m    310\u001b[0m     delayed(_fit_and_score)(\n\u001b[0;32m    311\u001b[0m         clone(estimator),\n\u001b[0;32m    312\u001b[0m         X,\n\u001b[0;32m    313\u001b[0m         y,\n\u001b[0;32m    314\u001b[0m         scorers,\n\u001b[0;32m    315\u001b[0m         train,\n\u001b[0;32m    316\u001b[0m         test,\n\u001b[0;32m    317\u001b[0m         verbose,\n\u001b[0;32m    318\u001b[0m         \u001b[39mNone\u001b[39;49;00m,\n\u001b[0;32m    319\u001b[0m         fit_params,\n\u001b[0;32m    320\u001b[0m         return_train_score\u001b[39m=\u001b[39;49mreturn_train_score,\n\u001b[0;32m    321\u001b[0m         return_times\u001b[39m=\u001b[39;49m\u001b[39mTrue\u001b[39;49;00m,\n\u001b[0;32m    322\u001b[0m         return_estimator\u001b[39m=\u001b[39;49mreturn_estimator,\n\u001b[0;32m    323\u001b[0m         error_score\u001b[39m=\u001b[39;49merror_score,\n\u001b[0;32m    324\u001b[0m     )\n\u001b[0;32m    325\u001b[0m     \u001b[39mfor\u001b[39;49;00m train, test \u001b[39min\u001b[39;49;00m indices\n\u001b[0;32m    326\u001b[0m )\n\u001b[0;32m    328\u001b[0m _warn_or_raise_about_fit_failures(results, error_score)\n\u001b[0;32m    330\u001b[0m \u001b[39m# For callable scoring, the return type is only know after calling. If the\u001b[39;00m\n\u001b[0;32m    331\u001b[0m \u001b[39m# return type is a dictionary, the error scores can now be inserted with\u001b[39;00m\n\u001b[0;32m    332\u001b[0m \u001b[39m# the correct key.\u001b[39;00m\n",
      "File \u001b[1;32mc:\\Users\\kpano\\anaconda3\\Lib\\site-packages\\sklearn\\utils\\parallel.py:65\u001b[0m, in \u001b[0;36mParallel.__call__\u001b[1;34m(self, iterable)\u001b[0m\n\u001b[0;32m     60\u001b[0m config \u001b[39m=\u001b[39m get_config()\n\u001b[0;32m     61\u001b[0m iterable_with_config \u001b[39m=\u001b[39m (\n\u001b[0;32m     62\u001b[0m     (_with_config(delayed_func, config), args, kwargs)\n\u001b[0;32m     63\u001b[0m     \u001b[39mfor\u001b[39;00m delayed_func, args, kwargs \u001b[39min\u001b[39;00m iterable\n\u001b[0;32m     64\u001b[0m )\n\u001b[1;32m---> 65\u001b[0m \u001b[39mreturn\u001b[39;00m \u001b[39msuper\u001b[39;49m()\u001b[39m.\u001b[39;49m\u001b[39m__call__\u001b[39;49m(iterable_with_config)\n",
      "File \u001b[1;32mc:\\Users\\kpano\\anaconda3\\Lib\\site-packages\\joblib\\parallel.py:1088\u001b[0m, in \u001b[0;36mParallel.__call__\u001b[1;34m(self, iterable)\u001b[0m\n\u001b[0;32m   1085\u001b[0m \u001b[39mif\u001b[39;00m \u001b[39mself\u001b[39m\u001b[39m.\u001b[39mdispatch_one_batch(iterator):\n\u001b[0;32m   1086\u001b[0m     \u001b[39mself\u001b[39m\u001b[39m.\u001b[39m_iterating \u001b[39m=\u001b[39m \u001b[39mself\u001b[39m\u001b[39m.\u001b[39m_original_iterator \u001b[39mis\u001b[39;00m \u001b[39mnot\u001b[39;00m \u001b[39mNone\u001b[39;00m\n\u001b[1;32m-> 1088\u001b[0m \u001b[39mwhile\u001b[39;00m \u001b[39mself\u001b[39;49m\u001b[39m.\u001b[39;49mdispatch_one_batch(iterator):\n\u001b[0;32m   1089\u001b[0m     \u001b[39mpass\u001b[39;00m\n\u001b[0;32m   1091\u001b[0m \u001b[39mif\u001b[39;00m pre_dispatch \u001b[39m==\u001b[39m \u001b[39m\"\u001b[39m\u001b[39mall\u001b[39m\u001b[39m\"\u001b[39m \u001b[39mor\u001b[39;00m n_jobs \u001b[39m==\u001b[39m \u001b[39m1\u001b[39m:\n\u001b[0;32m   1092\u001b[0m     \u001b[39m# The iterable was consumed all at once by the above for loop.\u001b[39;00m\n\u001b[0;32m   1093\u001b[0m     \u001b[39m# No need to wait for async callbacks to trigger to\u001b[39;00m\n\u001b[0;32m   1094\u001b[0m     \u001b[39m# consumption.\u001b[39;00m\n",
      "File \u001b[1;32mc:\\Users\\kpano\\anaconda3\\Lib\\site-packages\\joblib\\parallel.py:901\u001b[0m, in \u001b[0;36mParallel.dispatch_one_batch\u001b[1;34m(self, iterator)\u001b[0m\n\u001b[0;32m    899\u001b[0m     \u001b[39mreturn\u001b[39;00m \u001b[39mFalse\u001b[39;00m\n\u001b[0;32m    900\u001b[0m \u001b[39melse\u001b[39;00m:\n\u001b[1;32m--> 901\u001b[0m     \u001b[39mself\u001b[39;49m\u001b[39m.\u001b[39;49m_dispatch(tasks)\n\u001b[0;32m    902\u001b[0m     \u001b[39mreturn\u001b[39;00m \u001b[39mTrue\u001b[39;00m\n",
      "File \u001b[1;32mc:\\Users\\kpano\\anaconda3\\Lib\\site-packages\\joblib\\parallel.py:819\u001b[0m, in \u001b[0;36mParallel._dispatch\u001b[1;34m(self, batch)\u001b[0m\n\u001b[0;32m    817\u001b[0m \u001b[39mwith\u001b[39;00m \u001b[39mself\u001b[39m\u001b[39m.\u001b[39m_lock:\n\u001b[0;32m    818\u001b[0m     job_idx \u001b[39m=\u001b[39m \u001b[39mlen\u001b[39m(\u001b[39mself\u001b[39m\u001b[39m.\u001b[39m_jobs)\n\u001b[1;32m--> 819\u001b[0m     job \u001b[39m=\u001b[39m \u001b[39mself\u001b[39;49m\u001b[39m.\u001b[39;49m_backend\u001b[39m.\u001b[39;49mapply_async(batch, callback\u001b[39m=\u001b[39;49mcb)\n\u001b[0;32m    820\u001b[0m     \u001b[39m# A job can complete so quickly than its callback is\u001b[39;00m\n\u001b[0;32m    821\u001b[0m     \u001b[39m# called before we get here, causing self._jobs to\u001b[39;00m\n\u001b[0;32m    822\u001b[0m     \u001b[39m# grow. To ensure correct results ordering, .insert is\u001b[39;00m\n\u001b[0;32m    823\u001b[0m     \u001b[39m# used (rather than .append) in the following line\u001b[39;00m\n\u001b[0;32m    824\u001b[0m     \u001b[39mself\u001b[39m\u001b[39m.\u001b[39m_jobs\u001b[39m.\u001b[39minsert(job_idx, job)\n",
      "File \u001b[1;32mc:\\Users\\kpano\\anaconda3\\Lib\\site-packages\\joblib\\_parallel_backends.py:208\u001b[0m, in \u001b[0;36mSequentialBackend.apply_async\u001b[1;34m(self, func, callback)\u001b[0m\n\u001b[0;32m    206\u001b[0m \u001b[39mdef\u001b[39;00m \u001b[39mapply_async\u001b[39m(\u001b[39mself\u001b[39m, func, callback\u001b[39m=\u001b[39m\u001b[39mNone\u001b[39;00m):\n\u001b[0;32m    207\u001b[0m     \u001b[39m\"\"\"Schedule a func to be run\"\"\"\u001b[39;00m\n\u001b[1;32m--> 208\u001b[0m     result \u001b[39m=\u001b[39m ImmediateResult(func)\n\u001b[0;32m    209\u001b[0m     \u001b[39mif\u001b[39;00m callback:\n\u001b[0;32m    210\u001b[0m         callback(result)\n",
      "File \u001b[1;32mc:\\Users\\kpano\\anaconda3\\Lib\\site-packages\\joblib\\_parallel_backends.py:597\u001b[0m, in \u001b[0;36mImmediateResult.__init__\u001b[1;34m(self, batch)\u001b[0m\n\u001b[0;32m    594\u001b[0m \u001b[39mdef\u001b[39;00m \u001b[39m__init__\u001b[39m(\u001b[39mself\u001b[39m, batch):\n\u001b[0;32m    595\u001b[0m     \u001b[39m# Don't delay the application, to avoid keeping the input\u001b[39;00m\n\u001b[0;32m    596\u001b[0m     \u001b[39m# arguments in memory\u001b[39;00m\n\u001b[1;32m--> 597\u001b[0m     \u001b[39mself\u001b[39m\u001b[39m.\u001b[39mresults \u001b[39m=\u001b[39m batch()\n",
      "File \u001b[1;32mc:\\Users\\kpano\\anaconda3\\Lib\\site-packages\\joblib\\parallel.py:288\u001b[0m, in \u001b[0;36mBatchedCalls.__call__\u001b[1;34m(self)\u001b[0m\n\u001b[0;32m    284\u001b[0m \u001b[39mdef\u001b[39;00m \u001b[39m__call__\u001b[39m(\u001b[39mself\u001b[39m):\n\u001b[0;32m    285\u001b[0m     \u001b[39m# Set the default nested backend to self._backend but do not set the\u001b[39;00m\n\u001b[0;32m    286\u001b[0m     \u001b[39m# change the default number of processes to -1\u001b[39;00m\n\u001b[0;32m    287\u001b[0m     \u001b[39mwith\u001b[39;00m parallel_backend(\u001b[39mself\u001b[39m\u001b[39m.\u001b[39m_backend, n_jobs\u001b[39m=\u001b[39m\u001b[39mself\u001b[39m\u001b[39m.\u001b[39m_n_jobs):\n\u001b[1;32m--> 288\u001b[0m         \u001b[39mreturn\u001b[39;00m [func(\u001b[39m*\u001b[39;49margs, \u001b[39m*\u001b[39;49m\u001b[39m*\u001b[39;49mkwargs)\n\u001b[0;32m    289\u001b[0m                 \u001b[39mfor\u001b[39;49;00m func, args, kwargs \u001b[39min\u001b[39;49;00m \u001b[39mself\u001b[39;49m\u001b[39m.\u001b[39;49mitems]\n",
      "File \u001b[1;32mc:\\Users\\kpano\\anaconda3\\Lib\\site-packages\\joblib\\parallel.py:288\u001b[0m, in \u001b[0;36m<listcomp>\u001b[1;34m(.0)\u001b[0m\n\u001b[0;32m    284\u001b[0m \u001b[39mdef\u001b[39;00m \u001b[39m__call__\u001b[39m(\u001b[39mself\u001b[39m):\n\u001b[0;32m    285\u001b[0m     \u001b[39m# Set the default nested backend to self._backend but do not set the\u001b[39;00m\n\u001b[0;32m    286\u001b[0m     \u001b[39m# change the default number of processes to -1\u001b[39;00m\n\u001b[0;32m    287\u001b[0m     \u001b[39mwith\u001b[39;00m parallel_backend(\u001b[39mself\u001b[39m\u001b[39m.\u001b[39m_backend, n_jobs\u001b[39m=\u001b[39m\u001b[39mself\u001b[39m\u001b[39m.\u001b[39m_n_jobs):\n\u001b[1;32m--> 288\u001b[0m         \u001b[39mreturn\u001b[39;00m [func(\u001b[39m*\u001b[39;49margs, \u001b[39m*\u001b[39;49m\u001b[39m*\u001b[39;49mkwargs)\n\u001b[0;32m    289\u001b[0m                 \u001b[39mfor\u001b[39;00m func, args, kwargs \u001b[39min\u001b[39;00m \u001b[39mself\u001b[39m\u001b[39m.\u001b[39mitems]\n",
      "File \u001b[1;32mc:\\Users\\kpano\\anaconda3\\Lib\\site-packages\\sklearn\\utils\\parallel.py:127\u001b[0m, in \u001b[0;36m_FuncWrapper.__call__\u001b[1;34m(self, *args, **kwargs)\u001b[0m\n\u001b[0;32m    125\u001b[0m     config \u001b[39m=\u001b[39m {}\n\u001b[0;32m    126\u001b[0m \u001b[39mwith\u001b[39;00m config_context(\u001b[39m*\u001b[39m\u001b[39m*\u001b[39mconfig):\n\u001b[1;32m--> 127\u001b[0m     \u001b[39mreturn\u001b[39;00m \u001b[39mself\u001b[39;49m\u001b[39m.\u001b[39;49mfunction(\u001b[39m*\u001b[39;49margs, \u001b[39m*\u001b[39;49m\u001b[39m*\u001b[39;49mkwargs)\n",
      "File \u001b[1;32mc:\\Users\\kpano\\anaconda3\\Lib\\site-packages\\sklearn\\model_selection\\_validation.py:732\u001b[0m, in \u001b[0;36m_fit_and_score\u001b[1;34m(estimator, X, y, scorer, train, test, verbose, parameters, fit_params, return_train_score, return_parameters, return_n_test_samples, return_times, return_estimator, split_progress, candidate_progress, error_score)\u001b[0m\n\u001b[0;32m    730\u001b[0m         estimator\u001b[39m.\u001b[39mfit(X_train, \u001b[39m*\u001b[39m\u001b[39m*\u001b[39mfit_params)\n\u001b[0;32m    731\u001b[0m     \u001b[39melse\u001b[39;00m:\n\u001b[1;32m--> 732\u001b[0m         estimator\u001b[39m.\u001b[39;49mfit(X_train, y_train, \u001b[39m*\u001b[39;49m\u001b[39m*\u001b[39;49mfit_params)\n\u001b[0;32m    734\u001b[0m \u001b[39mexcept\u001b[39;00m \u001b[39mException\u001b[39;00m:\n\u001b[0;32m    735\u001b[0m     \u001b[39m# Note fit time as time until error\u001b[39;00m\n\u001b[0;32m    736\u001b[0m     fit_time \u001b[39m=\u001b[39m time\u001b[39m.\u001b[39mtime() \u001b[39m-\u001b[39m start_time\n",
      "File \u001b[1;32mc:\\Users\\kpano\\anaconda3\\Lib\\site-packages\\imblearn\\pipeline.py:297\u001b[0m, in \u001b[0;36mPipeline.fit\u001b[1;34m(self, X, y, **fit_params)\u001b[0m\n\u001b[0;32m    295\u001b[0m     \u001b[39mif\u001b[39;00m \u001b[39mself\u001b[39m\u001b[39m.\u001b[39m_final_estimator \u001b[39m!=\u001b[39m \u001b[39m\"\u001b[39m\u001b[39mpassthrough\u001b[39m\u001b[39m\"\u001b[39m:\n\u001b[0;32m    296\u001b[0m         fit_params_last_step \u001b[39m=\u001b[39m fit_params_steps[\u001b[39mself\u001b[39m\u001b[39m.\u001b[39msteps[\u001b[39m-\u001b[39m\u001b[39m1\u001b[39m][\u001b[39m0\u001b[39m]]\n\u001b[1;32m--> 297\u001b[0m         \u001b[39mself\u001b[39;49m\u001b[39m.\u001b[39;49m_final_estimator\u001b[39m.\u001b[39;49mfit(Xt, yt, \u001b[39m*\u001b[39;49m\u001b[39m*\u001b[39;49mfit_params_last_step)\n\u001b[0;32m    298\u001b[0m \u001b[39mreturn\u001b[39;00m \u001b[39mself\u001b[39m\n",
      "File \u001b[1;32mc:\\Users\\kpano\\anaconda3\\Lib\\site-packages\\sklearn\\base.py:1151\u001b[0m, in \u001b[0;36m_fit_context.<locals>.decorator.<locals>.wrapper\u001b[1;34m(estimator, *args, **kwargs)\u001b[0m\n\u001b[0;32m   1144\u001b[0m     estimator\u001b[39m.\u001b[39m_validate_params()\n\u001b[0;32m   1146\u001b[0m \u001b[39mwith\u001b[39;00m config_context(\n\u001b[0;32m   1147\u001b[0m     skip_parameter_validation\u001b[39m=\u001b[39m(\n\u001b[0;32m   1148\u001b[0m         prefer_skip_nested_validation \u001b[39mor\u001b[39;00m global_skip_validation\n\u001b[0;32m   1149\u001b[0m     )\n\u001b[0;32m   1150\u001b[0m ):\n\u001b[1;32m-> 1151\u001b[0m     \u001b[39mreturn\u001b[39;00m fit_method(estimator, \u001b[39m*\u001b[39;49margs, \u001b[39m*\u001b[39;49m\u001b[39m*\u001b[39;49mkwargs)\n",
      "File \u001b[1;32mc:\\Users\\kpano\\anaconda3\\Lib\\site-packages\\sklearn\\ensemble\\_weight_boosting.py:171\u001b[0m, in \u001b[0;36mBaseWeightBoosting.fit\u001b[1;34m(self, X, y, sample_weight)\u001b[0m\n\u001b[0;32m    168\u001b[0m sample_weight[zero_weight_mask] \u001b[39m=\u001b[39m \u001b[39m0.0\u001b[39m\n\u001b[0;32m    170\u001b[0m \u001b[39m# Boosting step\u001b[39;00m\n\u001b[1;32m--> 171\u001b[0m sample_weight, estimator_weight, estimator_error \u001b[39m=\u001b[39m \u001b[39mself\u001b[39;49m\u001b[39m.\u001b[39;49m_boost(\n\u001b[0;32m    172\u001b[0m     iboost, X, y, sample_weight, random_state\n\u001b[0;32m    173\u001b[0m )\n\u001b[0;32m    175\u001b[0m \u001b[39m# Early termination\u001b[39;00m\n\u001b[0;32m    176\u001b[0m \u001b[39mif\u001b[39;00m sample_weight \u001b[39mis\u001b[39;00m \u001b[39mNone\u001b[39;00m:\n",
      "File \u001b[1;32mc:\\Users\\kpano\\anaconda3\\Lib\\site-packages\\sklearn\\ensemble\\_weight_boosting.py:579\u001b[0m, in \u001b[0;36mAdaBoostClassifier._boost\u001b[1;34m(self, iboost, X, y, sample_weight, random_state)\u001b[0m\n\u001b[0;32m    540\u001b[0m \u001b[39m\"\"\"Implement a single boost.\u001b[39;00m\n\u001b[0;32m    541\u001b[0m \n\u001b[0;32m    542\u001b[0m \u001b[39mPerform a single boost according to the real multi-class SAMME.R\u001b[39;00m\n\u001b[1;32m   (...)\u001b[0m\n\u001b[0;32m    576\u001b[0m \u001b[39m    If None then boosting has terminated early.\u001b[39;00m\n\u001b[0;32m    577\u001b[0m \u001b[39m\"\"\"\u001b[39;00m\n\u001b[0;32m    578\u001b[0m \u001b[39mif\u001b[39;00m \u001b[39mself\u001b[39m\u001b[39m.\u001b[39malgorithm \u001b[39m==\u001b[39m \u001b[39m\"\u001b[39m\u001b[39mSAMME.R\u001b[39m\u001b[39m\"\u001b[39m:\n\u001b[1;32m--> 579\u001b[0m     \u001b[39mreturn\u001b[39;00m \u001b[39mself\u001b[39;49m\u001b[39m.\u001b[39;49m_boost_real(iboost, X, y, sample_weight, random_state)\n\u001b[0;32m    581\u001b[0m \u001b[39melse\u001b[39;00m:  \u001b[39m# elif self.algorithm == \"SAMME\":\u001b[39;00m\n\u001b[0;32m    582\u001b[0m     \u001b[39mreturn\u001b[39;00m \u001b[39mself\u001b[39m\u001b[39m.\u001b[39m_boost_discrete(iboost, X, y, sample_weight, random_state)\n",
      "File \u001b[1;32mc:\\Users\\kpano\\anaconda3\\Lib\\site-packages\\sklearn\\ensemble\\_weight_boosting.py:588\u001b[0m, in \u001b[0;36mAdaBoostClassifier._boost_real\u001b[1;34m(self, iboost, X, y, sample_weight, random_state)\u001b[0m\n\u001b[0;32m    585\u001b[0m \u001b[39m\"\"\"Implement a single boost using the SAMME.R real algorithm.\"\"\"\u001b[39;00m\n\u001b[0;32m    586\u001b[0m estimator \u001b[39m=\u001b[39m \u001b[39mself\u001b[39m\u001b[39m.\u001b[39m_make_estimator(random_state\u001b[39m=\u001b[39mrandom_state)\n\u001b[1;32m--> 588\u001b[0m estimator\u001b[39m.\u001b[39;49mfit(X, y, sample_weight\u001b[39m=\u001b[39;49msample_weight)\n\u001b[0;32m    590\u001b[0m y_predict_proba \u001b[39m=\u001b[39m estimator\u001b[39m.\u001b[39mpredict_proba(X)\n\u001b[0;32m    592\u001b[0m \u001b[39mif\u001b[39;00m iboost \u001b[39m==\u001b[39m \u001b[39m0\u001b[39m:\n",
      "File \u001b[1;32mc:\\Users\\kpano\\anaconda3\\Lib\\site-packages\\sklearn\\base.py:1151\u001b[0m, in \u001b[0;36m_fit_context.<locals>.decorator.<locals>.wrapper\u001b[1;34m(estimator, *args, **kwargs)\u001b[0m\n\u001b[0;32m   1144\u001b[0m     estimator\u001b[39m.\u001b[39m_validate_params()\n\u001b[0;32m   1146\u001b[0m \u001b[39mwith\u001b[39;00m config_context(\n\u001b[0;32m   1147\u001b[0m     skip_parameter_validation\u001b[39m=\u001b[39m(\n\u001b[0;32m   1148\u001b[0m         prefer_skip_nested_validation \u001b[39mor\u001b[39;00m global_skip_validation\n\u001b[0;32m   1149\u001b[0m     )\n\u001b[0;32m   1150\u001b[0m ):\n\u001b[1;32m-> 1151\u001b[0m     \u001b[39mreturn\u001b[39;00m fit_method(estimator, \u001b[39m*\u001b[39;49margs, \u001b[39m*\u001b[39;49m\u001b[39m*\u001b[39;49mkwargs)\n",
      "File \u001b[1;32mc:\\Users\\kpano\\anaconda3\\Lib\\site-packages\\sklearn\\tree\\_classes.py:959\u001b[0m, in \u001b[0;36mDecisionTreeClassifier.fit\u001b[1;34m(self, X, y, sample_weight, check_input)\u001b[0m\n\u001b[0;32m    928\u001b[0m \u001b[39m@_fit_context\u001b[39m(prefer_skip_nested_validation\u001b[39m=\u001b[39m\u001b[39mTrue\u001b[39;00m)\n\u001b[0;32m    929\u001b[0m \u001b[39mdef\u001b[39;00m \u001b[39mfit\u001b[39m(\u001b[39mself\u001b[39m, X, y, sample_weight\u001b[39m=\u001b[39m\u001b[39mNone\u001b[39;00m, check_input\u001b[39m=\u001b[39m\u001b[39mTrue\u001b[39;00m):\n\u001b[0;32m    930\u001b[0m     \u001b[39m\"\"\"Build a decision tree classifier from the training set (X, y).\u001b[39;00m\n\u001b[0;32m    931\u001b[0m \n\u001b[0;32m    932\u001b[0m \u001b[39m    Parameters\u001b[39;00m\n\u001b[1;32m   (...)\u001b[0m\n\u001b[0;32m    956\u001b[0m \u001b[39m        Fitted estimator.\u001b[39;00m\n\u001b[0;32m    957\u001b[0m \u001b[39m    \"\"\"\u001b[39;00m\n\u001b[1;32m--> 959\u001b[0m     \u001b[39msuper\u001b[39;49m()\u001b[39m.\u001b[39;49m_fit(\n\u001b[0;32m    960\u001b[0m         X,\n\u001b[0;32m    961\u001b[0m         y,\n\u001b[0;32m    962\u001b[0m         sample_weight\u001b[39m=\u001b[39;49msample_weight,\n\u001b[0;32m    963\u001b[0m         check_input\u001b[39m=\u001b[39;49mcheck_input,\n\u001b[0;32m    964\u001b[0m     )\n\u001b[0;32m    965\u001b[0m     \u001b[39mreturn\u001b[39;00m \u001b[39mself\u001b[39m\n",
      "File \u001b[1;32mc:\\Users\\kpano\\anaconda3\\Lib\\site-packages\\sklearn\\tree\\_classes.py:443\u001b[0m, in \u001b[0;36mBaseDecisionTree._fit\u001b[1;34m(self, X, y, sample_weight, check_input, missing_values_in_feature_mask)\u001b[0m\n\u001b[0;32m    432\u001b[0m \u001b[39melse\u001b[39;00m:\n\u001b[0;32m    433\u001b[0m     builder \u001b[39m=\u001b[39m BestFirstTreeBuilder(\n\u001b[0;32m    434\u001b[0m         splitter,\n\u001b[0;32m    435\u001b[0m         min_samples_split,\n\u001b[1;32m   (...)\u001b[0m\n\u001b[0;32m    440\u001b[0m         \u001b[39mself\u001b[39m\u001b[39m.\u001b[39mmin_impurity_decrease,\n\u001b[0;32m    441\u001b[0m     )\n\u001b[1;32m--> 443\u001b[0m builder\u001b[39m.\u001b[39;49mbuild(\u001b[39mself\u001b[39;49m\u001b[39m.\u001b[39;49mtree_, X, y, sample_weight, missing_values_in_feature_mask)\n\u001b[0;32m    445\u001b[0m \u001b[39mif\u001b[39;00m \u001b[39mself\u001b[39m\u001b[39m.\u001b[39mn_outputs_ \u001b[39m==\u001b[39m \u001b[39m1\u001b[39m \u001b[39mand\u001b[39;00m is_classifier(\u001b[39mself\u001b[39m):\n\u001b[0;32m    446\u001b[0m     \u001b[39mself\u001b[39m\u001b[39m.\u001b[39mn_classes_ \u001b[39m=\u001b[39m \u001b[39mself\u001b[39m\u001b[39m.\u001b[39mn_classes_[\u001b[39m0\u001b[39m]\n",
      "\u001b[1;31mKeyboardInterrupt\u001b[0m: "
     ]
    }
   ],
   "source": [
    "import imblearn\n",
    "\n",
    "# NOTE:\n",
    "# - THere is a plenty of samplers, and we have the choice between oversample the minority class ('yes') or undersample the majority class ('no').\n",
    "# - But the minority class ('yes') is more critical, and we want our model to perform well on predicting it, so we choose to oversample it.\n",
    "\n",
    "##RUN\n",
    "result = run_experiment(\n",
    "    data,\n",
    "    preprocessor,\n",
    "    eval_metrics=[\"accuracy\", \"balanced_accuracy\", \"f1\", \"precision\", \"recall\"],\n",
    "    task='classifier',\n",
    "    additional_steps=[('smote', imblearn.over_sampling.SMOTE())],\n",
    "    pipeline_func=imblearn.pipeline.make_pipeline\n",
    ")\n",
    "result.style.apply(highlight_max)"
   ]
  },
  {
   "cell_type": "markdown",
   "metadata": {},
   "source": [
    "### Feature selection"
   ]
  },
  {
   "cell_type": "markdown",
   "metadata": {},
   "source": [
    "<p>\n",
    "\n",
    "</p>"
   ]
  },
  {
   "cell_type": "code",
   "execution_count": 5,
   "metadata": {},
   "outputs": [
    {
     "name": "stdout",
     "output_type": "stream",
     "text": [
      "MOST IMPORTANT FEATURES: ['X1' 'X2' 'X5']\n"
     ]
    }
   ],
   "source": [
    "from sklearn.feature_selection import SequentialFeatureSelector\n",
    "from sklearn.naive_bayes import CategoricalNB\n",
    "from sklearn.base import BaseEstimator\n",
    "\n",
    "\n",
    "def select_features(\n",
    "    X: DataFrame, y: DataFrame, estimator: BaseEstimator\n",
    ") -> SequentialFeatureSelector:\n",
    "    return SequentialFeatureSelector(\n",
    "        estimator=estimator,\n",
    "        n_features_to_select=\"auto\",\n",
    "        scoring=\"accuracy\",\n",
    "        direction=\"backward\",\n",
    "    ).fit(X, y)\n",
    "\n",
    "\n",
    "fs = select_features(X=X_train, y=y_train, estimator=CategoricalNB())\n",
    "\n",
    "print(f\"MOST IMPORTANT FEATURES: {fs.get_feature_names_out()}\")"
   ]
  },
  {
   "cell_type": "code",
   "execution_count": 6,
   "metadata": {},
   "outputs": [
    {
     "name": "stdout",
     "output_type": "stream",
     "text": [
      "(100, 3) (26, 3)\n"
     ]
    }
   ],
   "source": [
    "X_train, X_test = list(map(fs.transform, [X_train, X_test]))\n",
    "print(X_train.shape, X_test.shape)"
   ]
  },
  {
   "cell_type": "code",
   "execution_count": 7,
   "metadata": {},
   "outputs": [
    {
     "data": {
      "text/html": [
       "<div>\n",
       "<style scoped>\n",
       "    .dataframe tbody tr th:only-of-type {\n",
       "        vertical-align: middle;\n",
       "    }\n",
       "\n",
       "    .dataframe tbody tr th {\n",
       "        vertical-align: top;\n",
       "    }\n",
       "\n",
       "    .dataframe thead th {\n",
       "        text-align: right;\n",
       "    }\n",
       "</style>\n",
       "<table border=\"1\" class=\"dataframe\">\n",
       "  <thead>\n",
       "    <tr style=\"text-align: right;\">\n",
       "      <th></th>\n",
       "      <th>MODEL</th>\n",
       "      <th>TRAIN ACC</th>\n",
       "      <th>TEST ACC</th>\n",
       "      <th>DURATION (SECONDS)</th>\n",
       "    </tr>\n",
       "  </thead>\n",
       "  <tbody>\n",
       "    <tr>\n",
       "      <th>3</th>\n",
       "      <td>DecisionTreeClassifier</td>\n",
       "      <td>0.82</td>\n",
       "      <td>0.846154</td>\n",
       "      <td>0.006182</td>\n",
       "    </tr>\n",
       "    <tr>\n",
       "      <th>25</th>\n",
       "      <td>RandomForestClassifier</td>\n",
       "      <td>0.82</td>\n",
       "      <td>0.846154</td>\n",
       "      <td>0.599099</td>\n",
       "    </tr>\n",
       "    <tr>\n",
       "      <th>12</th>\n",
       "      <td>LabelSpreading</td>\n",
       "      <td>0.82</td>\n",
       "      <td>0.846154</td>\n",
       "      <td>0.007594</td>\n",
       "    </tr>\n",
       "    <tr>\n",
       "      <th>11</th>\n",
       "      <td>LabelPropagation</td>\n",
       "      <td>0.82</td>\n",
       "      <td>0.846154</td>\n",
       "      <td>0.012365</td>\n",
       "    </tr>\n",
       "    <tr>\n",
       "      <th>6</th>\n",
       "      <td>ExtraTreesClassifier</td>\n",
       "      <td>0.82</td>\n",
       "      <td>0.807692</td>\n",
       "      <td>0.412812</td>\n",
       "    </tr>\n",
       "    <tr>\n",
       "      <th>8</th>\n",
       "      <td>GaussianProcessClassifier</td>\n",
       "      <td>0.75</td>\n",
       "      <td>0.807692</td>\n",
       "      <td>0.009373</td>\n",
       "    </tr>\n",
       "    <tr>\n",
       "      <th>20</th>\n",
       "      <td>NuSVC</td>\n",
       "      <td>0.79</td>\n",
       "      <td>0.769231</td>\n",
       "      <td>0.015816</td>\n",
       "    </tr>\n",
       "    <tr>\n",
       "      <th>10</th>\n",
       "      <td>KNeighborsClassifier</td>\n",
       "      <td>0.71</td>\n",
       "      <td>0.769231</td>\n",
       "      <td>0.012657</td>\n",
       "    </tr>\n",
       "    <tr>\n",
       "      <th>24</th>\n",
       "      <td>RadiusNeighborsClassifier</td>\n",
       "      <td>0.70</td>\n",
       "      <td>0.769231</td>\n",
       "      <td>0.008663</td>\n",
       "    </tr>\n",
       "    <tr>\n",
       "      <th>5</th>\n",
       "      <td>ExtraTreeClassifier</td>\n",
       "      <td>0.82</td>\n",
       "      <td>0.769231</td>\n",
       "      <td>0.007755</td>\n",
       "    </tr>\n",
       "    <tr>\n",
       "      <th>9</th>\n",
       "      <td>HistGradientBoostingClassifier</td>\n",
       "      <td>0.66</td>\n",
       "      <td>0.730769</td>\n",
       "      <td>0.133440</td>\n",
       "    </tr>\n",
       "    <tr>\n",
       "      <th>17</th>\n",
       "      <td>MLPClassifier</td>\n",
       "      <td>0.68</td>\n",
       "      <td>0.692308</td>\n",
       "      <td>0.352473</td>\n",
       "    </tr>\n",
       "    <tr>\n",
       "      <th>7</th>\n",
       "      <td>GaussianNB</td>\n",
       "      <td>0.61</td>\n",
       "      <td>0.653846</td>\n",
       "      <td>0.009722</td>\n",
       "    </tr>\n",
       "    <tr>\n",
       "      <th>1</th>\n",
       "      <td>CategoricalNB</td>\n",
       "      <td>0.61</td>\n",
       "      <td>0.653846</td>\n",
       "      <td>0.007044</td>\n",
       "    </tr>\n",
       "    <tr>\n",
       "      <th>29</th>\n",
       "      <td>SVC</td>\n",
       "      <td>0.65</td>\n",
       "      <td>0.653846</td>\n",
       "      <td>0.006500</td>\n",
       "    </tr>\n",
       "    <tr>\n",
       "      <th>19</th>\n",
       "      <td>NearestCentroid</td>\n",
       "      <td>0.60</td>\n",
       "      <td>0.615385</td>\n",
       "      <td>0.016646</td>\n",
       "    </tr>\n",
       "    <tr>\n",
       "      <th>26</th>\n",
       "      <td>RidgeClassifier</td>\n",
       "      <td>0.58</td>\n",
       "      <td>0.615385</td>\n",
       "      <td>0.000000</td>\n",
       "    </tr>\n",
       "    <tr>\n",
       "      <th>27</th>\n",
       "      <td>RidgeClassifierCV</td>\n",
       "      <td>0.58</td>\n",
       "      <td>0.615385</td>\n",
       "      <td>0.019958</td>\n",
       "    </tr>\n",
       "    <tr>\n",
       "      <th>23</th>\n",
       "      <td>QuadraticDiscriminantAnalysis</td>\n",
       "      <td>0.58</td>\n",
       "      <td>0.615385</td>\n",
       "      <td>0.004070</td>\n",
       "    </tr>\n",
       "    <tr>\n",
       "      <th>15</th>\n",
       "      <td>LogisticRegression</td>\n",
       "      <td>0.58</td>\n",
       "      <td>0.615385</td>\n",
       "      <td>0.011220</td>\n",
       "    </tr>\n",
       "    <tr>\n",
       "      <th>16</th>\n",
       "      <td>LogisticRegressionCV</td>\n",
       "      <td>0.58</td>\n",
       "      <td>0.615385</td>\n",
       "      <td>0.378289</td>\n",
       "    </tr>\n",
       "    <tr>\n",
       "      <th>14</th>\n",
       "      <td>LinearSVC</td>\n",
       "      <td>0.58</td>\n",
       "      <td>0.615385</td>\n",
       "      <td>0.016441</td>\n",
       "    </tr>\n",
       "    <tr>\n",
       "      <th>13</th>\n",
       "      <td>LinearDiscriminantAnalysis</td>\n",
       "      <td>0.58</td>\n",
       "      <td>0.615385</td>\n",
       "      <td>0.005481</td>\n",
       "    </tr>\n",
       "    <tr>\n",
       "      <th>18</th>\n",
       "      <td>MultinomialNB</td>\n",
       "      <td>0.58</td>\n",
       "      <td>0.538462</td>\n",
       "      <td>0.016088</td>\n",
       "    </tr>\n",
       "    <tr>\n",
       "      <th>21</th>\n",
       "      <td>PassiveAggressiveClassifier</td>\n",
       "      <td>0.56</td>\n",
       "      <td>0.538462</td>\n",
       "      <td>0.004466</td>\n",
       "    </tr>\n",
       "    <tr>\n",
       "      <th>22</th>\n",
       "      <td>Perceptron</td>\n",
       "      <td>0.58</td>\n",
       "      <td>0.538462</td>\n",
       "      <td>0.005698</td>\n",
       "    </tr>\n",
       "    <tr>\n",
       "      <th>4</th>\n",
       "      <td>DummyClassifier</td>\n",
       "      <td>0.55</td>\n",
       "      <td>0.538462</td>\n",
       "      <td>0.003513</td>\n",
       "    </tr>\n",
       "    <tr>\n",
       "      <th>0</th>\n",
       "      <td>BernoulliNB</td>\n",
       "      <td>0.55</td>\n",
       "      <td>0.538462</td>\n",
       "      <td>0.009966</td>\n",
       "    </tr>\n",
       "    <tr>\n",
       "      <th>2</th>\n",
       "      <td>ComplementNB</td>\n",
       "      <td>0.50</td>\n",
       "      <td>0.500000</td>\n",
       "      <td>0.006620</td>\n",
       "    </tr>\n",
       "    <tr>\n",
       "      <th>28</th>\n",
       "      <td>SGDClassifier</td>\n",
       "      <td>0.51</td>\n",
       "      <td>0.500000</td>\n",
       "      <td>0.005850</td>\n",
       "    </tr>\n",
       "  </tbody>\n",
       "</table>\n",
       "</div>"
      ],
      "text/plain": [
       "                             MODEL  TRAIN ACC  TEST ACC  DURATION (SECONDS)\n",
       "3           DecisionTreeClassifier       0.82  0.846154            0.006182\n",
       "25          RandomForestClassifier       0.82  0.846154            0.599099\n",
       "12                  LabelSpreading       0.82  0.846154            0.007594\n",
       "11                LabelPropagation       0.82  0.846154            0.012365\n",
       "6             ExtraTreesClassifier       0.82  0.807692            0.412812\n",
       "8        GaussianProcessClassifier       0.75  0.807692            0.009373\n",
       "20                           NuSVC       0.79  0.769231            0.015816\n",
       "10            KNeighborsClassifier       0.71  0.769231            0.012657\n",
       "24       RadiusNeighborsClassifier       0.70  0.769231            0.008663\n",
       "5              ExtraTreeClassifier       0.82  0.769231            0.007755\n",
       "9   HistGradientBoostingClassifier       0.66  0.730769            0.133440\n",
       "17                   MLPClassifier       0.68  0.692308            0.352473\n",
       "7                       GaussianNB       0.61  0.653846            0.009722\n",
       "1                    CategoricalNB       0.61  0.653846            0.007044\n",
       "29                             SVC       0.65  0.653846            0.006500\n",
       "19                 NearestCentroid       0.60  0.615385            0.016646\n",
       "26                 RidgeClassifier       0.58  0.615385            0.000000\n",
       "27               RidgeClassifierCV       0.58  0.615385            0.019958\n",
       "23   QuadraticDiscriminantAnalysis       0.58  0.615385            0.004070\n",
       "15              LogisticRegression       0.58  0.615385            0.011220\n",
       "16            LogisticRegressionCV       0.58  0.615385            0.378289\n",
       "14                       LinearSVC       0.58  0.615385            0.016441\n",
       "13      LinearDiscriminantAnalysis       0.58  0.615385            0.005481\n",
       "18                   MultinomialNB       0.58  0.538462            0.016088\n",
       "21     PassiveAggressiveClassifier       0.56  0.538462            0.004466\n",
       "22                      Perceptron       0.58  0.538462            0.005698\n",
       "4                  DummyClassifier       0.55  0.538462            0.003513\n",
       "0                      BernoulliNB       0.55  0.538462            0.009966\n",
       "2                     ComplementNB       0.50  0.500000            0.006620\n",
       "28                   SGDClassifier       0.51  0.500000            0.005850"
      ]
     },
     "execution_count": 7,
     "metadata": {},
     "output_type": "execute_result"
    }
   ],
   "source": [
    "results, fitted_models = run_experiment(\n",
    "    partitions=[X_train, X_test, y_train, y_test], task=TYPE_TASK\n",
    ")\n",
    "results"
   ]
  },
  {
   "cell_type": "markdown",
   "metadata": {},
   "source": [
    "#### Feature importance -- DECISION TREE CLASSIFIER"
   ]
  },
  {
   "cell_type": "code",
   "execution_count": 8,
   "metadata": {},
   "outputs": [
    {
     "name": "stdout",
     "output_type": "stream",
     "text": [
      "X5      0.250 +/- 0.043\n",
      "X1      0.201 +/- 0.035\n",
      "X2      0.193 +/- 0.034\n"
     ]
    }
   ],
   "source": [
    "from sklearn.inspection import permutation_importance\n",
    "\n",
    "BEST_FITTED_MODEL = fitted_models[\"DecisionTreeClassifier\"]\n",
    "r = permutation_importance(\n",
    "    BEST_FITTED_MODEL,\n",
    "    X=X_train,\n",
    "    y=y_train,\n",
    "    n_repeats=30,\n",
    "    random_state=SEED,\n",
    "    scoring=\"accuracy\",\n",
    ")\n",
    "\n",
    "for i in r.importances_mean.argsort()[::-1]:\n",
    "    if r.importances_mean[i] - 2 * r.importances_std[i] > 0:\n",
    "        print(\n",
    "            f\"{fs.get_feature_names_out()[i]:<8}\"\n",
    "            f\"{r.importances_mean[i]:.3f}\"\n",
    "            f\" +/- {r.importances_std[i]:.3f}\"\n",
    "        )"
   ]
  },
  {
   "cell_type": "code",
   "execution_count": 9,
   "metadata": {},
   "outputs": [
    {
     "data": {
      "text/plain": [
       "<sklearn.metrics._plot.confusion_matrix.ConfusionMatrixDisplay at 0x13941bc1a90>"
      ]
     },
     "execution_count": 9,
     "metadata": {},
     "output_type": "execute_result"
    },
    {
     "data": {
      "image/png": "[encoded data removed]",
      "text/plain": [
       "<Figure size 640x480 with 2 Axes>"
      ]
     },
     "metadata": {},
     "output_type": "display_data"
    }
   ],
   "source": [
    "from sklearn.metrics import confusion_matrix, ConfusionMatrixDisplay\n",
    "\n",
    "predictions = BEST_FITTED_MODEL.predict(X_test)\n",
    "conf_mat = confusion_matrix(y_true=y_test, y_pred=predictions)\n",
    "\n",
    "ConfusionMatrixDisplay(confusion_matrix=conf_mat).plot()"
   ]
  },
  {
   "cell_type": "markdown",
   "metadata": {},
   "source": [
    "#### Classification report"
   ]
  },
  {
   "cell_type": "code",
   "execution_count": 11,
   "metadata": {},
   "outputs": [
    {
     "data": {
      "text/html": [
       "<div>\n",
       "<style scoped>\n",
       "    .dataframe tbody tr th:only-of-type {\n",
       "        vertical-align: middle;\n",
       "    }\n",
       "\n",
       "    .dataframe tbody tr th {\n",
       "        vertical-align: top;\n",
       "    }\n",
       "\n",
       "    .dataframe thead th {\n",
       "        text-align: right;\n",
       "    }\n",
       "</style>\n",
       "<table border=\"1\" class=\"dataframe\">\n",
       "  <thead>\n",
       "    <tr style=\"text-align: right;\">\n",
       "      <th></th>\n",
       "      <th>precision</th>\n",
       "      <th>recall</th>\n",
       "      <th>f1-score</th>\n",
       "      <th>support</th>\n",
       "    </tr>\n",
       "  </thead>\n",
       "  <tbody>\n",
       "    <tr>\n",
       "      <th>0</th>\n",
       "      <td>0.785714</td>\n",
       "      <td>0.916667</td>\n",
       "      <td>0.846154</td>\n",
       "      <td>12.000000</td>\n",
       "    </tr>\n",
       "    <tr>\n",
       "      <th>1</th>\n",
       "      <td>0.916667</td>\n",
       "      <td>0.785714</td>\n",
       "      <td>0.846154</td>\n",
       "      <td>14.000000</td>\n",
       "    </tr>\n",
       "    <tr>\n",
       "      <th>accuracy</th>\n",
       "      <td>0.846154</td>\n",
       "      <td>0.846154</td>\n",
       "      <td>0.846154</td>\n",
       "      <td>0.846154</td>\n",
       "    </tr>\n",
       "    <tr>\n",
       "      <th>macro avg</th>\n",
       "      <td>0.851190</td>\n",
       "      <td>0.851190</td>\n",
       "      <td>0.846154</td>\n",
       "      <td>26.000000</td>\n",
       "    </tr>\n",
       "    <tr>\n",
       "      <th>weighted avg</th>\n",
       "      <td>0.856227</td>\n",
       "      <td>0.846154</td>\n",
       "      <td>0.846154</td>\n",
       "      <td>26.000000</td>\n",
       "    </tr>\n",
       "  </tbody>\n",
       "</table>\n",
       "</div>"
      ],
      "text/plain": [
       "              precision    recall  f1-score    support\n",
       "0              0.785714  0.916667  0.846154  12.000000\n",
       "1              0.916667  0.785714  0.846154  14.000000\n",
       "accuracy       0.846154  0.846154  0.846154   0.846154\n",
       "macro avg      0.851190  0.851190  0.846154  26.000000\n",
       "weighted avg   0.856227  0.846154  0.846154  26.000000"
      ]
     },
     "execution_count": 11,
     "metadata": {},
     "output_type": "execute_result"
    }
   ],
   "source": [
    "from sklearn.metrics import classification_report\n",
    "\n",
    "report = classification_report(y_test, predictions, output_dict=True)\n",
    "df_classification_report = DataFrame(report).transpose()\n",
    "df_classification_report.sort_values(by=[\"f1-score\"], ascending=False, inplace=True)\n",
    "df_classification_report"
   ]
  },
  {
   "cell_type": "markdown",
   "metadata": {},
   "source": [
    "#### SAVE MODEL\n",
    "---"
   ]
  },
  {
   "cell_type": "code",
   "execution_count": 12,
   "metadata": {},
   "outputs": [],
   "source": [
    "save_model(fitted_model=BEST_FITTED_MODEL, filepath=\"acme_best_model.jb\")"
   ]
  }
 ],
 "metadata": {
  "kernelspec": {
   "display_name": "base",
   "language": "python",
   "name": "python3"
  },
  "language_info": {
   "codemirror_mode": {
    "name": "ipython",
    "version": 3
   },
   "file_extension": ".py",
   "mimetype": "text/x-python",
   "name": "python",
   "nbconvert_exporter": "python",
   "pygments_lexer": "ipython3",
   "version": "3.11.4"
  },
  "orig_nbformat": 4
 },
 "nbformat": 4,
 "nbformat_minor": 2
}
