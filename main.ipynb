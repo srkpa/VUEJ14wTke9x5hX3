{
 "cells": [
  {
   "cell_type": "markdown",
   "metadata": {},
   "source": [
    "### IMPORTS\n",
    "---"
   ]
  },
  {
   "cell_type": "code",
   "execution_count": null,
   "metadata": {},
   "outputs": [],
   "source": [
    "## Install these packages if needeed\n",
    "%pip install pandas\n",
    "%pip install ydata-profiling\n",
    "%pip install -U scikit-learn"
   ]
  },
  {
   "cell_type": "code",
   "execution_count": 1,
   "metadata": {},
   "outputs": [],
   "source": [
    "%load_ext autoreload\n",
    "%autoreload 2\n",
    "\n",
    "from pandas import read_csv, DataFrame\n",
    "from ydata_profiling import ProfileReport\n",
    "from sklearn.model_selection import train_test_split\n",
    "from src.utils import get_model, train_model, test_model, save_model\n",
    "\n",
    "import warnings \n",
    "warnings. filterwarnings('ignore')"
   ]
  },
  {
   "cell_type": "markdown",
   "metadata": {},
   "source": [
    "### DATA\n",
    "---"
   ]
  },
  {
   "cell_type": "code",
   "execution_count": 2,
   "metadata": {},
   "outputs": [
    {
     "data": {
      "text/html": [
       "<div>\n",
       "<style scoped>\n",
       "    .dataframe tbody tr th:only-of-type {\n",
       "        vertical-align: middle;\n",
       "    }\n",
       "\n",
       "    .dataframe tbody tr th {\n",
       "        vertical-align: top;\n",
       "    }\n",
       "\n",
       "    .dataframe thead th {\n",
       "        text-align: right;\n",
       "    }\n",
       "</style>\n",
       "<table border=\"1\" class=\"dataframe\">\n",
       "  <thead>\n",
       "    <tr style=\"text-align: right;\">\n",
       "      <th></th>\n",
       "      <th>age</th>\n",
       "      <th>job</th>\n",
       "      <th>marital</th>\n",
       "      <th>education</th>\n",
       "      <th>default</th>\n",
       "      <th>balance</th>\n",
       "      <th>housing</th>\n",
       "      <th>loan</th>\n",
       "      <th>contact</th>\n",
       "      <th>day</th>\n",
       "      <th>month</th>\n",
       "      <th>duration</th>\n",
       "      <th>campaign</th>\n",
       "      <th>y</th>\n",
       "    </tr>\n",
       "  </thead>\n",
       "  <tbody>\n",
       "    <tr>\n",
       "      <th>0</th>\n",
       "      <td>58</td>\n",
       "      <td>management</td>\n",
       "      <td>married</td>\n",
       "      <td>tertiary</td>\n",
       "      <td>no</td>\n",
       "      <td>2143</td>\n",
       "      <td>yes</td>\n",
       "      <td>no</td>\n",
       "      <td>unknown</td>\n",
       "      <td>5</td>\n",
       "      <td>may</td>\n",
       "      <td>261</td>\n",
       "      <td>1</td>\n",
       "      <td>no</td>\n",
       "    </tr>\n",
       "    <tr>\n",
       "      <th>1</th>\n",
       "      <td>44</td>\n",
       "      <td>technician</td>\n",
       "      <td>single</td>\n",
       "      <td>secondary</td>\n",
       "      <td>no</td>\n",
       "      <td>29</td>\n",
       "      <td>yes</td>\n",
       "      <td>no</td>\n",
       "      <td>unknown</td>\n",
       "      <td>5</td>\n",
       "      <td>may</td>\n",
       "      <td>151</td>\n",
       "      <td>1</td>\n",
       "      <td>no</td>\n",
       "    </tr>\n",
       "    <tr>\n",
       "      <th>2</th>\n",
       "      <td>33</td>\n",
       "      <td>entrepreneur</td>\n",
       "      <td>married</td>\n",
       "      <td>secondary</td>\n",
       "      <td>no</td>\n",
       "      <td>2</td>\n",
       "      <td>yes</td>\n",
       "      <td>yes</td>\n",
       "      <td>unknown</td>\n",
       "      <td>5</td>\n",
       "      <td>may</td>\n",
       "      <td>76</td>\n",
       "      <td>1</td>\n",
       "      <td>no</td>\n",
       "    </tr>\n",
       "    <tr>\n",
       "      <th>3</th>\n",
       "      <td>47</td>\n",
       "      <td>blue-collar</td>\n",
       "      <td>married</td>\n",
       "      <td>unknown</td>\n",
       "      <td>no</td>\n",
       "      <td>1506</td>\n",
       "      <td>yes</td>\n",
       "      <td>no</td>\n",
       "      <td>unknown</td>\n",
       "      <td>5</td>\n",
       "      <td>may</td>\n",
       "      <td>92</td>\n",
       "      <td>1</td>\n",
       "      <td>no</td>\n",
       "    </tr>\n",
       "    <tr>\n",
       "      <th>4</th>\n",
       "      <td>33</td>\n",
       "      <td>unknown</td>\n",
       "      <td>single</td>\n",
       "      <td>unknown</td>\n",
       "      <td>no</td>\n",
       "      <td>1</td>\n",
       "      <td>no</td>\n",
       "      <td>no</td>\n",
       "      <td>unknown</td>\n",
       "      <td>5</td>\n",
       "      <td>may</td>\n",
       "      <td>198</td>\n",
       "      <td>1</td>\n",
       "      <td>no</td>\n",
       "    </tr>\n",
       "  </tbody>\n",
       "</table>\n",
       "</div>"
      ],
      "text/plain": [
       "   age           job  marital  education default  balance housing loan  \\\n",
       "0   58    management  married   tertiary      no     2143     yes   no   \n",
       "1   44    technician   single  secondary      no       29     yes   no   \n",
       "2   33  entrepreneur  married  secondary      no        2     yes  yes   \n",
       "3   47   blue-collar  married    unknown      no     1506     yes   no   \n",
       "4   33       unknown   single    unknown      no        1      no   no   \n",
       "\n",
       "   contact  day month  duration  campaign   y  \n",
       "0  unknown    5   may       261         1  no  \n",
       "1  unknown    5   may       151         1  no  \n",
       "2  unknown    5   may        76         1  no  \n",
       "3  unknown    5   may        92         1  no  \n",
       "4  unknown    5   may       198         1  no  "
      ]
     },
     "execution_count": 2,
     "metadata": {},
     "output_type": "execute_result"
    }
   ],
   "source": [
    "data = read_csv(filepath_or_buffer='.data/term-deposit-marketing-2020.csv')\n",
    "data.head()"
   ]
  },
  {
   "cell_type": "code",
   "execution_count": 3,
   "metadata": {},
   "outputs": [
    {
     "data": {
      "text/plain": [
       "Index(['age', 'job', 'marital', 'education', 'default', 'balance', 'housing',\n",
       "       'loan', 'contact', 'day', 'month', 'duration', 'campaign', 'y'],\n",
       "      dtype='object')"
      ]
     },
     "execution_count": 3,
     "metadata": {},
     "output_type": "execute_result"
    }
   ],
   "source": [
    "data.columns"
   ]
  },
  {
   "cell_type": "code",
   "execution_count": 4,
   "metadata": {},
   "outputs": [
    {
     "data": {
      "text/plain": [
       "(40000, 14)"
      ]
     },
     "execution_count": 4,
     "metadata": {},
     "output_type": "execute_result"
    }
   ],
   "source": [
    "data.shape # Note : not a small dataset"
   ]
  },
  {
   "cell_type": "code",
   "execution_count": 5,
   "metadata": {},
   "outputs": [
    {
     "name": "stdout",
     "output_type": "stream",
     "text": [
      "<class 'pandas.core.frame.DataFrame'>\n",
      "RangeIndex: 40000 entries, 0 to 39999\n",
      "Data columns (total 14 columns):\n",
      " #   Column     Non-Null Count  Dtype \n",
      "---  ------     --------------  ----- \n",
      " 0   age        40000 non-null  int64 \n",
      " 1   job        40000 non-null  object\n",
      " 2   marital    40000 non-null  object\n",
      " 3   education  40000 non-null  object\n",
      " 4   default    40000 non-null  object\n",
      " 5   balance    40000 non-null  int64 \n",
      " 6   housing    40000 non-null  object\n",
      " 7   loan       40000 non-null  object\n",
      " 8   contact    40000 non-null  object\n",
      " 9   day        40000 non-null  int64 \n",
      " 10  month      40000 non-null  object\n",
      " 11  duration   40000 non-null  int64 \n",
      " 12  campaign   40000 non-null  int64 \n",
      " 13  y          40000 non-null  object\n",
      "dtypes: int64(5), object(9)\n",
      "memory usage: 4.3+ MB\n"
     ]
    }
   ],
   "source": [
    "data.info() # Good <> No missing-values"
   ]
  },
  {
   "cell_type": "code",
   "execution_count": 6,
   "metadata": {},
   "outputs": [
    {
     "data": {
      "text/html": [
       "<div>\n",
       "<style scoped>\n",
       "    .dataframe tbody tr th:only-of-type {\n",
       "        vertical-align: middle;\n",
       "    }\n",
       "\n",
       "    .dataframe tbody tr th {\n",
       "        vertical-align: top;\n",
       "    }\n",
       "\n",
       "    .dataframe thead th {\n",
       "        text-align: right;\n",
       "    }\n",
       "</style>\n",
       "<table border=\"1\" class=\"dataframe\">\n",
       "  <thead>\n",
       "    <tr style=\"text-align: right;\">\n",
       "      <th></th>\n",
       "      <th>age</th>\n",
       "      <th>job</th>\n",
       "      <th>marital</th>\n",
       "      <th>education</th>\n",
       "      <th>default</th>\n",
       "      <th>balance</th>\n",
       "      <th>housing</th>\n",
       "      <th>loan</th>\n",
       "      <th>contact</th>\n",
       "      <th>day</th>\n",
       "      <th>month</th>\n",
       "      <th>duration</th>\n",
       "      <th>campaign</th>\n",
       "      <th>y</th>\n",
       "    </tr>\n",
       "  </thead>\n",
       "  <tbody>\n",
       "    <tr>\n",
       "      <th>count</th>\n",
       "      <td>40000.000000</td>\n",
       "      <td>40000</td>\n",
       "      <td>40000</td>\n",
       "      <td>40000</td>\n",
       "      <td>40000</td>\n",
       "      <td>40000.000000</td>\n",
       "      <td>40000</td>\n",
       "      <td>40000</td>\n",
       "      <td>40000</td>\n",
       "      <td>40000.000000</td>\n",
       "      <td>40000</td>\n",
       "      <td>40000.000000</td>\n",
       "      <td>40000.000000</td>\n",
       "      <td>40000</td>\n",
       "    </tr>\n",
       "    <tr>\n",
       "      <th>unique</th>\n",
       "      <td>NaN</td>\n",
       "      <td>12</td>\n",
       "      <td>3</td>\n",
       "      <td>4</td>\n",
       "      <td>2</td>\n",
       "      <td>NaN</td>\n",
       "      <td>2</td>\n",
       "      <td>2</td>\n",
       "      <td>3</td>\n",
       "      <td>NaN</td>\n",
       "      <td>11</td>\n",
       "      <td>NaN</td>\n",
       "      <td>NaN</td>\n",
       "      <td>2</td>\n",
       "    </tr>\n",
       "    <tr>\n",
       "      <th>top</th>\n",
       "      <td>NaN</td>\n",
       "      <td>blue-collar</td>\n",
       "      <td>married</td>\n",
       "      <td>secondary</td>\n",
       "      <td>no</td>\n",
       "      <td>NaN</td>\n",
       "      <td>yes</td>\n",
       "      <td>no</td>\n",
       "      <td>cellular</td>\n",
       "      <td>NaN</td>\n",
       "      <td>may</td>\n",
       "      <td>NaN</td>\n",
       "      <td>NaN</td>\n",
       "      <td>no</td>\n",
       "    </tr>\n",
       "    <tr>\n",
       "      <th>freq</th>\n",
       "      <td>NaN</td>\n",
       "      <td>9383</td>\n",
       "      <td>24386</td>\n",
       "      <td>20993</td>\n",
       "      <td>39191</td>\n",
       "      <td>NaN</td>\n",
       "      <td>24031</td>\n",
       "      <td>33070</td>\n",
       "      <td>24914</td>\n",
       "      <td>NaN</td>\n",
       "      <td>13532</td>\n",
       "      <td>NaN</td>\n",
       "      <td>NaN</td>\n",
       "      <td>37104</td>\n",
       "    </tr>\n",
       "    <tr>\n",
       "      <th>mean</th>\n",
       "      <td>40.544600</td>\n",
       "      <td>NaN</td>\n",
       "      <td>NaN</td>\n",
       "      <td>NaN</td>\n",
       "      <td>NaN</td>\n",
       "      <td>1274.277550</td>\n",
       "      <td>NaN</td>\n",
       "      <td>NaN</td>\n",
       "      <td>NaN</td>\n",
       "      <td>16.017225</td>\n",
       "      <td>NaN</td>\n",
       "      <td>254.824300</td>\n",
       "      <td>2.882175</td>\n",
       "      <td>NaN</td>\n",
       "    </tr>\n",
       "    <tr>\n",
       "      <th>std</th>\n",
       "      <td>9.641776</td>\n",
       "      <td>NaN</td>\n",
       "      <td>NaN</td>\n",
       "      <td>NaN</td>\n",
       "      <td>NaN</td>\n",
       "      <td>2903.769716</td>\n",
       "      <td>NaN</td>\n",
       "      <td>NaN</td>\n",
       "      <td>NaN</td>\n",
       "      <td>8.278127</td>\n",
       "      <td>NaN</td>\n",
       "      <td>259.366498</td>\n",
       "      <td>3.239051</td>\n",
       "      <td>NaN</td>\n",
       "    </tr>\n",
       "    <tr>\n",
       "      <th>min</th>\n",
       "      <td>19.000000</td>\n",
       "      <td>NaN</td>\n",
       "      <td>NaN</td>\n",
       "      <td>NaN</td>\n",
       "      <td>NaN</td>\n",
       "      <td>-8019.000000</td>\n",
       "      <td>NaN</td>\n",
       "      <td>NaN</td>\n",
       "      <td>NaN</td>\n",
       "      <td>1.000000</td>\n",
       "      <td>NaN</td>\n",
       "      <td>0.000000</td>\n",
       "      <td>1.000000</td>\n",
       "      <td>NaN</td>\n",
       "    </tr>\n",
       "    <tr>\n",
       "      <th>25%</th>\n",
       "      <td>33.000000</td>\n",
       "      <td>NaN</td>\n",
       "      <td>NaN</td>\n",
       "      <td>NaN</td>\n",
       "      <td>NaN</td>\n",
       "      <td>54.000000</td>\n",
       "      <td>NaN</td>\n",
       "      <td>NaN</td>\n",
       "      <td>NaN</td>\n",
       "      <td>8.000000</td>\n",
       "      <td>NaN</td>\n",
       "      <td>100.000000</td>\n",
       "      <td>1.000000</td>\n",
       "      <td>NaN</td>\n",
       "    </tr>\n",
       "    <tr>\n",
       "      <th>50%</th>\n",
       "      <td>39.000000</td>\n",
       "      <td>NaN</td>\n",
       "      <td>NaN</td>\n",
       "      <td>NaN</td>\n",
       "      <td>NaN</td>\n",
       "      <td>407.000000</td>\n",
       "      <td>NaN</td>\n",
       "      <td>NaN</td>\n",
       "      <td>NaN</td>\n",
       "      <td>17.000000</td>\n",
       "      <td>NaN</td>\n",
       "      <td>175.000000</td>\n",
       "      <td>2.000000</td>\n",
       "      <td>NaN</td>\n",
       "    </tr>\n",
       "    <tr>\n",
       "      <th>75%</th>\n",
       "      <td>48.000000</td>\n",
       "      <td>NaN</td>\n",
       "      <td>NaN</td>\n",
       "      <td>NaN</td>\n",
       "      <td>NaN</td>\n",
       "      <td>1319.000000</td>\n",
       "      <td>NaN</td>\n",
       "      <td>NaN</td>\n",
       "      <td>NaN</td>\n",
       "      <td>21.000000</td>\n",
       "      <td>NaN</td>\n",
       "      <td>313.000000</td>\n",
       "      <td>3.000000</td>\n",
       "      <td>NaN</td>\n",
       "    </tr>\n",
       "    <tr>\n",
       "      <th>max</th>\n",
       "      <td>95.000000</td>\n",
       "      <td>NaN</td>\n",
       "      <td>NaN</td>\n",
       "      <td>NaN</td>\n",
       "      <td>NaN</td>\n",
       "      <td>102127.000000</td>\n",
       "      <td>NaN</td>\n",
       "      <td>NaN</td>\n",
       "      <td>NaN</td>\n",
       "      <td>31.000000</td>\n",
       "      <td>NaN</td>\n",
       "      <td>4918.000000</td>\n",
       "      <td>63.000000</td>\n",
       "      <td>NaN</td>\n",
       "    </tr>\n",
       "  </tbody>\n",
       "</table>\n",
       "</div>"
      ],
      "text/plain": [
       "                 age          job  marital  education default        balance  \\\n",
       "count   40000.000000        40000    40000      40000   40000   40000.000000   \n",
       "unique           NaN           12        3          4       2            NaN   \n",
       "top              NaN  blue-collar  married  secondary      no            NaN   \n",
       "freq             NaN         9383    24386      20993   39191            NaN   \n",
       "mean       40.544600          NaN      NaN        NaN     NaN    1274.277550   \n",
       "std         9.641776          NaN      NaN        NaN     NaN    2903.769716   \n",
       "min        19.000000          NaN      NaN        NaN     NaN   -8019.000000   \n",
       "25%        33.000000          NaN      NaN        NaN     NaN      54.000000   \n",
       "50%        39.000000          NaN      NaN        NaN     NaN     407.000000   \n",
       "75%        48.000000          NaN      NaN        NaN     NaN    1319.000000   \n",
       "max        95.000000          NaN      NaN        NaN     NaN  102127.000000   \n",
       "\n",
       "       housing   loan   contact           day  month      duration  \\\n",
       "count    40000  40000     40000  40000.000000  40000  40000.000000   \n",
       "unique       2      2         3           NaN     11           NaN   \n",
       "top        yes     no  cellular           NaN    may           NaN   \n",
       "freq     24031  33070     24914           NaN  13532           NaN   \n",
       "mean       NaN    NaN       NaN     16.017225    NaN    254.824300   \n",
       "std        NaN    NaN       NaN      8.278127    NaN    259.366498   \n",
       "min        NaN    NaN       NaN      1.000000    NaN      0.000000   \n",
       "25%        NaN    NaN       NaN      8.000000    NaN    100.000000   \n",
       "50%        NaN    NaN       NaN     17.000000    NaN    175.000000   \n",
       "75%        NaN    NaN       NaN     21.000000    NaN    313.000000   \n",
       "max        NaN    NaN       NaN     31.000000    NaN   4918.000000   \n",
       "\n",
       "            campaign      y  \n",
       "count   40000.000000  40000  \n",
       "unique           NaN      2  \n",
       "top              NaN     no  \n",
       "freq             NaN  37104  \n",
       "mean        2.882175    NaN  \n",
       "std         3.239051    NaN  \n",
       "min         1.000000    NaN  \n",
       "25%         1.000000    NaN  \n",
       "50%         2.000000    NaN  \n",
       "75%         3.000000    NaN  \n",
       "max        63.000000    NaN  "
      ]
     },
     "execution_count": 6,
     "metadata": {},
     "output_type": "execute_result"
    }
   ],
   "source": [
    "data.describe(include=\"all\") # only numerical attributes considered\n",
    "# 50 % of customers have less than 39 years old, have <= 407$ balance "
   ]
  },
  {
   "cell_type": "code",
   "execution_count": 7,
   "metadata": {},
   "outputs": [],
   "source": [
    "# Notes <> Attributes\n",
    "# - marital : categorical, binary\n",
    "# - education : categorical, ordinal\n",
    "# - default : categorical, binary\n",
    "# - housing : categorical, binary\n",
    "# - loan : categorical, binary\n",
    "# - month : categorical, ordinal\n",
    "# - contact - categorical, multiple values possibles"
   ]
  },
  {
   "cell_type": "code",
   "execution_count": 8,
   "metadata": {},
   "outputs": [
    {
     "data": {
      "text/html": [
       "<div>\n",
       "<style scoped>\n",
       "    .dataframe tbody tr th:only-of-type {\n",
       "        vertical-align: middle;\n",
       "    }\n",
       "\n",
       "    .dataframe tbody tr th {\n",
       "        vertical-align: top;\n",
       "    }\n",
       "\n",
       "    .dataframe thead th {\n",
       "        text-align: right;\n",
       "    }\n",
       "</style>\n",
       "<table border=\"1\" class=\"dataframe\">\n",
       "  <thead>\n",
       "    <tr style=\"text-align: right;\">\n",
       "      <th></th>\n",
       "      <th>0</th>\n",
       "    </tr>\n",
       "    <tr>\n",
       "      <th>y</th>\n",
       "      <th></th>\n",
       "    </tr>\n",
       "  </thead>\n",
       "  <tbody>\n",
       "    <tr>\n",
       "      <th>no</th>\n",
       "      <td>0.9276</td>\n",
       "    </tr>\n",
       "    <tr>\n",
       "      <th>yes</th>\n",
       "      <td>0.0724</td>\n",
       "    </tr>\n",
       "  </tbody>\n",
       "</table>\n",
       "</div>"
      ],
      "text/plain": [
       "          0\n",
       "y          \n",
       "no   0.9276\n",
       "yes  0.0724"
      ]
     },
     "execution_count": 8,
     "metadata": {},
     "output_type": "execute_result"
    }
   ],
   "source": [
    "data.value_counts(subset=['y'], normalize=True, dropna=True).to_frame() # Note : A huge data imbalance\n",
    "# Note : ACC here is not a good metrics - but that is what is asked"
   ]
  },
  {
   "cell_type": "markdown",
   "metadata": {},
   "source": [
    "### EDA\n",
    "----"
   ]
  },
  {
   "cell_type": "code",
   "execution_count": 9,
   "metadata": {},
   "outputs": [],
   "source": [
    "profile = ProfileReport(df=data) # Note : duration is the feature with the highest correlation with y"
   ]
  },
  {
   "cell_type": "code",
   "execution_count": 10,
   "metadata": {},
   "outputs": [
    {
     "data": {
      "application/vnd.jupyter.widget-view+json": {
       "model_id": "8c1f1ba4aa834e3b9fe374b66811d626",
       "version_major": 2,
       "version_minor": 0
      },
      "text/plain": [
       "Summarize dataset:   0%|          | 0/5 [00:00<?, ?it/s]"
      ]
     },
     "metadata": {},
     "output_type": "display_data"
    },
    {
     "data": {
      "application/vnd.jupyter.widget-view+json": {
       "model_id": "af7d9a969b9b4ea3860df94e60f1321d",
       "version_major": 2,
       "version_minor": 0
      },
      "text/plain": [
       "Generate report structure:   0%|          | 0/1 [00:00<?, ?it/s]"
      ]
     },
     "metadata": {},
     "output_type": "display_data"
    },
    {
     "data": {
      "application/vnd.jupyter.widget-view+json": {
       "model_id": "0d74f90de0b44056ba52e0a8d57fcabe",
       "version_major": 2,
       "version_minor": 0
      },
      "text/plain": [
       "Render HTML:   0%|          | 0/1 [00:00<?, ?it/s]"
      ]
     },
     "metadata": {},
     "output_type": "display_data"
    },
    {
     "data": {
      "application/vnd.jupyter.widget-view+json": {
       "model_id": "22d4fb53ea8548fd8d172b0c5024bad8",
       "version_major": 2,
       "version_minor": 0
      },
      "text/plain": [
       "Export report to file:   0%|          | 0/1 [00:00<?, ?it/s]"
      ]
     },
     "metadata": {},
     "output_type": "display_data"
    }
   ],
   "source": [
    "profile.to_file(output_file='.data/eda.html')"
   ]
  },
  {
   "cell_type": "code",
   "execution_count": 11,
   "metadata": {},
   "outputs": [
    {
     "data": {
      "application/vnd.jupyter.widget-view+json": {
       "model_id": "8f82bd1a3fc048239eba8cd396f4d70f",
       "version_major": 2,
       "version_minor": 0
      },
      "text/plain": [
       "Render widgets:   0%|          | 0/1 [00:00<?, ?it/s]"
      ]
     },
     "metadata": {},
     "output_type": "display_data"
    },
    {
     "data": {
      "application/vnd.jupyter.widget-view+json": {
       "model_id": "1038e108b2884cd78a0833db21ba0554",
       "version_major": 2,
       "version_minor": 0
      },
      "text/plain": [
       "VBox(children=(Tab(children=(Tab(children=(GridBox(children=(VBox(children=(GridspecLayout(children=(HTML(valu…"
      ]
     },
     "metadata": {},
     "output_type": "display_data"
    }
   ],
   "source": [
    "profile.to_widgets()"
   ]
  },
  {
   "cell_type": "markdown",
   "metadata": {},
   "source": [
    "### MODELLING\n",
    "---"
   ]
  },
  {
   "cell_type": "markdown",
   "metadata": {},
   "source": [
    "#### Model Selection"
   ]
  },
  {
   "cell_type": "code",
   "execution_count": 3,
   "metadata": {},
   "outputs": [],
   "source": [
    "from sklearn.compose import ColumnTransformer\n",
    "from sklearn.pipeline import Pipeline\n",
    "from sklearn.preprocessing import OneHotEncoder, StandardScaler, OrdinalEncoder, LabelBinarizer\n",
    "from sklearn.model_selection import  StratifiedKFold, cross_validate\n",
    "from typing import Literal, List\n",
    "from sklearn.base import TransformerMixin\n",
    "from tqdm import tqdm"
   ]
  },
  {
   "cell_type": "code",
   "execution_count": 4,
   "metadata": {},
   "outputs": [],
   "source": [
    "# Define preprocessing steps\n",
    "columns = {\"numeric\": [\"age\", \"balance\", \"day\", \"duration\", \"campaign\"],\n",
    "           \"nominal\":[\"job\", \"marital\", \"default\", \"housing\", \"loan\", \"contact\"],\n",
    "           \"ordinal\": [\"education\", \"month\"]}\n",
    "numeric_transformer = Pipeline(\n",
    "    steps=[(\"scaler\", StandardScaler())]\n",
    ")\n",
    "\n",
    "categorical_transformer = Pipeline(\n",
    "    steps=[\n",
    "        (\"encoder\", OneHotEncoder()),\n",
    "    \n",
    "    ]\n",
    ")\n",
    "ordinal_transformer = Pipeline(\n",
    "    steps=[\n",
    "        (\"encoder\", OrdinalEncoder()),\n",
    "    \n",
    "    ]\n",
    ")\n",
    "preprocessor = ColumnTransformer(\n",
    "    transformers=[\n",
    "        (\"num\", numeric_transformer,columns[\"numeric\"]),\n",
    "        (\"cat\", categorical_transformer, columns[\"nominal\"]),\n",
    "        (\"ord\", ordinal_transformer, columns[\"ordinal\"])\n",
    "    ]\n",
    ")"
   ]
  },
  {
   "cell_type": "code",
   "execution_count": 12,
   "metadata": {},
   "outputs": [
    {
     "name": "stderr",
     "output_type": "stream",
     "text": [
      "  0%|          | 0/30 [00:00<?, ?it/s]"
     ]
    },
    {
     "name": "stdout",
     "output_type": "stream",
     "text": [
      "BernoulliNB()\n"
     ]
    },
    {
     "name": "stderr",
     "output_type": "stream",
     "text": [
      "  3%|▎         | 1/30 [00:01<00:30,  1.05s/it]"
     ]
    },
    {
     "name": "stdout",
     "output_type": "stream",
     "text": [
      "CategoricalNB()\n"
     ]
    },
    {
     "name": "stderr",
     "output_type": "stream",
     "text": [
      "  7%|▋         | 2/30 [00:01<00:21,  1.32it/s]"
     ]
    },
    {
     "name": "stdout",
     "output_type": "stream",
     "text": [
      "ComplementNB()\n"
     ]
    },
    {
     "name": "stderr",
     "output_type": "stream",
     "text": [
      " 10%|█         | 3/30 [00:02<00:17,  1.56it/s]"
     ]
    },
    {
     "name": "stdout",
     "output_type": "stream",
     "text": [
      "DecisionTreeClassifier()\n"
     ]
    },
    {
     "name": "stderr",
     "output_type": "stream",
     "text": [
      " 13%|█▎        | 4/30 [00:04<00:34,  1.34s/it]"
     ]
    },
    {
     "name": "stdout",
     "output_type": "stream",
     "text": [
      "DummyClassifier()\n"
     ]
    },
    {
     "name": "stderr",
     "output_type": "stream",
     "text": [
      " 17%|█▋        | 5/30 [00:05<00:26,  1.07s/it]"
     ]
    },
    {
     "name": "stdout",
     "output_type": "stream",
     "text": [
      "ExtraTreeClassifier()\n"
     ]
    },
    {
     "name": "stderr",
     "output_type": "stream",
     "text": [
      " 20%|██        | 6/30 [00:05<00:23,  1.01it/s]"
     ]
    },
    {
     "name": "stdout",
     "output_type": "stream",
     "text": [
      "ExtraTreesClassifier()\n"
     ]
    },
    {
     "name": "stderr",
     "output_type": "stream",
     "text": [
      " 23%|██▎       | 7/30 [00:27<02:54,  7.58s/it]"
     ]
    },
    {
     "name": "stdout",
     "output_type": "stream",
     "text": [
      "GaussianNB()\n"
     ]
    },
    {
     "name": "stderr",
     "output_type": "stream",
     "text": [
      " 27%|██▋       | 8/30 [00:27<01:59,  5.41s/it]"
     ]
    },
    {
     "name": "stdout",
     "output_type": "stream",
     "text": [
      "GaussianProcessClassifier()\n"
     ]
    },
    {
     "name": "stderr",
     "output_type": "stream",
     "text": [
      " 30%|███       | 9/30 [1:28:23<9:38:33, 1653.05s/it]"
     ]
    },
    {
     "name": "stdout",
     "output_type": "stream",
     "text": [
      "HistGradientBoostingClassifier()\n"
     ]
    },
    {
     "name": "stderr",
     "output_type": "stream",
     "text": [
      " 33%|███▎      | 10/30 [1:28:34<6:22:01, 1146.06s/it]"
     ]
    },
    {
     "name": "stdout",
     "output_type": "stream",
     "text": [
      "KNeighborsClassifier()\n"
     ]
    },
    {
     "name": "stderr",
     "output_type": "stream",
     "text": [
      " 37%|███▋      | 11/30 [1:28:41<4:12:29, 797.34s/it] "
     ]
    },
    {
     "name": "stdout",
     "output_type": "stream",
     "text": [
      "LabelPropagation()\n"
     ]
    },
    {
     "name": "stderr",
     "output_type": "stream",
     "text": [
      " 40%|████      | 12/30 [1:40:22<3:50:26, 768.16s/it]"
     ]
    },
    {
     "name": "stdout",
     "output_type": "stream",
     "text": [
      "LabelSpreading()\n"
     ]
    },
    {
     "name": "stderr",
     "output_type": "stream",
     "text": [
      " 43%|████▎     | 13/30 [1:59:51<4:12:04, 889.68s/it]"
     ]
    },
    {
     "name": "stdout",
     "output_type": "stream",
     "text": [
      "LinearDiscriminantAnalysis()\n"
     ]
    },
    {
     "name": "stderr",
     "output_type": "stream",
     "text": [
      " 47%|████▋     | 14/30 [1:59:55<2:45:51, 621.98s/it]"
     ]
    },
    {
     "name": "stdout",
     "output_type": "stream",
     "text": [
      "LinearSVC()\n"
     ]
    },
    {
     "name": "stderr",
     "output_type": "stream",
     "text": [
      " 50%|█████     | 15/30 [2:00:30<1:51:18, 445.21s/it]"
     ]
    },
    {
     "name": "stdout",
     "output_type": "stream",
     "text": [
      "LogisticRegression()\n"
     ]
    },
    {
     "name": "stderr",
     "output_type": "stream",
     "text": [
      " 53%|█████▎    | 16/30 [2:00:34<1:12:53, 312.41s/it]"
     ]
    },
    {
     "name": "stdout",
     "output_type": "stream",
     "text": [
      "LogisticRegressionCV()\n"
     ]
    },
    {
     "name": "stderr",
     "output_type": "stream",
     "text": [
      " 57%|█████▋    | 17/30 [2:01:07<49:27, 228.26s/it]  "
     ]
    },
    {
     "name": "stdout",
     "output_type": "stream",
     "text": [
      "MLPClassifier()\n"
     ]
    },
    {
     "name": "stderr",
     "output_type": "stream",
     "text": [
      " 60%|██████    | 18/30 [2:06:46<52:17, 261.47s/it]"
     ]
    },
    {
     "name": "stdout",
     "output_type": "stream",
     "text": [
      "MultinomialNB()\n"
     ]
    },
    {
     "name": "stderr",
     "output_type": "stream",
     "text": [
      " 63%|██████▎   | 19/30 [2:06:47<33:35, 183.22s/it]"
     ]
    },
    {
     "name": "stdout",
     "output_type": "stream",
     "text": [
      "NearestCentroid()\n"
     ]
    },
    {
     "name": "stderr",
     "output_type": "stream",
     "text": [
      " 67%|██████▋   | 20/30 [2:06:49<21:28, 128.86s/it]"
     ]
    },
    {
     "name": "stdout",
     "output_type": "stream",
     "text": [
      "NuSVC()\n"
     ]
    },
    {
     "name": "stderr",
     "output_type": "stream",
     "text": [
      " 70%|███████   | 21/30 [2:06:50<13:34, 90.48s/it] "
     ]
    },
    {
     "name": "stdout",
     "output_type": "stream",
     "text": [
      "PassiveAggressiveClassifier()\n"
     ]
    },
    {
     "name": "stderr",
     "output_type": "stream",
     "text": [
      " 73%|███████▎  | 22/30 [2:06:52<08:30, 63.87s/it]"
     ]
    },
    {
     "name": "stdout",
     "output_type": "stream",
     "text": [
      "Perceptron()\n"
     ]
    },
    {
     "name": "stderr",
     "output_type": "stream",
     "text": [
      " 77%|███████▋  | 23/30 [2:06:53<05:16, 45.24s/it]"
     ]
    },
    {
     "name": "stdout",
     "output_type": "stream",
     "text": [
      "QuadraticDiscriminantAnalysis()\n"
     ]
    },
    {
     "name": "stderr",
     "output_type": "stream",
     "text": [
      " 80%|████████  | 24/30 [2:06:55<03:13, 32.25s/it]"
     ]
    },
    {
     "name": "stdout",
     "output_type": "stream",
     "text": [
      "RadiusNeighborsClassifier()\n"
     ]
    },
    {
     "name": "stderr",
     "output_type": "stream",
     "text": [
      " 83%|████████▎ | 25/30 [2:07:25<02:36, 31.34s/it]"
     ]
    },
    {
     "name": "stdout",
     "output_type": "stream",
     "text": [
      "RandomForestClassifier()\n"
     ]
    },
    {
     "name": "stderr",
     "output_type": "stream",
     "text": [
      " 87%|████████▋ | 26/30 [2:08:24<02:38, 39.67s/it]"
     ]
    },
    {
     "name": "stdout",
     "output_type": "stream",
     "text": [
      "RidgeClassifier()\n"
     ]
    },
    {
     "name": "stderr",
     "output_type": "stream",
     "text": [
      " 90%|█████████ | 27/30 [2:08:25<01:24, 28.28s/it]"
     ]
    },
    {
     "name": "stdout",
     "output_type": "stream",
     "text": [
      "RidgeClassifierCV()\n"
     ]
    },
    {
     "name": "stderr",
     "output_type": "stream",
     "text": [
      " 93%|█████████▎| 28/30 [2:08:29<00:41, 20.72s/it]"
     ]
    },
    {
     "name": "stdout",
     "output_type": "stream",
     "text": [
      "SGDClassifier()\n"
     ]
    },
    {
     "name": "stderr",
     "output_type": "stream",
     "text": [
      " 97%|█████████▋| 29/30 [2:08:33<00:15, 15.99s/it]"
     ]
    },
    {
     "name": "stdout",
     "output_type": "stream",
     "text": [
      "SVC()\n"
     ]
    },
    {
     "name": "stderr",
     "output_type": "stream",
     "text": [
      "100%|██████████| 30/30 [2:12:24<00:00, 264.82s/it]\n"
     ]
    },
    {
     "data": {
      "text/html": [
       "<div>\n",
       "<style scoped>\n",
       "    .dataframe tbody tr th:only-of-type {\n",
       "        vertical-align: middle;\n",
       "    }\n",
       "\n",
       "    .dataframe tbody tr th {\n",
       "        vertical-align: top;\n",
       "    }\n",
       "\n",
       "    .dataframe thead th {\n",
       "        text-align: right;\n",
       "    }\n",
       "</style>\n",
       "<table border=\"1\" class=\"dataframe\">\n",
       "  <thead>\n",
       "    <tr style=\"text-align: right;\">\n",
       "      <th></th>\n",
       "      <th>Model</th>\n",
       "      <th>accuracy</th>\n",
       "      <th>balanced_accuracy</th>\n",
       "      <th>f1</th>\n",
       "      <th>precision</th>\n",
       "      <th>recall</th>\n",
       "    </tr>\n",
       "  </thead>\n",
       "  <tbody>\n",
       "    <tr>\n",
       "      <th>0</th>\n",
       "      <td>BernoulliNB</td>\n",
       "      <td>0.919175</td>\n",
       "      <td>0.549577</td>\n",
       "      <td>0.173831</td>\n",
       "      <td>0.335361</td>\n",
       "      <td>0.117401</td>\n",
       "    </tr>\n",
       "    <tr>\n",
       "      <th>1</th>\n",
       "      <td>DecisionTreeClassifier</td>\n",
       "      <td>0.914850</td>\n",
       "      <td>0.693054</td>\n",
       "      <td>0.424336</td>\n",
       "      <td>0.415732</td>\n",
       "      <td>0.433704</td>\n",
       "    </tr>\n",
       "    <tr>\n",
       "      <th>2</th>\n",
       "      <td>DummyClassifier</td>\n",
       "      <td>0.927600</td>\n",
       "      <td>0.500000</td>\n",
       "      <td>0.000000</td>\n",
       "      <td>0.000000</td>\n",
       "      <td>0.000000</td>\n",
       "    </tr>\n",
       "    <tr>\n",
       "      <th>3</th>\n",
       "      <td>ExtraTreeClassifier</td>\n",
       "      <td>0.905200</td>\n",
       "      <td>0.636755</td>\n",
       "      <td>0.330081</td>\n",
       "      <td>0.338030</td>\n",
       "      <td>0.322857</td>\n",
       "    </tr>\n",
       "    <tr>\n",
       "      <th>4</th>\n",
       "      <td>ExtraTreesClassifier</td>\n",
       "      <td>0.932600</td>\n",
       "      <td>0.592945</td>\n",
       "      <td>0.295645</td>\n",
       "      <td>0.606972</td>\n",
       "      <td>0.195780</td>\n",
       "    </tr>\n",
       "    <tr>\n",
       "      <th>5</th>\n",
       "      <td>GaussianNB</td>\n",
       "      <td>0.891775</td>\n",
       "      <td>0.691121</td>\n",
       "      <td>0.379238</td>\n",
       "      <td>0.324394</td>\n",
       "      <td>0.456493</td>\n",
       "    </tr>\n",
       "    <tr>\n",
       "      <th>6</th>\n",
       "      <td>HistGradientBoostingClassifier</td>\n",
       "      <td>0.938750</td>\n",
       "      <td>0.697500</td>\n",
       "      <td>0.495322</td>\n",
       "      <td>0.614059</td>\n",
       "      <td>0.415403</td>\n",
       "    </tr>\n",
       "    <tr>\n",
       "      <th>7</th>\n",
       "      <td>KNeighborsClassifier</td>\n",
       "      <td>0.932075</td>\n",
       "      <td>0.636921</td>\n",
       "      <td>0.382962</td>\n",
       "      <td>0.558955</td>\n",
       "      <td>0.291791</td>\n",
       "    </tr>\n",
       "    <tr>\n",
       "      <th>8</th>\n",
       "      <td>LabelPropagation</td>\n",
       "      <td>0.920700</td>\n",
       "      <td>0.668509</td>\n",
       "      <td>0.405641</td>\n",
       "      <td>0.444066</td>\n",
       "      <td>0.373617</td>\n",
       "    </tr>\n",
       "    <tr>\n",
       "      <th>9</th>\n",
       "      <td>LabelSpreading</td>\n",
       "      <td>0.921125</td>\n",
       "      <td>0.668738</td>\n",
       "      <td>0.406929</td>\n",
       "      <td>0.447144</td>\n",
       "      <td>0.373617</td>\n",
       "    </tr>\n",
       "    <tr>\n",
       "      <th>10</th>\n",
       "      <td>LinearDiscriminantAnalysis</td>\n",
       "      <td>0.932100</td>\n",
       "      <td>0.682453</td>\n",
       "      <td>0.454274</td>\n",
       "      <td>0.543107</td>\n",
       "      <td>0.390537</td>\n",
       "    </tr>\n",
       "    <tr>\n",
       "      <th>11</th>\n",
       "      <td>LinearSVC</td>\n",
       "      <td>0.932050</td>\n",
       "      <td>0.574188</td>\n",
       "      <td>0.249164</td>\n",
       "      <td>0.623774</td>\n",
       "      <td>0.155734</td>\n",
       "    </tr>\n",
       "    <tr>\n",
       "      <th>12</th>\n",
       "      <td>LogisticRegression</td>\n",
       "      <td>0.933400</td>\n",
       "      <td>0.610572</td>\n",
       "      <td>0.336156</td>\n",
       "      <td>0.603766</td>\n",
       "      <td>0.233083</td>\n",
       "    </tr>\n",
       "    <tr>\n",
       "      <th>13</th>\n",
       "      <td>LogisticRegressionCV</td>\n",
       "      <td>0.930725</td>\n",
       "      <td>0.553735</td>\n",
       "      <td>0.190806</td>\n",
       "      <td>0.618103</td>\n",
       "      <td>0.112914</td>\n",
       "    </tr>\n",
       "    <tr>\n",
       "      <th>14</th>\n",
       "      <td>MLPClassifier</td>\n",
       "      <td>0.933050</td>\n",
       "      <td>0.656239</td>\n",
       "      <td>0.415145</td>\n",
       "      <td>0.566694</td>\n",
       "      <td>0.332557</td>\n",
       "    </tr>\n",
       "    <tr>\n",
       "      <th>15</th>\n",
       "      <td>NearestCentroid</td>\n",
       "      <td>0.790475</td>\n",
       "      <td>0.744282</td>\n",
       "      <td>0.323644</td>\n",
       "      <td>0.211489</td>\n",
       "      <td>0.690267</td>\n",
       "    </tr>\n",
       "    <tr>\n",
       "      <th>16</th>\n",
       "      <td>PassiveAggressiveClassifier</td>\n",
       "      <td>0.919550</td>\n",
       "      <td>0.618040</td>\n",
       "      <td>0.291915</td>\n",
       "      <td>0.471308</td>\n",
       "      <td>0.265486</td>\n",
       "    </tr>\n",
       "    <tr>\n",
       "      <th>17</th>\n",
       "      <td>Perceptron</td>\n",
       "      <td>0.913250</td>\n",
       "      <td>0.647647</td>\n",
       "      <td>0.343780</td>\n",
       "      <td>0.471876</td>\n",
       "      <td>0.337067</td>\n",
       "    </tr>\n",
       "    <tr>\n",
       "      <th>18</th>\n",
       "      <td>QuadraticDiscriminantAnalysis</td>\n",
       "      <td>0.671275</td>\n",
       "      <td>0.580569</td>\n",
       "      <td>0.175733</td>\n",
       "      <td>0.114807</td>\n",
       "      <td>0.474498</td>\n",
       "    </tr>\n",
       "    <tr>\n",
       "      <th>19</th>\n",
       "      <td>RadiusNeighborsClassifier</td>\n",
       "      <td>NaN</td>\n",
       "      <td>NaN</td>\n",
       "      <td>NaN</td>\n",
       "      <td>NaN</td>\n",
       "      <td>NaN</td>\n",
       "    </tr>\n",
       "    <tr>\n",
       "      <th>20</th>\n",
       "      <td>RandomForestClassifier</td>\n",
       "      <td>0.934850</td>\n",
       "      <td>0.631567</td>\n",
       "      <td>0.380405</td>\n",
       "      <td>0.609957</td>\n",
       "      <td>0.276933</td>\n",
       "    </tr>\n",
       "    <tr>\n",
       "      <th>21</th>\n",
       "      <td>RidgeClassifier</td>\n",
       "      <td>0.930825</td>\n",
       "      <td>0.556973</td>\n",
       "      <td>0.200418</td>\n",
       "      <td>0.614553</td>\n",
       "      <td>0.119821</td>\n",
       "    </tr>\n",
       "    <tr>\n",
       "      <th>22</th>\n",
       "      <td>RidgeClassifierCV</td>\n",
       "      <td>0.930850</td>\n",
       "      <td>0.556986</td>\n",
       "      <td>0.200470</td>\n",
       "      <td>0.615482</td>\n",
       "      <td>0.119821</td>\n",
       "    </tr>\n",
       "    <tr>\n",
       "      <th>23</th>\n",
       "      <td>SGDClassifier</td>\n",
       "      <td>0.931275</td>\n",
       "      <td>0.583027</td>\n",
       "      <td>0.251827</td>\n",
       "      <td>0.595606</td>\n",
       "      <td>0.175811</td>\n",
       "    </tr>\n",
       "    <tr>\n",
       "      <th>24</th>\n",
       "      <td>SVC</td>\n",
       "      <td>0.931775</td>\n",
       "      <td>0.560351</td>\n",
       "      <td>0.210832</td>\n",
       "      <td>0.649665</td>\n",
       "      <td>0.126039</td>\n",
       "    </tr>\n",
       "  </tbody>\n",
       "</table>\n",
       "</div>"
      ],
      "text/plain": [
       "                             Model  accuracy  balanced_accuracy        f1  \\\n",
       "0                      BernoulliNB  0.919175           0.549577  0.173831   \n",
       "1           DecisionTreeClassifier  0.914850           0.693054  0.424336   \n",
       "2                  DummyClassifier  0.927600           0.500000  0.000000   \n",
       "3              ExtraTreeClassifier  0.905200           0.636755  0.330081   \n",
       "4             ExtraTreesClassifier  0.932600           0.592945  0.295645   \n",
       "5                       GaussianNB  0.891775           0.691121  0.379238   \n",
       "6   HistGradientBoostingClassifier  0.938750           0.697500  0.495322   \n",
       "7             KNeighborsClassifier  0.932075           0.636921  0.382962   \n",
       "8                 LabelPropagation  0.920700           0.668509  0.405641   \n",
       "9                   LabelSpreading  0.921125           0.668738  0.406929   \n",
       "10      LinearDiscriminantAnalysis  0.932100           0.682453  0.454274   \n",
       "11                       LinearSVC  0.932050           0.574188  0.249164   \n",
       "12              LogisticRegression  0.933400           0.610572  0.336156   \n",
       "13            LogisticRegressionCV  0.930725           0.553735  0.190806   \n",
       "14                   MLPClassifier  0.933050           0.656239  0.415145   \n",
       "15                 NearestCentroid  0.790475           0.744282  0.323644   \n",
       "16     PassiveAggressiveClassifier  0.919550           0.618040  0.291915   \n",
       "17                      Perceptron  0.913250           0.647647  0.343780   \n",
       "18   QuadraticDiscriminantAnalysis  0.671275           0.580569  0.175733   \n",
       "19       RadiusNeighborsClassifier       NaN                NaN       NaN   \n",
       "20          RandomForestClassifier  0.934850           0.631567  0.380405   \n",
       "21                 RidgeClassifier  0.930825           0.556973  0.200418   \n",
       "22               RidgeClassifierCV  0.930850           0.556986  0.200470   \n",
       "23                   SGDClassifier  0.931275           0.583027  0.251827   \n",
       "24                             SVC  0.931775           0.560351  0.210832   \n",
       "\n",
       "    precision    recall  \n",
       "0    0.335361  0.117401  \n",
       "1    0.415732  0.433704  \n",
       "2    0.000000  0.000000  \n",
       "3    0.338030  0.322857  \n",
       "4    0.606972  0.195780  \n",
       "5    0.324394  0.456493  \n",
       "6    0.614059  0.415403  \n",
       "7    0.558955  0.291791  \n",
       "8    0.444066  0.373617  \n",
       "9    0.447144  0.373617  \n",
       "10   0.543107  0.390537  \n",
       "11   0.623774  0.155734  \n",
       "12   0.603766  0.233083  \n",
       "13   0.618103  0.112914  \n",
       "14   0.566694  0.332557  \n",
       "15   0.211489  0.690267  \n",
       "16   0.471308  0.265486  \n",
       "17   0.471876  0.337067  \n",
       "18   0.114807  0.474498  \n",
       "19        NaN       NaN  \n",
       "20   0.609957  0.276933  \n",
       "21   0.614553  0.119821  \n",
       "22   0.615482  0.119821  \n",
       "23   0.595606  0.175811  \n",
       "24   0.649665  0.126039  "
      ]
     },
     "execution_count": 12,
     "metadata": {},
     "output_type": "execute_result"
    }
   ],
   "source": [
    "def run_experiment(df : DataFrame, preprocessor: TransformerMixin, task : Literal['classifier', 'regressor'], eval_metrics: List[str], target : str = 'y') -> DataFrame:\n",
    "    X, y = df.drop(target, axis=1), df[target]\n",
    "    y = LabelBinarizer().fit_transform(y)\n",
    "   \n",
    "    models = get_model(task=task)\n",
    "\n",
    "    experiment = []\n",
    "\n",
    "    for model in tqdm(models):\n",
    "        print(model)\n",
    "        try:\n",
    "            clf = Pipeline(steps=[(\"preprocessor\", preprocessor), (\"classifier\", model)])\n",
    "            # print(clf)\n",
    "            scores = cross_validate(estimator=clf, X=X, y=y, cv=StratifiedKFold(n_splits=5, random_state=42, shuffle=True), scoring=eval_metrics)\n",
    "            # print(scores)\n",
    "            avg_perf = [scores[f'test_{metric_name}'].mean() for metric_name in eval_metrics]\n",
    "\n",
    "            experiment.append([model.__class__.__name__, *avg_perf])\n",
    "\n",
    "        except ValueError as e:\n",
    "            ...\n",
    "    return DataFrame(data=experiment, columns=['Model', *eval_metrics])\n",
    "\n",
    "##RUN\n",
    "result = run_experiment(data, preprocessor,'classifier', eval_metrics=['accuracy', 'balanced_accuracy', 'f1', 'precision', 'recall'])\n",
    "result"
   ]
  },
  {
   "cell_type": "markdown",
   "metadata": {},
   "source": [
    "### Handling the data imbalancement\n",
    "---"
   ]
  },
  {
   "cell_type": "code",
   "execution_count": null,
   "metadata": {},
   "outputs": [],
   "source": [
    "%conda install -c conda-forge imbalanced-learn"
   ]
  },
  {
   "cell_type": "code",
   "execution_count": 10,
   "metadata": {},
   "outputs": [
    {
     "name": "stderr",
     "output_type": "stream",
     "text": [
      "  0%|          | 0/30 [00:00<?, ?it/s]"
     ]
    },
    {
     "name": "stdout",
     "output_type": "stream",
     "text": [
      "BernoulliNB()\n"
     ]
    },
    {
     "name": "stderr",
     "output_type": "stream",
     "text": [
      "  3%|▎         | 1/30 [00:03<01:50,  3.81s/it]"
     ]
    },
    {
     "name": "stdout",
     "output_type": "stream",
     "text": [
      "CategoricalNB()\n"
     ]
    },
    {
     "name": "stderr",
     "output_type": "stream",
     "text": [
      "  7%|▋         | 2/30 [00:06<01:24,  3.01s/it]"
     ]
    },
    {
     "name": "stdout",
     "output_type": "stream",
     "text": [
      "ComplementNB()\n"
     ]
    },
    {
     "name": "stderr",
     "output_type": "stream",
     "text": [
      " 10%|█         | 3/30 [00:08<01:16,  2.82s/it]"
     ]
    },
    {
     "name": "stdout",
     "output_type": "stream",
     "text": [
      "DecisionTreeClassifier()\n"
     ]
    },
    {
     "name": "stderr",
     "output_type": "stream",
     "text": [
      " 13%|█▎        | 4/30 [00:27<03:55,  9.05s/it]"
     ]
    },
    {
     "name": "stdout",
     "output_type": "stream",
     "text": [
      "DummyClassifier()\n"
     ]
    },
    {
     "name": "stderr",
     "output_type": "stream",
     "text": [
      " 17%|█▋        | 5/30 [00:30<02:50,  6.81s/it]"
     ]
    },
    {
     "name": "stdout",
     "output_type": "stream",
     "text": [
      "ExtraTreeClassifier()\n"
     ]
    },
    {
     "name": "stderr",
     "output_type": "stream",
     "text": [
      " 20%|██        | 6/30 [00:34<02:21,  5.89s/it]"
     ]
    },
    {
     "name": "stdout",
     "output_type": "stream",
     "text": [
      "ExtraTreesClassifier()\n"
     ]
    },
    {
     "name": "stderr",
     "output_type": "stream",
     "text": [
      " 23%|██▎       | 7/30 [02:20<14:49, 38.69s/it]"
     ]
    },
    {
     "name": "stdout",
     "output_type": "stream",
     "text": [
      "GaussianNB()\n"
     ]
    },
    {
     "name": "stderr",
     "output_type": "stream",
     "text": [
      " 27%|██▋       | 8/30 [02:23<10:00, 27.30s/it]"
     ]
    },
    {
     "name": "stdout",
     "output_type": "stream",
     "text": [
      "GaussianProcessClassifier()\n"
     ]
    },
    {
     "name": "stderr",
     "output_type": "stream",
     "text": [
      " 30%|███       | 9/30 [29:34<3:05:00, 528.59s/it]"
     ]
    },
    {
     "name": "stdout",
     "output_type": "stream",
     "text": [
      "HistGradientBoostingClassifier()\n"
     ]
    },
    {
     "name": "stderr",
     "output_type": "stream",
     "text": [
      " 33%|███▎      | 10/30 [29:55<2:04:00, 372.03s/it]"
     ]
    },
    {
     "name": "stdout",
     "output_type": "stream",
     "text": [
      "KNeighborsClassifier()\n"
     ]
    },
    {
     "name": "stderr",
     "output_type": "stream",
     "text": [
      " 37%|███▋      | 11/30 [30:07<1:22:54, 261.81s/it]"
     ]
    },
    {
     "name": "stdout",
     "output_type": "stream",
     "text": [
      "LabelPropagation()\n"
     ]
    },
    {
     "name": "stderr",
     "output_type": "stream",
     "text": [
      " 40%|████      | 12/30 [2:24:42<11:22:01, 2273.40s/it]"
     ]
    },
    {
     "name": "stdout",
     "output_type": "stream",
     "text": [
      "LabelSpreading()\n"
     ]
    },
    {
     "name": "stderr",
     "output_type": "stream",
     "text": [
      " 43%|████▎     | 13/30 [6:39:09<29:19:25, 6209.73s/it]"
     ]
    },
    {
     "name": "stdout",
     "output_type": "stream",
     "text": [
      "LinearDiscriminantAnalysis()\n"
     ]
    },
    {
     "name": "stderr",
     "output_type": "stream",
     "text": [
      " 47%|████▋     | 14/30 [6:39:12<19:16:02, 4335.17s/it]"
     ]
    },
    {
     "name": "stdout",
     "output_type": "stream",
     "text": [
      "LinearSVC()\n"
     ]
    },
    {
     "name": "stderr",
     "output_type": "stream",
     "text": [
      " 50%|█████     | 15/30 [6:40:31<12:43:00, 3052.03s/it]"
     ]
    },
    {
     "name": "stdout",
     "output_type": "stream",
     "text": [
      "LogisticRegression()\n"
     ]
    },
    {
     "name": "stderr",
     "output_type": "stream",
     "text": [
      " 53%|█████▎    | 16/30 [6:40:35<8:18:03, 2134.57s/it] "
     ]
    },
    {
     "name": "stdout",
     "output_type": "stream",
     "text": [
      "LogisticRegressionCV()\n"
     ]
    },
    {
     "name": "stderr",
     "output_type": "stream",
     "text": [
      " 57%|█████▋    | 17/30 [6:41:16<5:26:06, 1505.14s/it]"
     ]
    },
    {
     "name": "stdout",
     "output_type": "stream",
     "text": [
      "MLPClassifier()\n"
     ]
    },
    {
     "name": "stderr",
     "output_type": "stream",
     "text": [
      " 60%|██████    | 18/30 [6:46:10<3:48:12, 1141.02s/it]"
     ]
    },
    {
     "name": "stdout",
     "output_type": "stream",
     "text": [
      "MultinomialNB()\n"
     ]
    },
    {
     "name": "stderr",
     "output_type": "stream",
     "text": [
      " 63%|██████▎   | 19/30 [6:46:11<2:26:26, 798.77s/it] "
     ]
    },
    {
     "name": "stdout",
     "output_type": "stream",
     "text": [
      "NearestCentroid()\n"
     ]
    },
    {
     "name": "stderr",
     "output_type": "stream",
     "text": [
      " 67%|██████▋   | 20/30 [6:46:13<1:33:16, 559.61s/it]"
     ]
    },
    {
     "name": "stdout",
     "output_type": "stream",
     "text": [
      "NuSVC()\n"
     ]
    },
    {
     "name": "stderr",
     "output_type": "stream",
     "text": [
      " 70%|███████   | 21/30 [7:38:47<3:20:45, 1338.38s/it]"
     ]
    },
    {
     "name": "stdout",
     "output_type": "stream",
     "text": [
      "PassiveAggressiveClassifier()\n"
     ]
    },
    {
     "name": "stderr",
     "output_type": "stream",
     "text": [
      " 73%|███████▎  | 22/30 [7:38:51<2:05:02, 937.87s/it] "
     ]
    },
    {
     "name": "stdout",
     "output_type": "stream",
     "text": [
      "Perceptron()\n"
     ]
    },
    {
     "name": "stderr",
     "output_type": "stream",
     "text": [
      " 77%|███████▋  | 23/30 [7:38:55<1:16:42, 657.50s/it]"
     ]
    },
    {
     "name": "stdout",
     "output_type": "stream",
     "text": [
      "QuadraticDiscriminantAnalysis()\n"
     ]
    },
    {
     "name": "stderr",
     "output_type": "stream",
     "text": [
      " 80%|████████  | 24/30 [7:38:58<46:08, 461.34s/it]  "
     ]
    },
    {
     "name": "stdout",
     "output_type": "stream",
     "text": [
      "RadiusNeighborsClassifier()\n"
     ]
    },
    {
     "name": "stderr",
     "output_type": "stream",
     "text": [
      " 83%|████████▎ | 25/30 [7:39:50<28:12, 338.47s/it]"
     ]
    },
    {
     "name": "stdout",
     "output_type": "stream",
     "text": [
      "RandomForestClassifier()\n"
     ]
    },
    {
     "name": "stderr",
     "output_type": "stream",
     "text": [
      " 87%|████████▋ | 26/30 [7:42:48<19:20, 290.10s/it]"
     ]
    },
    {
     "name": "stdout",
     "output_type": "stream",
     "text": [
      "RidgeClassifier()\n"
     ]
    },
    {
     "name": "stderr",
     "output_type": "stream",
     "text": [
      " 90%|█████████ | 27/30 [7:42:51<10:11, 203.95s/it]"
     ]
    },
    {
     "name": "stdout",
     "output_type": "stream",
     "text": [
      "RidgeClassifierCV()\n"
     ]
    },
    {
     "name": "stderr",
     "output_type": "stream",
     "text": [
      " 93%|█████████▎| 28/30 [7:42:55<04:47, 143.98s/it]"
     ]
    },
    {
     "name": "stdout",
     "output_type": "stream",
     "text": [
      "SGDClassifier()\n"
     ]
    },
    {
     "name": "stderr",
     "output_type": "stream",
     "text": [
      " 97%|█████████▋| 29/30 [7:43:02<01:42, 102.99s/it]"
     ]
    },
    {
     "name": "stdout",
     "output_type": "stream",
     "text": [
      "SVC()\n"
     ]
    },
    {
     "name": "stderr",
     "output_type": "stream",
     "text": [
      "100%|██████████| 30/30 [8:04:02<00:00, 968.09s/it]\n"
     ]
    },
    {
     "data": {
      "text/html": [
       "<div>\n",
       "<style scoped>\n",
       "    .dataframe tbody tr th:only-of-type {\n",
       "        vertical-align: middle;\n",
       "    }\n",
       "\n",
       "    .dataframe tbody tr th {\n",
       "        vertical-align: top;\n",
       "    }\n",
       "\n",
       "    .dataframe thead th {\n",
       "        text-align: right;\n",
       "    }\n",
       "</style>\n",
       "<table border=\"1\" class=\"dataframe\">\n",
       "  <thead>\n",
       "    <tr style=\"text-align: right;\">\n",
       "      <th></th>\n",
       "      <th>Model</th>\n",
       "      <th>accuracy</th>\n",
       "      <th>balanced_accuracy</th>\n",
       "      <th>f1</th>\n",
       "      <th>precision</th>\n",
       "      <th>recall</th>\n",
       "    </tr>\n",
       "  </thead>\n",
       "  <tbody>\n",
       "    <tr>\n",
       "      <th>0</th>\n",
       "      <td>BernoulliNB</td>\n",
       "      <td>0.770950</td>\n",
       "      <td>0.735345</td>\n",
       "      <td>0.304838</td>\n",
       "      <td>0.195345</td>\n",
       "      <td>0.693713</td>\n",
       "    </tr>\n",
       "    <tr>\n",
       "      <th>1</th>\n",
       "      <td>DecisionTreeClassifier</td>\n",
       "      <td>0.904750</td>\n",
       "      <td>0.715146</td>\n",
       "      <td>0.428611</td>\n",
       "      <td>0.379082</td>\n",
       "      <td>0.493439</td>\n",
       "    </tr>\n",
       "    <tr>\n",
       "      <th>2</th>\n",
       "      <td>DummyClassifier</td>\n",
       "      <td>0.927600</td>\n",
       "      <td>0.500000</td>\n",
       "      <td>0.000000</td>\n",
       "      <td>0.000000</td>\n",
       "      <td>0.000000</td>\n",
       "    </tr>\n",
       "    <tr>\n",
       "      <th>3</th>\n",
       "      <td>ExtraTreeClassifier</td>\n",
       "      <td>0.890625</td>\n",
       "      <td>0.665037</td>\n",
       "      <td>0.346765</td>\n",
       "      <td>0.305704</td>\n",
       "      <td>0.401252</td>\n",
       "    </tr>\n",
       "    <tr>\n",
       "      <th>4</th>\n",
       "      <td>ExtraTreesClassifier</td>\n",
       "      <td>0.928475</td>\n",
       "      <td>0.668557</td>\n",
       "      <td>0.424450</td>\n",
       "      <td>0.508273</td>\n",
       "      <td>0.364632</td>\n",
       "    </tr>\n",
       "    <tr>\n",
       "      <th>5</th>\n",
       "      <td>GaussianNB</td>\n",
       "      <td>0.549425</td>\n",
       "      <td>0.665607</td>\n",
       "      <td>0.205073</td>\n",
       "      <td>0.117598</td>\n",
       "      <td>0.801460</td>\n",
       "    </tr>\n",
       "    <tr>\n",
       "      <th>6</th>\n",
       "      <td>HistGradientBoostingClassifier</td>\n",
       "      <td>0.929775</td>\n",
       "      <td>0.795017</td>\n",
       "      <td>0.567934</td>\n",
       "      <td>0.512504</td>\n",
       "      <td>0.637441</td>\n",
       "    </tr>\n",
       "    <tr>\n",
       "      <th>7</th>\n",
       "      <td>KNeighborsClassifier</td>\n",
       "      <td>0.885925</td>\n",
       "      <td>0.811649</td>\n",
       "      <td>0.479425</td>\n",
       "      <td>0.358330</td>\n",
       "      <td>0.724797</td>\n",
       "    </tr>\n",
       "    <tr>\n",
       "      <th>8</th>\n",
       "      <td>LabelPropagation</td>\n",
       "      <td>NaN</td>\n",
       "      <td>NaN</td>\n",
       "      <td>NaN</td>\n",
       "      <td>NaN</td>\n",
       "      <td>NaN</td>\n",
       "    </tr>\n",
       "    <tr>\n",
       "      <th>9</th>\n",
       "      <td>LinearDiscriminantAnalysis</td>\n",
       "      <td>0.863175</td>\n",
       "      <td>0.803203</td>\n",
       "      <td>0.436909</td>\n",
       "      <td>0.311193</td>\n",
       "      <td>0.733077</td>\n",
       "    </tr>\n",
       "    <tr>\n",
       "      <th>10</th>\n",
       "      <td>LinearSVC</td>\n",
       "      <td>0.853950</td>\n",
       "      <td>0.812716</td>\n",
       "      <td>0.431182</td>\n",
       "      <td>0.300271</td>\n",
       "      <td>0.764501</td>\n",
       "    </tr>\n",
       "    <tr>\n",
       "      <th>11</th>\n",
       "      <td>LogisticRegression</td>\n",
       "      <td>0.847725</td>\n",
       "      <td>0.813818</td>\n",
       "      <td>0.424024</td>\n",
       "      <td>0.291976</td>\n",
       "      <td>0.774170</td>\n",
       "    </tr>\n",
       "    <tr>\n",
       "      <th>12</th>\n",
       "      <td>LogisticRegressionCV</td>\n",
       "      <td>0.849050</td>\n",
       "      <td>0.814054</td>\n",
       "      <td>0.425821</td>\n",
       "      <td>0.293832</td>\n",
       "      <td>0.773133</td>\n",
       "    </tr>\n",
       "    <tr>\n",
       "      <th>13</th>\n",
       "      <td>MLPClassifier</td>\n",
       "      <td>0.900025</td>\n",
       "      <td>0.768311</td>\n",
       "      <td>0.470834</td>\n",
       "      <td>0.383020</td>\n",
       "      <td>0.614296</td>\n",
       "    </tr>\n",
       "    <tr>\n",
       "      <th>14</th>\n",
       "      <td>NearestCentroid</td>\n",
       "      <td>0.789150</td>\n",
       "      <td>0.744999</td>\n",
       "      <td>0.323337</td>\n",
       "      <td>0.210955</td>\n",
       "      <td>0.693373</td>\n",
       "    </tr>\n",
       "    <tr>\n",
       "      <th>15</th>\n",
       "      <td>NuSVC</td>\n",
       "      <td>0.861975</td>\n",
       "      <td>0.828187</td>\n",
       "      <td>0.452817</td>\n",
       "      <td>0.317589</td>\n",
       "      <td>0.788678</td>\n",
       "    </tr>\n",
       "    <tr>\n",
       "      <th>16</th>\n",
       "      <td>PassiveAggressiveClassifier</td>\n",
       "      <td>0.850500</td>\n",
       "      <td>0.717799</td>\n",
       "      <td>0.353710</td>\n",
       "      <td>0.293417</td>\n",
       "      <td>0.562617</td>\n",
       "    </tr>\n",
       "    <tr>\n",
       "      <th>17</th>\n",
       "      <td>Perceptron</td>\n",
       "      <td>0.615550</td>\n",
       "      <td>0.735465</td>\n",
       "      <td>0.273362</td>\n",
       "      <td>0.168471</td>\n",
       "      <td>0.875684</td>\n",
       "    </tr>\n",
       "    <tr>\n",
       "      <th>18</th>\n",
       "      <td>QuadraticDiscriminantAnalysis</td>\n",
       "      <td>0.742850</td>\n",
       "      <td>0.555478</td>\n",
       "      <td>0.152061</td>\n",
       "      <td>0.115897</td>\n",
       "      <td>0.336373</td>\n",
       "    </tr>\n",
       "    <tr>\n",
       "      <th>19</th>\n",
       "      <td>RadiusNeighborsClassifier</td>\n",
       "      <td>NaN</td>\n",
       "      <td>NaN</td>\n",
       "      <td>NaN</td>\n",
       "      <td>NaN</td>\n",
       "      <td>NaN</td>\n",
       "    </tr>\n",
       "    <tr>\n",
       "      <th>20</th>\n",
       "      <td>RandomForestClassifier</td>\n",
       "      <td>0.926500</td>\n",
       "      <td>0.724482</td>\n",
       "      <td>0.490219</td>\n",
       "      <td>0.492273</td>\n",
       "      <td>0.488258</td>\n",
       "    </tr>\n",
       "    <tr>\n",
       "      <th>21</th>\n",
       "      <td>RidgeClassifier</td>\n",
       "      <td>0.863325</td>\n",
       "      <td>0.803443</td>\n",
       "      <td>0.437295</td>\n",
       "      <td>0.311529</td>\n",
       "      <td>0.733422</td>\n",
       "    </tr>\n",
       "    <tr>\n",
       "      <th>22</th>\n",
       "      <td>RidgeClassifierCV</td>\n",
       "      <td>0.863325</td>\n",
       "      <td>0.803603</td>\n",
       "      <td>0.437415</td>\n",
       "      <td>0.311595</td>\n",
       "      <td>0.733769</td>\n",
       "    </tr>\n",
       "    <tr>\n",
       "      <th>23</th>\n",
       "      <td>SGDClassifier</td>\n",
       "      <td>0.838350</td>\n",
       "      <td>0.811955</td>\n",
       "      <td>0.414540</td>\n",
       "      <td>0.283864</td>\n",
       "      <td>0.781090</td>\n",
       "    </tr>\n",
       "    <tr>\n",
       "      <th>24</th>\n",
       "      <td>SVC</td>\n",
       "      <td>0.854125</td>\n",
       "      <td>0.849745</td>\n",
       "      <td>0.456077</td>\n",
       "      <td>0.312385</td>\n",
       "      <td>0.844623</td>\n",
       "    </tr>\n",
       "  </tbody>\n",
       "</table>\n",
       "</div>"
      ],
      "text/plain": [
       "                             Model  accuracy  balanced_accuracy        f1  \\\n",
       "0                      BernoulliNB  0.770950           0.735345  0.304838   \n",
       "1           DecisionTreeClassifier  0.904750           0.715146  0.428611   \n",
       "2                  DummyClassifier  0.927600           0.500000  0.000000   \n",
       "3              ExtraTreeClassifier  0.890625           0.665037  0.346765   \n",
       "4             ExtraTreesClassifier  0.928475           0.668557  0.424450   \n",
       "5                       GaussianNB  0.549425           0.665607  0.205073   \n",
       "6   HistGradientBoostingClassifier  0.929775           0.795017  0.567934   \n",
       "7             KNeighborsClassifier  0.885925           0.811649  0.479425   \n",
       "8                 LabelPropagation       NaN                NaN       NaN   \n",
       "9       LinearDiscriminantAnalysis  0.863175           0.803203  0.436909   \n",
       "10                       LinearSVC  0.853950           0.812716  0.431182   \n",
       "11              LogisticRegression  0.847725           0.813818  0.424024   \n",
       "12            LogisticRegressionCV  0.849050           0.814054  0.425821   \n",
       "13                   MLPClassifier  0.900025           0.768311  0.470834   \n",
       "14                 NearestCentroid  0.789150           0.744999  0.323337   \n",
       "15                           NuSVC  0.861975           0.828187  0.452817   \n",
       "16     PassiveAggressiveClassifier  0.850500           0.717799  0.353710   \n",
       "17                      Perceptron  0.615550           0.735465  0.273362   \n",
       "18   QuadraticDiscriminantAnalysis  0.742850           0.555478  0.152061   \n",
       "19       RadiusNeighborsClassifier       NaN                NaN       NaN   \n",
       "20          RandomForestClassifier  0.926500           0.724482  0.490219   \n",
       "21                 RidgeClassifier  0.863325           0.803443  0.437295   \n",
       "22               RidgeClassifierCV  0.863325           0.803603  0.437415   \n",
       "23                   SGDClassifier  0.838350           0.811955  0.414540   \n",
       "24                             SVC  0.854125           0.849745  0.456077   \n",
       "\n",
       "    precision    recall  \n",
       "0    0.195345  0.693713  \n",
       "1    0.379082  0.493439  \n",
       "2    0.000000  0.000000  \n",
       "3    0.305704  0.401252  \n",
       "4    0.508273  0.364632  \n",
       "5    0.117598  0.801460  \n",
       "6    0.512504  0.637441  \n",
       "7    0.358330  0.724797  \n",
       "8         NaN       NaN  \n",
       "9    0.311193  0.733077  \n",
       "10   0.300271  0.764501  \n",
       "11   0.291976  0.774170  \n",
       "12   0.293832  0.773133  \n",
       "13   0.383020  0.614296  \n",
       "14   0.210955  0.693373  \n",
       "15   0.317589  0.788678  \n",
       "16   0.293417  0.562617  \n",
       "17   0.168471  0.875684  \n",
       "18   0.115897  0.336373  \n",
       "19        NaN       NaN  \n",
       "20   0.492273  0.488258  \n",
       "21   0.311529  0.733422  \n",
       "22   0.311595  0.733769  \n",
       "23   0.283864  0.781090  \n",
       "24   0.312385  0.844623  "
      ]
     },
     "execution_count": 10,
     "metadata": {},
     "output_type": "execute_result"
    }
   ],
   "source": [
    "from imblearn.over_sampling import SMOTE\n",
    "from imblearn.pipeline import Pipeline\n",
    "\n",
    "def run_experiment(df : DataFrame, preprocessor: TransformerMixin, task : Literal['classifier', 'regressor'], eval_metrics: List[str], target : str = 'y') -> DataFrame:\n",
    "    X, y = df.drop(target, axis=1), df[target]\n",
    "    y = LabelBinarizer().fit_transform(y)\n",
    "   \n",
    "    models = get_model(task=task)\n",
    "\n",
    "    experiment = []\n",
    "\n",
    "    for model in tqdm(models):\n",
    "        print(model)\n",
    "        try:\n",
    "            clf = Pipeline(steps=[(\"preprocessor\", preprocessor), (\"smote\", SMOTE()), (\"classifier\", model)])\n",
    "            # print(clf)\n",
    "            scores = cross_validate(estimator=clf, X=X, y=y, cv=StratifiedKFold(n_splits=5, random_state=42, shuffle=True), scoring=eval_metrics)\n",
    "            # print(scores)\n",
    "            avg_perf = [scores[f'test_{metric_name}'].mean() for metric_name in eval_metrics]\n",
    "\n",
    "            experiment.append([model.__class__.__name__, *avg_perf])\n",
    "\n",
    "        except ValueError as e:\n",
    "            ...\n",
    "    return DataFrame(data=experiment, columns=['Model', *eval_metrics])\n",
    "\n",
    "##RUN\n",
    "result = run_experiment(data, preprocessor,'classifier', eval_metrics=['accuracy', 'balanced_accuracy', 'f1', 'precision', 'recall'])\n",
    "result"
   ]
  },
  {
   "cell_type": "markdown",
   "metadata": {},
   "source": [
    "#### Feature selection - SequentialFeatureSelector + CATEGORICALNB"
   ]
  },
  {
   "cell_type": "markdown",
   "metadata": {},
   "source": [
    "<p>As we aim to identify the minimal set of features that can explain the target variable Y without manually setting or determining the minimum number of features needed to achieve a 73% accuracy, it's more convenient to consider feature selection methods such as Boruta, Recursive Feature Selection with cross-validation (RFECV), and Sequential Feature Selection (SFS). [Great news : Some of these approaches are greedy but we are lucky, the dataset is quite small..same as the feature space]\n",
    "\n",
    "With a method like SFS, the search direction can be either backward or forward. Since our goal is to find a minimal set of features, it's advisable to use a backward selection, starting with the entire set of features and iteratively remove features that contribute less to the model's performance.\n",
    "\n",
    "It's also worth noting that, thanks to exploratory data analysis (EDA) and the correlation matrix, we might have already considered exploring X1, X2, and X5 as potentially relevant features.\"\n",
    "\n",
    "NOTE : I am using categoricalNB, because it seemas to overfit less from previous step.\n",
    "\n",
    "</p>"
   ]
  },
  {
   "cell_type": "code",
   "execution_count": 5,
   "metadata": {},
   "outputs": [
    {
     "name": "stdout",
     "output_type": "stream",
     "text": [
      "MOST IMPORTANT FEATURES: ['X1' 'X2' 'X5']\n"
     ]
    }
   ],
   "source": [
    "from sklearn.feature_selection import SequentialFeatureSelector\n",
    "from sklearn.naive_bayes import CategoricalNB\n",
    "from sklearn.base import BaseEstimator\n",
    "\n",
    "def select_features(X : DataFrame, y: DataFrame, estimator: BaseEstimator) -> SequentialFeatureSelector:\n",
    "    return SequentialFeatureSelector(estimator=estimator, n_features_to_select=\"auto\",scoring='accuracy', direction=\"backward\").fit(X, y)\n",
    "\n",
    "\n",
    "fs = select_features(X=X_train, y=y_train, estimator=CategoricalNB())\n",
    "\n",
    "print(f\"MOST IMPORTANT FEATURES: {fs.get_feature_names_out()}\")"
   ]
  },
  {
   "cell_type": "code",
   "execution_count": 6,
   "metadata": {},
   "outputs": [
    {
     "name": "stdout",
     "output_type": "stream",
     "text": [
      "(100, 3) (26, 3)\n"
     ]
    }
   ],
   "source": [
    "X_train, X_test = list(map(fs.transform, [X_train, X_test]))\n",
    "print(X_train.shape, X_test.shape)"
   ]
  },
  {
   "cell_type": "code",
   "execution_count": 7,
   "metadata": {},
   "outputs": [
    {
     "data": {
      "text/html": [
       "<div>\n",
       "<style scoped>\n",
       "    .dataframe tbody tr th:only-of-type {\n",
       "        vertical-align: middle;\n",
       "    }\n",
       "\n",
       "    .dataframe tbody tr th {\n",
       "        vertical-align: top;\n",
       "    }\n",
       "\n",
       "    .dataframe thead th {\n",
       "        text-align: right;\n",
       "    }\n",
       "</style>\n",
       "<table border=\"1\" class=\"dataframe\">\n",
       "  <thead>\n",
       "    <tr style=\"text-align: right;\">\n",
       "      <th></th>\n",
       "      <th>MODEL</th>\n",
       "      <th>TRAIN ACC</th>\n",
       "      <th>TEST ACC</th>\n",
       "      <th>DURATION (SECONDS)</th>\n",
       "    </tr>\n",
       "  </thead>\n",
       "  <tbody>\n",
       "    <tr>\n",
       "      <th>3</th>\n",
       "      <td>DecisionTreeClassifier</td>\n",
       "      <td>0.82</td>\n",
       "      <td>0.846154</td>\n",
       "      <td>0.006182</td>\n",
       "    </tr>\n",
       "    <tr>\n",
       "      <th>25</th>\n",
       "      <td>RandomForestClassifier</td>\n",
       "      <td>0.82</td>\n",
       "      <td>0.846154</td>\n",
       "      <td>0.599099</td>\n",
       "    </tr>\n",
       "    <tr>\n",
       "      <th>12</th>\n",
       "      <td>LabelSpreading</td>\n",
       "      <td>0.82</td>\n",
       "      <td>0.846154</td>\n",
       "      <td>0.007594</td>\n",
       "    </tr>\n",
       "    <tr>\n",
       "      <th>11</th>\n",
       "      <td>LabelPropagation</td>\n",
       "      <td>0.82</td>\n",
       "      <td>0.846154</td>\n",
       "      <td>0.012365</td>\n",
       "    </tr>\n",
       "    <tr>\n",
       "      <th>6</th>\n",
       "      <td>ExtraTreesClassifier</td>\n",
       "      <td>0.82</td>\n",
       "      <td>0.807692</td>\n",
       "      <td>0.412812</td>\n",
       "    </tr>\n",
       "    <tr>\n",
       "      <th>8</th>\n",
       "      <td>GaussianProcessClassifier</td>\n",
       "      <td>0.75</td>\n",
       "      <td>0.807692</td>\n",
       "      <td>0.009373</td>\n",
       "    </tr>\n",
       "    <tr>\n",
       "      <th>20</th>\n",
       "      <td>NuSVC</td>\n",
       "      <td>0.79</td>\n",
       "      <td>0.769231</td>\n",
       "      <td>0.015816</td>\n",
       "    </tr>\n",
       "    <tr>\n",
       "      <th>10</th>\n",
       "      <td>KNeighborsClassifier</td>\n",
       "      <td>0.71</td>\n",
       "      <td>0.769231</td>\n",
       "      <td>0.012657</td>\n",
       "    </tr>\n",
       "    <tr>\n",
       "      <th>24</th>\n",
       "      <td>RadiusNeighborsClassifier</td>\n",
       "      <td>0.70</td>\n",
       "      <td>0.769231</td>\n",
       "      <td>0.008663</td>\n",
       "    </tr>\n",
       "    <tr>\n",
       "      <th>5</th>\n",
       "      <td>ExtraTreeClassifier</td>\n",
       "      <td>0.82</td>\n",
       "      <td>0.769231</td>\n",
       "      <td>0.007755</td>\n",
       "    </tr>\n",
       "    <tr>\n",
       "      <th>9</th>\n",
       "      <td>HistGradientBoostingClassifier</td>\n",
       "      <td>0.66</td>\n",
       "      <td>0.730769</td>\n",
       "      <td>0.133440</td>\n",
       "    </tr>\n",
       "    <tr>\n",
       "      <th>17</th>\n",
       "      <td>MLPClassifier</td>\n",
       "      <td>0.68</td>\n",
       "      <td>0.692308</td>\n",
       "      <td>0.352473</td>\n",
       "    </tr>\n",
       "    <tr>\n",
       "      <th>7</th>\n",
       "      <td>GaussianNB</td>\n",
       "      <td>0.61</td>\n",
       "      <td>0.653846</td>\n",
       "      <td>0.009722</td>\n",
       "    </tr>\n",
       "    <tr>\n",
       "      <th>1</th>\n",
       "      <td>CategoricalNB</td>\n",
       "      <td>0.61</td>\n",
       "      <td>0.653846</td>\n",
       "      <td>0.007044</td>\n",
       "    </tr>\n",
       "    <tr>\n",
       "      <th>29</th>\n",
       "      <td>SVC</td>\n",
       "      <td>0.65</td>\n",
       "      <td>0.653846</td>\n",
       "      <td>0.006500</td>\n",
       "    </tr>\n",
       "    <tr>\n",
       "      <th>19</th>\n",
       "      <td>NearestCentroid</td>\n",
       "      <td>0.60</td>\n",
       "      <td>0.615385</td>\n",
       "      <td>0.016646</td>\n",
       "    </tr>\n",
       "    <tr>\n",
       "      <th>26</th>\n",
       "      <td>RidgeClassifier</td>\n",
       "      <td>0.58</td>\n",
       "      <td>0.615385</td>\n",
       "      <td>0.000000</td>\n",
       "    </tr>\n",
       "    <tr>\n",
       "      <th>27</th>\n",
       "      <td>RidgeClassifierCV</td>\n",
       "      <td>0.58</td>\n",
       "      <td>0.615385</td>\n",
       "      <td>0.019958</td>\n",
       "    </tr>\n",
       "    <tr>\n",
       "      <th>23</th>\n",
       "      <td>QuadraticDiscriminantAnalysis</td>\n",
       "      <td>0.58</td>\n",
       "      <td>0.615385</td>\n",
       "      <td>0.004070</td>\n",
       "    </tr>\n",
       "    <tr>\n",
       "      <th>15</th>\n",
       "      <td>LogisticRegression</td>\n",
       "      <td>0.58</td>\n",
       "      <td>0.615385</td>\n",
       "      <td>0.011220</td>\n",
       "    </tr>\n",
       "    <tr>\n",
       "      <th>16</th>\n",
       "      <td>LogisticRegressionCV</td>\n",
       "      <td>0.58</td>\n",
       "      <td>0.615385</td>\n",
       "      <td>0.378289</td>\n",
       "    </tr>\n",
       "    <tr>\n",
       "      <th>14</th>\n",
       "      <td>LinearSVC</td>\n",
       "      <td>0.58</td>\n",
       "      <td>0.615385</td>\n",
       "      <td>0.016441</td>\n",
       "    </tr>\n",
       "    <tr>\n",
       "      <th>13</th>\n",
       "      <td>LinearDiscriminantAnalysis</td>\n",
       "      <td>0.58</td>\n",
       "      <td>0.615385</td>\n",
       "      <td>0.005481</td>\n",
       "    </tr>\n",
       "    <tr>\n",
       "      <th>18</th>\n",
       "      <td>MultinomialNB</td>\n",
       "      <td>0.58</td>\n",
       "      <td>0.538462</td>\n",
       "      <td>0.016088</td>\n",
       "    </tr>\n",
       "    <tr>\n",
       "      <th>21</th>\n",
       "      <td>PassiveAggressiveClassifier</td>\n",
       "      <td>0.56</td>\n",
       "      <td>0.538462</td>\n",
       "      <td>0.004466</td>\n",
       "    </tr>\n",
       "    <tr>\n",
       "      <th>22</th>\n",
       "      <td>Perceptron</td>\n",
       "      <td>0.58</td>\n",
       "      <td>0.538462</td>\n",
       "      <td>0.005698</td>\n",
       "    </tr>\n",
       "    <tr>\n",
       "      <th>4</th>\n",
       "      <td>DummyClassifier</td>\n",
       "      <td>0.55</td>\n",
       "      <td>0.538462</td>\n",
       "      <td>0.003513</td>\n",
       "    </tr>\n",
       "    <tr>\n",
       "      <th>0</th>\n",
       "      <td>BernoulliNB</td>\n",
       "      <td>0.55</td>\n",
       "      <td>0.538462</td>\n",
       "      <td>0.009966</td>\n",
       "    </tr>\n",
       "    <tr>\n",
       "      <th>2</th>\n",
       "      <td>ComplementNB</td>\n",
       "      <td>0.50</td>\n",
       "      <td>0.500000</td>\n",
       "      <td>0.006620</td>\n",
       "    </tr>\n",
       "    <tr>\n",
       "      <th>28</th>\n",
       "      <td>SGDClassifier</td>\n",
       "      <td>0.51</td>\n",
       "      <td>0.500000</td>\n",
       "      <td>0.005850</td>\n",
       "    </tr>\n",
       "  </tbody>\n",
       "</table>\n",
       "</div>"
      ],
      "text/plain": [
       "                             MODEL  TRAIN ACC  TEST ACC  DURATION (SECONDS)\n",
       "3           DecisionTreeClassifier       0.82  0.846154            0.006182\n",
       "25          RandomForestClassifier       0.82  0.846154            0.599099\n",
       "12                  LabelSpreading       0.82  0.846154            0.007594\n",
       "11                LabelPropagation       0.82  0.846154            0.012365\n",
       "6             ExtraTreesClassifier       0.82  0.807692            0.412812\n",
       "8        GaussianProcessClassifier       0.75  0.807692            0.009373\n",
       "20                           NuSVC       0.79  0.769231            0.015816\n",
       "10            KNeighborsClassifier       0.71  0.769231            0.012657\n",
       "24       RadiusNeighborsClassifier       0.70  0.769231            0.008663\n",
       "5              ExtraTreeClassifier       0.82  0.769231            0.007755\n",
       "9   HistGradientBoostingClassifier       0.66  0.730769            0.133440\n",
       "17                   MLPClassifier       0.68  0.692308            0.352473\n",
       "7                       GaussianNB       0.61  0.653846            0.009722\n",
       "1                    CategoricalNB       0.61  0.653846            0.007044\n",
       "29                             SVC       0.65  0.653846            0.006500\n",
       "19                 NearestCentroid       0.60  0.615385            0.016646\n",
       "26                 RidgeClassifier       0.58  0.615385            0.000000\n",
       "27               RidgeClassifierCV       0.58  0.615385            0.019958\n",
       "23   QuadraticDiscriminantAnalysis       0.58  0.615385            0.004070\n",
       "15              LogisticRegression       0.58  0.615385            0.011220\n",
       "16            LogisticRegressionCV       0.58  0.615385            0.378289\n",
       "14                       LinearSVC       0.58  0.615385            0.016441\n",
       "13      LinearDiscriminantAnalysis       0.58  0.615385            0.005481\n",
       "18                   MultinomialNB       0.58  0.538462            0.016088\n",
       "21     PassiveAggressiveClassifier       0.56  0.538462            0.004466\n",
       "22                      Perceptron       0.58  0.538462            0.005698\n",
       "4                  DummyClassifier       0.55  0.538462            0.003513\n",
       "0                      BernoulliNB       0.55  0.538462            0.009966\n",
       "2                     ComplementNB       0.50  0.500000            0.006620\n",
       "28                   SGDClassifier       0.51  0.500000            0.005850"
      ]
     },
     "execution_count": 7,
     "metadata": {},
     "output_type": "execute_result"
    }
   ],
   "source": [
    "results, fitted_models = run_experiment(partitions=[X_train,X_test, y_train, y_test], task=TYPE_TASK)\n",
    "results"
   ]
  },
  {
   "cell_type": "markdown",
   "metadata": {},
   "source": [
    "#### Feature importance -- DECISION TREE CLASSIFIER"
   ]
  },
  {
   "cell_type": "code",
   "execution_count": 8,
   "metadata": {},
   "outputs": [
    {
     "name": "stdout",
     "output_type": "stream",
     "text": [
      "X5      0.250 +/- 0.043\n",
      "X1      0.201 +/- 0.035\n",
      "X2      0.193 +/- 0.034\n"
     ]
    }
   ],
   "source": [
    "from sklearn.inspection import permutation_importance\n",
    "\n",
    "BEST_FITTED_MODEL = fitted_models['DecisionTreeClassifier']\n",
    "r = permutation_importance(BEST_FITTED_MODEL, X=X_train, y=y_train,\n",
    "                           n_repeats=30,\n",
    "                           random_state=SEED,\n",
    "                           scoring='accuracy')\n",
    "\n",
    "for i in r.importances_mean.argsort()[::-1]:\n",
    "    if r.importances_mean[i] - 2 * r.importances_std[i] > 0:\n",
    "        print(f\"{fs.get_feature_names_out()[i]:<8}\"\n",
    "              f\"{r.importances_mean[i]:.3f}\"\n",
    "              f\" +/- {r.importances_std[i]:.3f}\")"
   ]
  },
  {
   "cell_type": "code",
   "execution_count": 9,
   "metadata": {},
   "outputs": [
    {
     "data": {
      "text/plain": [
       "<sklearn.metrics._plot.confusion_matrix.ConfusionMatrixDisplay at 0x13941bc1a90>"
      ]
     },
     "execution_count": 9,
     "metadata": {},
     "output_type": "execute_result"
    },
    {
     "data": {
      "image/png": "[encoded data removed]",
      "text/plain": [
       "<Figure size 640x480 with 2 Axes>"
      ]
     },
     "metadata": {},
     "output_type": "display_data"
    }
   ],
   "source": [
    "from sklearn.metrics import confusion_matrix, ConfusionMatrixDisplay\n",
    "\n",
    "predictions = BEST_FITTED_MODEL.predict(X_test)\n",
    "conf_mat  = confusion_matrix(y_true=y_test, y_pred=predictions)\n",
    "\n",
    "ConfusionMatrixDisplay(confusion_matrix=conf_mat).plot()"
   ]
  },
  {
   "cell_type": "markdown",
   "metadata": {},
   "source": [
    "#### Classification report"
   ]
  },
  {
   "cell_type": "code",
   "execution_count": 11,
   "metadata": {},
   "outputs": [
    {
     "data": {
      "text/html": [
       "<div>\n",
       "<style scoped>\n",
       "    .dataframe tbody tr th:only-of-type {\n",
       "        vertical-align: middle;\n",
       "    }\n",
       "\n",
       "    .dataframe tbody tr th {\n",
       "        vertical-align: top;\n",
       "    }\n",
       "\n",
       "    .dataframe thead th {\n",
       "        text-align: right;\n",
       "    }\n",
       "</style>\n",
       "<table border=\"1\" class=\"dataframe\">\n",
       "  <thead>\n",
       "    <tr style=\"text-align: right;\">\n",
       "      <th></th>\n",
       "      <th>precision</th>\n",
       "      <th>recall</th>\n",
       "      <th>f1-score</th>\n",
       "      <th>support</th>\n",
       "    </tr>\n",
       "  </thead>\n",
       "  <tbody>\n",
       "    <tr>\n",
       "      <th>0</th>\n",
       "      <td>0.785714</td>\n",
       "      <td>0.916667</td>\n",
       "      <td>0.846154</td>\n",
       "      <td>12.000000</td>\n",
       "    </tr>\n",
       "    <tr>\n",
       "      <th>1</th>\n",
       "      <td>0.916667</td>\n",
       "      <td>0.785714</td>\n",
       "      <td>0.846154</td>\n",
       "      <td>14.000000</td>\n",
       "    </tr>\n",
       "    <tr>\n",
       "      <th>accuracy</th>\n",
       "      <td>0.846154</td>\n",
       "      <td>0.846154</td>\n",
       "      <td>0.846154</td>\n",
       "      <td>0.846154</td>\n",
       "    </tr>\n",
       "    <tr>\n",
       "      <th>macro avg</th>\n",
       "      <td>0.851190</td>\n",
       "      <td>0.851190</td>\n",
       "      <td>0.846154</td>\n",
       "      <td>26.000000</td>\n",
       "    </tr>\n",
       "    <tr>\n",
       "      <th>weighted avg</th>\n",
       "      <td>0.856227</td>\n",
       "      <td>0.846154</td>\n",
       "      <td>0.846154</td>\n",
       "      <td>26.000000</td>\n",
       "    </tr>\n",
       "  </tbody>\n",
       "</table>\n",
       "</div>"
      ],
      "text/plain": [
       "              precision    recall  f1-score    support\n",
       "0              0.785714  0.916667  0.846154  12.000000\n",
       "1              0.916667  0.785714  0.846154  14.000000\n",
       "accuracy       0.846154  0.846154  0.846154   0.846154\n",
       "macro avg      0.851190  0.851190  0.846154  26.000000\n",
       "weighted avg   0.856227  0.846154  0.846154  26.000000"
      ]
     },
     "execution_count": 11,
     "metadata": {},
     "output_type": "execute_result"
    }
   ],
   "source": [
    "from sklearn.metrics import classification_report\n",
    "\n",
    "report = classification_report(y_test, predictions, output_dict=True)\n",
    "df_classification_report = DataFrame(report).transpose()\n",
    "df_classification_report.sort_values(by=['f1-score'], ascending=False, inplace=True)\n",
    "df_classification_report"
   ]
  },
  {
   "cell_type": "markdown",
   "metadata": {},
   "source": [
    "#### SAVE MODEL\n",
    "---"
   ]
  },
  {
   "cell_type": "code",
   "execution_count": 12,
   "metadata": {},
   "outputs": [],
   "source": [
    "save_model(fitted_model=BEST_FITTED_MODEL, filepath='acme_best_model.jb')"
   ]
  }
 ],
 "metadata": {
  "kernelspec": {
   "display_name": "base",
   "language": "python",
   "name": "python3"
  },
  "language_info": {
   "codemirror_mode": {
    "name": "ipython",
    "version": 3
   },
   "file_extension": ".py",
   "mimetype": "text/x-python",
   "name": "python",
   "nbconvert_exporter": "python",
   "pygments_lexer": "ipython3",
   "version": "3.11.4"
  },
  "orig_nbformat": 4
 },
 "nbformat": 4,
 "nbformat_minor": 2
}
